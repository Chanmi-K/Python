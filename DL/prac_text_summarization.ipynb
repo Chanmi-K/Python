{
  "nbformat": 4,
  "nbformat_minor": 0,
  "metadata": {
    "colab": {
      "name": "prac_text_summarization",
      "provenance": [],
      "collapsed_sections": []
    },
    "kernelspec": {
      "name": "python3",
      "display_name": "Python 3"
    },
    "language_info": {
      "name": "python"
    },
    "accelerator": "GPU",
    "gpuClass": "standard"
  },
  "cells": [
    {
      "cell_type": "markdown",
      "source": [
        "# 임포트"
      ],
      "metadata": {
        "id": "pJNk1G0-wLKU"
      }
    },
    {
      "cell_type": "code",
      "source": [
        "import numpy as np\n",
        "import pandas as pd\n",
        "import re\n",
        "import matplotlib.pyplot as plt\n",
        "from nltk.corpus import stopwords\n",
        "from bs4 import BeautifulSoup\n",
        "from tensorflow.keras.preprocessing.text import Tokenizer\n",
        "from tensorflow.keras.preprocessing.sequence import pad_sequences\n",
        "import urllib.request\n",
        "np.random.seed(seed=0)"
      ],
      "metadata": {
        "id": "pxLxER_5wMHN"
      },
      "execution_count": 1,
      "outputs": []
    },
    {
      "cell_type": "markdown",
      "source": [
        "# 데이터 준비"
      ],
      "metadata": {
        "id": "nzJsfg8eCy_6"
      }
    },
    {
      "cell_type": "markdown",
      "source": [
        "## 데이터 로드하기"
      ],
      "metadata": {
        "id": "qy7RP4TDwDC2"
      }
    },
    {
      "cell_type": "code",
      "source": [
        "!wget https://github.com/Chanmi-K/Python/raw/main/Data/Reviews_100000.zip"
      ],
      "metadata": {
        "colab": {
          "base_uri": "https://localhost:8080/"
        },
        "id": "VhEwgFYA0k6h",
        "outputId": "aa1a16df-4383-4b70-8f61-1b4c635b65f3"
      },
      "execution_count": 2,
      "outputs": [
        {
          "output_type": "stream",
          "name": "stdout",
          "text": [
            "--2022-07-11 03:15:57--  https://github.com/Chanmi-K/Python/raw/main/Data/Reviews_100000.zip\n",
            "Resolving github.com (github.com)... 140.82.113.3\n",
            "Connecting to github.com (github.com)|140.82.113.3|:443... connected.\n",
            "HTTP request sent, awaiting response... 302 Found\n",
            "Location: https://raw.githubusercontent.com/Chanmi-K/Python/main/Data/Reviews_100000.zip [following]\n",
            "--2022-07-11 03:15:57--  https://raw.githubusercontent.com/Chanmi-K/Python/main/Data/Reviews_100000.zip\n",
            "Resolving raw.githubusercontent.com (raw.githubusercontent.com)... 185.199.108.133, 185.199.109.133, 185.199.110.133, ...\n",
            "Connecting to raw.githubusercontent.com (raw.githubusercontent.com)|185.199.108.133|:443... connected.\n",
            "HTTP request sent, awaiting response... 200 OK\n",
            "Length: 17568832 (17M) [application/zip]\n",
            "Saving to: ‘Reviews_100000.zip’\n",
            "\n",
            "Reviews_100000.zip  100%[===================>]  16.75M  --.-KB/s    in 0.1s    \n",
            "\n",
            "2022-07-11 03:15:58 (144 MB/s) - ‘Reviews_100000.zip’ saved [17568832/17568832]\n",
            "\n"
          ]
        }
      ]
    },
    {
      "cell_type": "code",
      "source": [
        "!unzip Reviews_100000.zip"
      ],
      "metadata": {
        "colab": {
          "base_uri": "https://localhost:8080/"
        },
        "id": "vnf8zsDn0p4A",
        "outputId": "78438621-bd4f-4f80-eeb1-1055365dc823"
      },
      "execution_count": 3,
      "outputs": [
        {
          "output_type": "stream",
          "name": "stdout",
          "text": [
            "Archive:  Reviews_100000.zip\n",
            "  inflating: Reviews.csv             \n"
          ]
        }
      ]
    },
    {
      "cell_type": "code",
      "source": [
        "data = pd.read_csv('Reviews.csv', encoding='cp949')\n",
        "print(len(data))"
      ],
      "metadata": {
        "colab": {
          "base_uri": "https://localhost:8080/"
        },
        "id": "o-8z21-IwI7J",
        "outputId": "2691a988-2290-4790-a4df-4bf211e081e9"
      },
      "execution_count": 4,
      "outputs": [
        {
          "output_type": "stream",
          "name": "stdout",
          "text": [
            "100000\n"
          ]
        }
      ]
    },
    {
      "cell_type": "code",
      "source": [
        "data.head()"
      ],
      "metadata": {
        "colab": {
          "base_uri": "https://localhost:8080/",
          "height": 206
        },
        "id": "cZnC0GDfwxCm",
        "outputId": "f0fbe5da-3654-4858-c169-cd7293301809"
      },
      "execution_count": 5,
      "outputs": [
        {
          "output_type": "execute_result",
          "data": {
            "text/plain": [
              "                 Summary                                               Text\n",
              "0  Good Quality Dog Food  I have bought several of the Vitality canned d...\n",
              "1      Not as Advertised  Product arrived labeled as Jumbo Salted Peanut...\n",
              "2  \"Delight\" says it all  This is a confection that has been around a fe...\n",
              "3         Cough Medicine  If you are looking for the secret ingredient i...\n",
              "4            Great taffy  Great taffy at a great price.  There was a wid..."
            ],
            "text/html": [
              "\n",
              "  <div id=\"df-1732af90-39fe-4f92-b815-90f61b8b8a8b\">\n",
              "    <div class=\"colab-df-container\">\n",
              "      <div>\n",
              "<style scoped>\n",
              "    .dataframe tbody tr th:only-of-type {\n",
              "        vertical-align: middle;\n",
              "    }\n",
              "\n",
              "    .dataframe tbody tr th {\n",
              "        vertical-align: top;\n",
              "    }\n",
              "\n",
              "    .dataframe thead th {\n",
              "        text-align: right;\n",
              "    }\n",
              "</style>\n",
              "<table border=\"1\" class=\"dataframe\">\n",
              "  <thead>\n",
              "    <tr style=\"text-align: right;\">\n",
              "      <th></th>\n",
              "      <th>Summary</th>\n",
              "      <th>Text</th>\n",
              "    </tr>\n",
              "  </thead>\n",
              "  <tbody>\n",
              "    <tr>\n",
              "      <th>0</th>\n",
              "      <td>Good Quality Dog Food</td>\n",
              "      <td>I have bought several of the Vitality canned d...</td>\n",
              "    </tr>\n",
              "    <tr>\n",
              "      <th>1</th>\n",
              "      <td>Not as Advertised</td>\n",
              "      <td>Product arrived labeled as Jumbo Salted Peanut...</td>\n",
              "    </tr>\n",
              "    <tr>\n",
              "      <th>2</th>\n",
              "      <td>\"Delight\" says it all</td>\n",
              "      <td>This is a confection that has been around a fe...</td>\n",
              "    </tr>\n",
              "    <tr>\n",
              "      <th>3</th>\n",
              "      <td>Cough Medicine</td>\n",
              "      <td>If you are looking for the secret ingredient i...</td>\n",
              "    </tr>\n",
              "    <tr>\n",
              "      <th>4</th>\n",
              "      <td>Great taffy</td>\n",
              "      <td>Great taffy at a great price.  There was a wid...</td>\n",
              "    </tr>\n",
              "  </tbody>\n",
              "</table>\n",
              "</div>\n",
              "      <button class=\"colab-df-convert\" onclick=\"convertToInteractive('df-1732af90-39fe-4f92-b815-90f61b8b8a8b')\"\n",
              "              title=\"Convert this dataframe to an interactive table.\"\n",
              "              style=\"display:none;\">\n",
              "        \n",
              "  <svg xmlns=\"http://www.w3.org/2000/svg\" height=\"24px\"viewBox=\"0 0 24 24\"\n",
              "       width=\"24px\">\n",
              "    <path d=\"M0 0h24v24H0V0z\" fill=\"none\"/>\n",
              "    <path d=\"M18.56 5.44l.94 2.06.94-2.06 2.06-.94-2.06-.94-.94-2.06-.94 2.06-2.06.94zm-11 1L8.5 8.5l.94-2.06 2.06-.94-2.06-.94L8.5 2.5l-.94 2.06-2.06.94zm10 10l.94 2.06.94-2.06 2.06-.94-2.06-.94-.94-2.06-.94 2.06-2.06.94z\"/><path d=\"M17.41 7.96l-1.37-1.37c-.4-.4-.92-.59-1.43-.59-.52 0-1.04.2-1.43.59L10.3 9.45l-7.72 7.72c-.78.78-.78 2.05 0 2.83L4 21.41c.39.39.9.59 1.41.59.51 0 1.02-.2 1.41-.59l7.78-7.78 2.81-2.81c.8-.78.8-2.07 0-2.86zM5.41 20L4 18.59l7.72-7.72 1.47 1.35L5.41 20z\"/>\n",
              "  </svg>\n",
              "      </button>\n",
              "      \n",
              "  <style>\n",
              "    .colab-df-container {\n",
              "      display:flex;\n",
              "      flex-wrap:wrap;\n",
              "      gap: 12px;\n",
              "    }\n",
              "\n",
              "    .colab-df-convert {\n",
              "      background-color: #E8F0FE;\n",
              "      border: none;\n",
              "      border-radius: 50%;\n",
              "      cursor: pointer;\n",
              "      display: none;\n",
              "      fill: #1967D2;\n",
              "      height: 32px;\n",
              "      padding: 0 0 0 0;\n",
              "      width: 32px;\n",
              "    }\n",
              "\n",
              "    .colab-df-convert:hover {\n",
              "      background-color: #E2EBFA;\n",
              "      box-shadow: 0px 1px 2px rgba(60, 64, 67, 0.3), 0px 1px 3px 1px rgba(60, 64, 67, 0.15);\n",
              "      fill: #174EA6;\n",
              "    }\n",
              "\n",
              "    [theme=dark] .colab-df-convert {\n",
              "      background-color: #3B4455;\n",
              "      fill: #D2E3FC;\n",
              "    }\n",
              "\n",
              "    [theme=dark] .colab-df-convert:hover {\n",
              "      background-color: #434B5C;\n",
              "      box-shadow: 0px 1px 3px 1px rgba(0, 0, 0, 0.15);\n",
              "      filter: drop-shadow(0px 1px 2px rgba(0, 0, 0, 0.3));\n",
              "      fill: #FFFFFF;\n",
              "    }\n",
              "  </style>\n",
              "\n",
              "      <script>\n",
              "        const buttonEl =\n",
              "          document.querySelector('#df-1732af90-39fe-4f92-b815-90f61b8b8a8b button.colab-df-convert');\n",
              "        buttonEl.style.display =\n",
              "          google.colab.kernel.accessAllowed ? 'block' : 'none';\n",
              "\n",
              "        async function convertToInteractive(key) {\n",
              "          const element = document.querySelector('#df-1732af90-39fe-4f92-b815-90f61b8b8a8b');\n",
              "          const dataTable =\n",
              "            await google.colab.kernel.invokeFunction('convertToInteractive',\n",
              "                                                     [key], {});\n",
              "          if (!dataTable) return;\n",
              "\n",
              "          const docLinkHtml = 'Like what you see? Visit the ' +\n",
              "            '<a target=\"_blank\" href=https://colab.research.google.com/notebooks/data_table.ipynb>data table notebook</a>'\n",
              "            + ' to learn more about interactive tables.';\n",
              "          element.innerHTML = '';\n",
              "          dataTable['output_type'] = 'display_data';\n",
              "          await google.colab.output.renderOutput(dataTable, element);\n",
              "          const docLink = document.createElement('div');\n",
              "          docLink.innerHTML = docLinkHtml;\n",
              "          element.appendChild(docLink);\n",
              "        }\n",
              "      </script>\n",
              "    </div>\n",
              "  </div>\n",
              "  "
            ]
          },
          "metadata": {},
          "execution_count": 5
        }
      ]
    },
    {
      "cell_type": "markdown",
      "source": [
        "Text : 원문, Summary : 요약"
      ],
      "metadata": {
        "id": "P4Px0t_dxEkc"
      }
    },
    {
      "cell_type": "markdown",
      "source": [
        "## 데이터 정제하기"
      ],
      "metadata": {
        "id": "xR99tgVlxNCL"
      }
    },
    {
      "cell_type": "code",
      "source": [
        "print('Text 열에서 중복을 배제한 유일한 샘플의 수 :', data['Text'].nunique())\n",
        "print('Summary 열에서 중복을 배제한 유일한 샘플의 수 :', data['Summary'].nunique())"
      ],
      "metadata": {
        "colab": {
          "base_uri": "https://localhost:8080/"
        },
        "id": "tFyXY2f_xOqN",
        "outputId": "d7329927-05d7-422b-bed1-af587a71b7c2"
      },
      "execution_count": 6,
      "outputs": [
        {
          "output_type": "stream",
          "name": "stdout",
          "text": [
            "Text 열에서 중복을 배제한 유일한 샘플의 수 : 88426\n",
            "Summary 열에서 중복을 배제한 유일한 샘플의 수 : 72348\n"
          ]
        }
      ]
    },
    {
      "cell_type": "markdown",
      "source": [
        "중복이 1200여개가 있다."
      ],
      "metadata": {
        "id": "UX0SgQD7xZDB"
      }
    },
    {
      "cell_type": "code",
      "source": [
        "# text 열에서 중복인 내용이 있다면 중복 제거\n",
        "data.drop_duplicates(subset=['Text'], inplace=True)\n",
        "print('전체 샘플 수 :', len(data))"
      ],
      "metadata": {
        "colab": {
          "base_uri": "https://localhost:8080/"
        },
        "id": "ZGPMIvp1xgmK",
        "outputId": "0756c3d3-4678-4675-f041-582422980fe1"
      },
      "execution_count": 7,
      "outputs": [
        {
          "output_type": "stream",
          "name": "stdout",
          "text": [
            "전체 샘플 수 : 88426\n"
          ]
        }
      ]
    },
    {
      "cell_type": "code",
      "source": [
        "# Null 값 존재 확인\n",
        "print(data.isnull().sum())"
      ],
      "metadata": {
        "colab": {
          "base_uri": "https://localhost:8080/"
        },
        "id": "hLmJ4xg5xpue",
        "outputId": "20b3185d-0d30-47df-d9bc-c03422a67af4"
      },
      "execution_count": 8,
      "outputs": [
        {
          "output_type": "stream",
          "name": "stdout",
          "text": [
            "Summary    1\n",
            "Text       0\n",
            "dtype: int64\n"
          ]
        }
      ]
    },
    {
      "cell_type": "code",
      "source": [
        "# Null 값 제거\n",
        "data.dropna(axis=0, inplace=True)\n",
        "print('전체 샘플 수 :', len(data))"
      ],
      "metadata": {
        "colab": {
          "base_uri": "https://localhost:8080/"
        },
        "id": "qiNO_F2KxuAW",
        "outputId": "911ae4d5-f0fb-47ff-e0e6-9e26781454cf"
      },
      "execution_count": 9,
      "outputs": [
        {
          "output_type": "stream",
          "name": "stdout",
          "text": [
            "전체 샘플 수 : 88425\n"
          ]
        }
      ]
    },
    {
      "cell_type": "markdown",
      "source": [
        "동일한 의미를 가졌지만 스펠링이 다른 단어들을 정규화 하기 위한 사전 정의"
      ],
      "metadata": {
        "id": "zBG41vARyFgt"
      }
    },
    {
      "cell_type": "code",
      "source": [
        "# 전처리 함수 내 사용\n",
        "contractions = {\"ain't\": \"is not\", \"aren't\": \"are not\",\"can't\": \"cannot\", \"'cause\": \"because\", \"could've\": \"could have\", \"couldn't\": \"could not\", \"didn't\": \"did not\",  \"doesn't\": \"does not\", \"don't\": \"do not\", \"hadn't\": \"had not\", \"hasn't\": \"has not\", \"haven't\": \"have not\", \"he'd\": \"he would\",\"he'll\": \"he will\", \"he's\": \"he is\", \"how'd\": \"how did\", \"how'd'y\": \"how do you\", \"how'll\": \"how will\", \"how's\": \"how is\", \"I'd\": \"I would\", \"I'd've\": \"I would have\", \"I'll\": \"I will\", \"I'll've\": \"I will have\",\"I'm\": \"I am\", \"I've\": \"I have\", \"i'd\": \"i would\", \"i'd've\": \"i would have\", \"i'll\": \"i will\",  \"i'll've\": \"i will have\",\"i'm\": \"i am\", \"i've\": \"i have\", \"isn't\": \"is not\", \"it'd\": \"it would\", \"it'd've\": \"it would have\", \"it'll\": \"it will\", \"it'll've\": \"it will have\",\"it's\": \"it is\", \"let's\": \"let us\", \"ma'am\": \"madam\", \"mayn't\": \"may not\", \"might've\": \"might have\",\"mightn't\": \"might not\",\"mightn't've\": \"might not have\", \"must've\": \"must have\", \"mustn't\": \"must not\", \"mustn't've\": \"must not have\", \"needn't\": \"need not\", \"needn't've\": \"need not have\",\"o'clock\": \"of the clock\", \"oughtn't\": \"ought not\", \"oughtn't've\": \"ought not have\", \"shan't\": \"shall not\", \"sha'n't\": \"shall not\", \"shan't've\": \"shall not have\", \"she'd\": \"she would\", \"she'd've\": \"she would have\", \"she'll\": \"she will\", \"she'll've\": \"she will have\", \"she's\": \"she is\", \"should've\": \"should have\", \"shouldn't\": \"should not\", \"shouldn't've\": \"should not have\", \"so've\": \"so have\",\"so's\": \"so as\", \"this's\": \"this is\",\"that'd\": \"that would\", \"that'd've\": \"that would have\", \"that's\": \"that is\", \"there'd\": \"there would\", \"there'd've\": \"there would have\", \"there's\": \"there is\", \"here's\": \"here is\",\"they'd\": \"they would\", \"they'd've\": \"they would have\", \"they'll\": \"they will\", \"they'll've\": \"they will have\", \"they're\": \"they are\", \"they've\": \"they have\", \"to've\": \"to have\", \"wasn't\": \"was not\", \"we'd\": \"we would\", \"we'd've\": \"we would have\", \"we'll\": \"we will\", \"we'll've\": \"we will have\", \"we're\": \"we are\", \"we've\": \"we have\", \"weren't\": \"were not\", \"what'll\": \"what will\", \"what'll've\": \"what will have\", \"what're\": \"what are\", \"what's\": \"what is\", \"what've\": \"what have\", \"when's\": \"when is\", \"when've\": \"when have\", \"where'd\": \"where did\", \"where's\": \"where is\", \"where've\": \"where have\", \"who'll\": \"who will\", \"who'll've\": \"who will have\", \"who's\": \"who is\", \"who've\": \"who have\", \"why's\": \"why is\", \"why've\": \"why have\", \"will've\": \"will have\", \"won't\": \"will not\", \"won't've\": \"will not have\", \"would've\": \"would have\", \"wouldn't\": \"would not\", \"wouldn't've\": \"would not have\", \"y'all\": \"you all\", \"y'all'd\": \"you all would\",\"y'all'd've\": \"you all would have\",\"y'all're\": \"you all are\",\"y'all've\": \"you all have\", \"you'd\": \"you would\", \"you'd've\": \"you would have\", \"you'll\": \"you will\", \"you'll've\": \"you will have\", \"you're\": \"you are\", \"you've\": \"you have\"}"
      ],
      "metadata": {
        "id": "hB7jjdX1x2Uc"
      },
      "execution_count": 10,
      "outputs": []
    },
    {
      "cell_type": "code",
      "source": [
        "# NLTK의 불용어\n",
        "import nltk\n",
        "nltk.download('stopwords')\n",
        "stop_words = set(stopwords.words('english'))\n",
        "print('불용어 개수 :', len(stop_words))\n",
        "print(stop_words)"
      ],
      "metadata": {
        "id": "CKwFMmXTyKHi",
        "colab": {
          "base_uri": "https://localhost:8080/"
        },
        "outputId": "2096eb8e-ad6c-41af-9837-fa831a98057d"
      },
      "execution_count": 11,
      "outputs": [
        {
          "output_type": "stream",
          "name": "stdout",
          "text": [
            "불용어 개수 : 179\n",
            "{\"you've\", 'because', 'can', \"she's\", 'these', 'my', 'out', 'mightn', 'more', 'such', \"wasn't\", 'for', 'o', \"won't\", 'herself', 'after', \"weren't\", 'this', 'above', 'on', 'she', 'from', 'not', 'its', \"haven't\", 'whom', 'down', 'doesn', \"aren't\", 'has', 'few', 'here', 'or', 're', 'couldn', 'in', \"didn't\", 'mustn', 'had', 'then', 'further', 'them', 'by', 'her', 'been', 'an', 'their', 'between', 'themselves', 'll', 'to', \"you'll\", 'doing', 'over', 'most', 'are', 'shan', 'wasn', 'won', 'ain', 'itself', 'he', 'now', 'were', 's', \"doesn't\", 'shouldn', \"should've\", 'and', 'under', 'any', \"it's\", 'as', 'ma', 'what', 'very', 'm', 'hadn', 'ourselves', 'up', \"isn't\", 'about', 'hasn', 'was', \"you'd\", \"needn't\", 'just', 'if', 'there', \"don't\", 'below', 'didn', 'yourself', 'until', \"mustn't\", 'own', 'off', \"hadn't\", 'be', 'with', 'some', 'yours', 'having', 'at', 'have', 'haven', 'aren', 'his', 'into', 'yourselves', 'that', 'your', 'through', \"couldn't\", 'when', 'himself', 'don', 'each', \"that'll\", 'which', 'how', 'him', 'against', 'you', 'it', 'other', 'our', 'while', 'all', \"mightn't\", \"shan't\", 'during', 'once', \"shouldn't\", 'should', 'wouldn', 'do', 'nor', 'no', 've', 'but', 'y', 'than', 'd', 'i', \"hasn't\", 'they', 'isn', 'needn', 'theirs', 'ours', 'is', 'being', 'again', 't', 'will', 'those', 'me', 'weren', 'why', 'am', 'who', 'did', 'of', \"you're\", 'myself', 'hers', \"wouldn't\", 'same', 'before', 'we', 'only', 'a', 'the', 'too', 'both', 'so', 'does', 'where'}\n"
          ]
        },
        {
          "output_type": "stream",
          "name": "stderr",
          "text": [
            "[nltk_data] Downloading package stopwords to /root/nltk_data...\n",
            "[nltk_data]   Unzipping corpora/stopwords.zip.\n"
          ]
        }
      ]
    },
    {
      "cell_type": "code",
      "source": [
        "#전처리 함수 설계\n",
        "def preprocess_sentence(sentence, remove_stopwords = True):\n",
        "  sentence = sentence.lower()   # 텍스트 소문자화\n",
        "  sentence = BeautifulSoup(sentence, 'lxml').text   # html 태그 제거\n",
        "  sentence = re.sub(r'\\([^)]*\\)', '', sentence)   # 괄호로 닫힌 문자열 제거\n",
        "  sentence = re.sub('\"', '', sentence)    # 쌍따옴표 \"\" 제거\n",
        "  sentence = ' '.join([contractions[t] if t in contractions else t for t in sentence.split(\" \")])   # 약어 정규화\n",
        "  sentence = re.sub(r\"'s\\b\", \"\", sentence)    # 소유격 제거\n",
        "  sentence = re.sub(\"[^a-zA-Z]\", \" \", sentence)   # 영어 외 문자(숫자, 특수문자 등) 공백으로 변환\n",
        "  sentence = re.sub('[m]{2,}', 'mm', sentence)    # m이 3개 이상이면 2개로 변경\n",
        "\n",
        "  # 불용어 제거 (Text)\n",
        "  if remove_stopwords:\n",
        "    tokens = ' '.join(word for word in sentence.split() if not word in stop_words if len(word) > 1)\n",
        "  # 불용어 미제거 (Summary)\n",
        "  else:\n",
        "    tokens = ' '.join(word for word in sentence.split() if len(word) > 1)\n",
        "\n",
        "  return tokens"
      ],
      "metadata": {
        "id": "EXt_SPuQ1QGp"
      },
      "execution_count": 12,
      "outputs": []
    },
    {
      "cell_type": "code",
      "source": [
        "clean_text = []\n",
        "for s in data['Text']:\n",
        "  clean_text.append(preprocess_sentence(s))\n",
        "\n",
        "#5개의 전처리된 샘플 출력\n",
        "clean_text[:5]"
      ],
      "metadata": {
        "colab": {
          "base_uri": "https://localhost:8080/"
        },
        "id": "QQLwWz1U3mSB",
        "outputId": "8ad1c774-0d3c-4f24-816c-8254f959a424"
      },
      "execution_count": 13,
      "outputs": [
        {
          "output_type": "execute_result",
          "data": {
            "text/plain": [
              "['bought several vitality canned dog food products found good quality product looks like stew processed meat smells better labrador finicky appreciates product better',\n",
              " 'product arrived labeled jumbo salted peanuts peanuts actually small sized unsalted sure error vendor intended represent product jumbo',\n",
              " 'confection around centuries light pillowy citrus gelatin nuts case filberts cut tiny squares liberally coated powdered sugar tiny mouthful heaven chewy flavorful highly recommend yummy treat familiar story lewis lion witch wardrobe treat seduces edmund selling brother sisters witch',\n",
              " 'looking secret ingredient robitussin believe found got addition root beer extract ordered made cherry soda flavor medicinal',\n",
              " 'great taffy great price wide assortment yummy taffy delivery quick taffy lover deal']"
            ]
          },
          "metadata": {},
          "execution_count": 13
        }
      ]
    },
    {
      "cell_type": "code",
      "source": [
        "clean_summary = []\n",
        "for s in data['Summary']:\n",
        "  clean_summary.append(preprocess_sentence(s, 0))\n",
        "\n",
        "#5개의 전처리된 샘플 출력\n",
        "clean_summary[:5]"
      ],
      "metadata": {
        "colab": {
          "base_uri": "https://localhost:8080/"
        },
        "id": "PBgz_ets331r",
        "outputId": "3d728b43-3341-4ec9-81d5-ae1d8daa6489"
      },
      "execution_count": 14,
      "outputs": [
        {
          "output_type": "stream",
          "name": "stderr",
          "text": [
            "/usr/local/lib/python3.7/dist-packages/bs4/__init__.py:336: UserWarning: \"http://www.amazon.com/gp/product/b007i7yygy/ref=cm_cr_rev_prod_title\" looks like a URL. Beautiful Soup is not an HTTP client. You should probably use an HTTP client like requests to get the document behind the URL, and feed that document to Beautiful Soup.\n",
            "  ' that document to Beautiful Soup.' % decoded_markup\n"
          ]
        },
        {
          "output_type": "execute_result",
          "data": {
            "text/plain": [
              "['good quality dog food',\n",
              " 'not as advertised',\n",
              " 'delight says it all',\n",
              " 'cough medicine',\n",
              " 'great taffy']"
            ]
          },
          "metadata": {},
          "execution_count": 14
        }
      ]
    },
    {
      "cell_type": "code",
      "source": [
        "#전처리 후의 결과를 다시 데이터프레임에 저장\n",
        "data['Text'] = clean_text\n",
        "data['Summary'] = clean_summary"
      ],
      "metadata": {
        "id": "WxZgUjGw4Do6"
      },
      "execution_count": 15,
      "outputs": []
    },
    {
      "cell_type": "code",
      "source": [
        "# 혹시 전처리 과정에서 빈 값이 생겼다면 Null 값으로 변경한 후 Null 값을 가진 샘플이 생겼는지 확인\n",
        "data.replace('', np.nan, inplace=True)\n",
        "print(data.isnull().sum())"
      ],
      "metadata": {
        "colab": {
          "base_uri": "https://localhost:8080/"
        },
        "id": "WLJ90xOt4KsY",
        "outputId": "15efde5d-3a5c-4b3e-8b3f-79dadbaeff38"
      },
      "execution_count": 16,
      "outputs": [
        {
          "output_type": "stream",
          "name": "stdout",
          "text": [
            "Summary    69\n",
            "Text        0\n",
            "dtype: int64\n"
          ]
        }
      ]
    },
    {
      "cell_type": "code",
      "source": [
        "# Null 값 제거\n",
        "data.dropna(axis = 0, inplace=True)\n",
        "print('전체 샘플 수 :', len(data))"
      ],
      "metadata": {
        "colab": {
          "base_uri": "https://localhost:8080/"
        },
        "id": "jrZL7GSr4bST",
        "outputId": "515119e9-65d5-4e91-ca2d-6b18b4201ea4"
      },
      "execution_count": 17,
      "outputs": [
        {
          "output_type": "stream",
          "name": "stdout",
          "text": [
            "전체 샘플 수 : 88356\n"
          ]
        }
      ]
    },
    {
      "cell_type": "code",
      "source": [
        "#각 열에 대한 길이 분포 확인\n",
        "text_len = [len(s.split()) for s in data['Text']]\n",
        "summary_len = [len(s.split()) for s in data['Summary']]\n",
        "\n",
        "print('텍스트의 최소 길이 : {}'.format(np.min(text_len)))\n",
        "print('텍스트의 최대 길이 : {}'.format(np.max(text_len)))\n",
        "print('텍스트의 평균 길이 : {}'.format(np.mean(text_len)))\n",
        "print('요약의 최소 길이 : {}'.format(np.min(summary_len)))\n",
        "print('요약의 최대 길이 : {}'.format(np.max(summary_len)))\n",
        "print('요약의 평균 길이 : {}'.format(np.mean(summary_len)))\n",
        "\n",
        "plt.subplot(1,2,1)\n",
        "plt.boxplot(summary_len)\n",
        "plt.title('Summary')\n",
        "plt.subplot(1,2,2)\n",
        "plt.boxplot(text_len)\n",
        "plt.title('Text')\n",
        "plt.tight_layout()\n",
        "plt.show()\n",
        "\n",
        "plt.title('Summary')\n",
        "plt.hist(summary_len, bins=40)\n",
        "plt.xlabel('length of samples')\n",
        "plt.ylabel('number of samples')\n",
        "plt.show()\n",
        "\n",
        "plt.title('Text')\n",
        "plt.hist(text_len, bins=40)\n",
        "plt.xlabel('length of samples')\n",
        "plt.ylabel('number of samples')\n",
        "plt.show()"
      ],
      "metadata": {
        "colab": {
          "base_uri": "https://localhost:8080/",
          "height": 961
        },
        "id": "jK1OAxk74lzU",
        "outputId": "ccbb8f6d-7a1e-4e29-867b-f239862d894e"
      },
      "execution_count": 18,
      "outputs": [
        {
          "output_type": "stream",
          "name": "stdout",
          "text": [
            "텍스트의 최소 길이 : 2\n",
            "텍스트의 최대 길이 : 1235\n",
            "텍스트의 평균 길이 : 38.79221558241659\n",
            "요약의 최소 길이 : 1\n",
            "요약의 최대 길이 : 28\n",
            "요약의 평균 길이 : 4.010695368735569\n"
          ]
        },
        {
          "output_type": "display_data",
          "data": {
            "text/plain": [
              "<Figure size 432x288 with 2 Axes>"
            ],
            "image/png": "[encoded data removed]"
          },
          "metadata": {
            "needs_background": "light"
          }
        },
        {
          "output_type": "display_data",
          "data": {
            "text/plain": [
              "<Figure size 432x288 with 1 Axes>"
            ],
            "image/png": "[encoded data removed]"
          },
          "metadata": {
            "needs_background": "light"
          }
        },
        {
          "output_type": "display_data",
          "data": {
            "text/plain": [
              "<Figure size 432x288 with 1 Axes>"
            ],
            "image/png": "[encoded data removed]"
          },
          "metadata": {
            "needs_background": "light"
          }
        }
      ]
    },
    {
      "cell_type": "markdown",
      "source": [
        "원문 텍스트는 대체로 100 이하의 길이. 평균 38\n",
        "\n",
        "요약문은 대체로 15 이하의 길이. 평균 4\n",
        "\n",
        "패딩의 길이는 평균 길이보다 크게 잡아 각각 50과 8로 결정"
      ],
      "metadata": {
        "id": "RG-R9y495Z9v"
      }
    },
    {
      "cell_type": "code",
      "source": [
        "text_max_len = 50\n",
        "summary_max_len = 8"
      ],
      "metadata": {
        "id": "CWRMoZQL5tk6"
      },
      "execution_count": 19,
      "outputs": []
    },
    {
      "cell_type": "code",
      "source": [
        "# 전체 샘플 중 결정한 길이 이하인 샘플 비율 확인\n",
        "def below_threshold_len(max_len, nested_list):\n",
        "  cnt = 0\n",
        "  for s in nested_list:\n",
        "    if(len(s.split()) <= max_len):\n",
        "      cnt += 1\n",
        "  print(f'전체 샘플 중 길이가 {max_len} 이하인 샘플의 비율 : {(cnt/len(nested_list))}')"
      ],
      "metadata": {
        "id": "NJKlHvrx6u77"
      },
      "execution_count": 20,
      "outputs": []
    },
    {
      "cell_type": "code",
      "source": [
        "# Text 열\n",
        "below_threshold_len(text_max_len, data['Text'])\n",
        "# Summary 열\n",
        "below_threshold_len(summary_max_len, data['Summary'])"
      ],
      "metadata": {
        "colab": {
          "base_uri": "https://localhost:8080/"
        },
        "id": "5Q5fGaUX7K4-",
        "outputId": "4ccb6506-3369-4b23-ba23-095234cc4833"
      },
      "execution_count": 21,
      "outputs": [
        {
          "output_type": "stream",
          "name": "stdout",
          "text": [
            "전체 샘플 중 길이가 50 이하인 샘플의 비율 : 0.7745144642129567\n",
            "전체 샘플 중 길이가 8 이하인 샘플의 비율 : 0.9424600479876862\n"
          ]
        }
      ]
    },
    {
      "cell_type": "code",
      "source": [
        "# 정해준 최대 길이보다 큰 샘플들 제거\n",
        "data = data[data['Text'].apply(lambda x: len(x.split()) <= text_max_len)]\n",
        "data = data[data['Summary'].apply(lambda x: len(x.split()) <= summary_max_len)]\n",
        "print('전체 샘플 수 :', len(data))"
      ],
      "metadata": {
        "colab": {
          "base_uri": "https://localhost:8080/"
        },
        "id": "gDE5BzeE7Zg4",
        "outputId": "8cd9468a-da56-4dae-ae27-6ea14d497378"
      },
      "execution_count": 22,
      "outputs": [
        {
          "output_type": "stream",
          "name": "stdout",
          "text": [
            "전체 샘플 수 : 65819\n"
          ]
        }
      ]
    },
    {
      "cell_type": "markdown",
      "source": [
        "seq2seq 훈련을 위해서는 디코더의 입력과 레이블에 시작 토큰과 종료 토큰을 추가할 필요가 있다.\n",
        "\n",
        "시작 토큰은 'sostoken', 종료 토큰은 'eostoken' 이라 명명하고 앞, 뒤로 추가한다"
      ],
      "metadata": {
        "id": "5UGYyw7O71PC"
      }
    },
    {
      "cell_type": "code",
      "source": [
        "# 요약 데이터에는 시작 토큰과 종료 토큰을 추가\n",
        "data['decoder_input'] = data['Summary'].apply(lambda x: 'sostoken ' + x)\n",
        "data['decoder_target'] = data['Summary'].apply(lambda x: x + ' eostoken')\n",
        "data.head()"
      ],
      "metadata": {
        "colab": {
          "base_uri": "https://localhost:8080/",
          "height": 206
        },
        "id": "t8jNQUXJ8GN8",
        "outputId": "462fc065-2db6-4eed-fb65-a1925334b9ce"
      },
      "execution_count": 23,
      "outputs": [
        {
          "output_type": "execute_result",
          "data": {
            "text/plain": [
              "                 Summary                                               Text  \\\n",
              "0  good quality dog food  bought several vitality canned dog food produc...   \n",
              "1      not as advertised  product arrived labeled jumbo salted peanuts p...   \n",
              "2    delight says it all  confection around centuries light pillowy citr...   \n",
              "3         cough medicine  looking secret ingredient robitussin believe f...   \n",
              "4            great taffy  great taffy great price wide assortment yummy ...   \n",
              "\n",
              "                    decoder_input                  decoder_target  \n",
              "0  sostoken good quality dog food  good quality dog food eostoken  \n",
              "1      sostoken not as advertised      not as advertised eostoken  \n",
              "2    sostoken delight says it all    delight says it all eostoken  \n",
              "3         sostoken cough medicine         cough medicine eostoken  \n",
              "4            sostoken great taffy            great taffy eostoken  "
            ],
            "text/html": [
              "\n",
              "  <div id=\"df-96644b88-e0f9-4cd8-bd41-cf7016368c81\">\n",
              "    <div class=\"colab-df-container\">\n",
              "      <div>\n",
              "<style scoped>\n",
              "    .dataframe tbody tr th:only-of-type {\n",
              "        vertical-align: middle;\n",
              "    }\n",
              "\n",
              "    .dataframe tbody tr th {\n",
              "        vertical-align: top;\n",
              "    }\n",
              "\n",
              "    .dataframe thead th {\n",
              "        text-align: right;\n",
              "    }\n",
              "</style>\n",
              "<table border=\"1\" class=\"dataframe\">\n",
              "  <thead>\n",
              "    <tr style=\"text-align: right;\">\n",
              "      <th></th>\n",
              "      <th>Summary</th>\n",
              "      <th>Text</th>\n",
              "      <th>decoder_input</th>\n",
              "      <th>decoder_target</th>\n",
              "    </tr>\n",
              "  </thead>\n",
              "  <tbody>\n",
              "    <tr>\n",
              "      <th>0</th>\n",
              "      <td>good quality dog food</td>\n",
              "      <td>bought several vitality canned dog food produc...</td>\n",
              "      <td>sostoken good quality dog food</td>\n",
              "      <td>good quality dog food eostoken</td>\n",
              "    </tr>\n",
              "    <tr>\n",
              "      <th>1</th>\n",
              "      <td>not as advertised</td>\n",
              "      <td>product arrived labeled jumbo salted peanuts p...</td>\n",
              "      <td>sostoken not as advertised</td>\n",
              "      <td>not as advertised eostoken</td>\n",
              "    </tr>\n",
              "    <tr>\n",
              "      <th>2</th>\n",
              "      <td>delight says it all</td>\n",
              "      <td>confection around centuries light pillowy citr...</td>\n",
              "      <td>sostoken delight says it all</td>\n",
              "      <td>delight says it all eostoken</td>\n",
              "    </tr>\n",
              "    <tr>\n",
              "      <th>3</th>\n",
              "      <td>cough medicine</td>\n",
              "      <td>looking secret ingredient robitussin believe f...</td>\n",
              "      <td>sostoken cough medicine</td>\n",
              "      <td>cough medicine eostoken</td>\n",
              "    </tr>\n",
              "    <tr>\n",
              "      <th>4</th>\n",
              "      <td>great taffy</td>\n",
              "      <td>great taffy great price wide assortment yummy ...</td>\n",
              "      <td>sostoken great taffy</td>\n",
              "      <td>great taffy eostoken</td>\n",
              "    </tr>\n",
              "  </tbody>\n",
              "</table>\n",
              "</div>\n",
              "      <button class=\"colab-df-convert\" onclick=\"convertToInteractive('df-96644b88-e0f9-4cd8-bd41-cf7016368c81')\"\n",
              "              title=\"Convert this dataframe to an interactive table.\"\n",
              "              style=\"display:none;\">\n",
              "        \n",
              "  <svg xmlns=\"http://www.w3.org/2000/svg\" height=\"24px\"viewBox=\"0 0 24 24\"\n",
              "       width=\"24px\">\n",
              "    <path d=\"M0 0h24v24H0V0z\" fill=\"none\"/>\n",
              "    <path d=\"M18.56 5.44l.94 2.06.94-2.06 2.06-.94-2.06-.94-.94-2.06-.94 2.06-2.06.94zm-11 1L8.5 8.5l.94-2.06 2.06-.94-2.06-.94L8.5 2.5l-.94 2.06-2.06.94zm10 10l.94 2.06.94-2.06 2.06-.94-2.06-.94-.94-2.06-.94 2.06-2.06.94z\"/><path d=\"M17.41 7.96l-1.37-1.37c-.4-.4-.92-.59-1.43-.59-.52 0-1.04.2-1.43.59L10.3 9.45l-7.72 7.72c-.78.78-.78 2.05 0 2.83L4 21.41c.39.39.9.59 1.41.59.51 0 1.02-.2 1.41-.59l7.78-7.78 2.81-2.81c.8-.78.8-2.07 0-2.86zM5.41 20L4 18.59l7.72-7.72 1.47 1.35L5.41 20z\"/>\n",
              "  </svg>\n",
              "      </button>\n",
              "      \n",
              "  <style>\n",
              "    .colab-df-container {\n",
              "      display:flex;\n",
              "      flex-wrap:wrap;\n",
              "      gap: 12px;\n",
              "    }\n",
              "\n",
              "    .colab-df-convert {\n",
              "      background-color: #E8F0FE;\n",
              "      border: none;\n",
              "      border-radius: 50%;\n",
              "      cursor: pointer;\n",
              "      display: none;\n",
              "      fill: #1967D2;\n",
              "      height: 32px;\n",
              "      padding: 0 0 0 0;\n",
              "      width: 32px;\n",
              "    }\n",
              "\n",
              "    .colab-df-convert:hover {\n",
              "      background-color: #E2EBFA;\n",
              "      box-shadow: 0px 1px 2px rgba(60, 64, 67, 0.3), 0px 1px 3px 1px rgba(60, 64, 67, 0.15);\n",
              "      fill: #174EA6;\n",
              "    }\n",
              "\n",
              "    [theme=dark] .colab-df-convert {\n",
              "      background-color: #3B4455;\n",
              "      fill: #D2E3FC;\n",
              "    }\n",
              "\n",
              "    [theme=dark] .colab-df-convert:hover {\n",
              "      background-color: #434B5C;\n",
              "      box-shadow: 0px 1px 3px 1px rgba(0, 0, 0, 0.15);\n",
              "      filter: drop-shadow(0px 1px 2px rgba(0, 0, 0, 0.3));\n",
              "      fill: #FFFFFF;\n",
              "    }\n",
              "  </style>\n",
              "\n",
              "      <script>\n",
              "        const buttonEl =\n",
              "          document.querySelector('#df-96644b88-e0f9-4cd8-bd41-cf7016368c81 button.colab-df-convert');\n",
              "        buttonEl.style.display =\n",
              "          google.colab.kernel.accessAllowed ? 'block' : 'none';\n",
              "\n",
              "        async function convertToInteractive(key) {\n",
              "          const element = document.querySelector('#df-96644b88-e0f9-4cd8-bd41-cf7016368c81');\n",
              "          const dataTable =\n",
              "            await google.colab.kernel.invokeFunction('convertToInteractive',\n",
              "                                                     [key], {});\n",
              "          if (!dataTable) return;\n",
              "\n",
              "          const docLinkHtml = 'Like what you see? Visit the ' +\n",
              "            '<a target=\"_blank\" href=https://colab.research.google.com/notebooks/data_table.ipynb>data table notebook</a>'\n",
              "            + ' to learn more about interactive tables.';\n",
              "          element.innerHTML = '';\n",
              "          dataTable['output_type'] = 'display_data';\n",
              "          await google.colab.output.renderOutput(dataTable, element);\n",
              "          const docLink = document.createElement('div');\n",
              "          docLink.innerHTML = docLinkHtml;\n",
              "          element.appendChild(docLink);\n",
              "        }\n",
              "      </script>\n",
              "    </div>\n",
              "  </div>\n",
              "  "
            ]
          },
          "metadata": {},
          "execution_count": 23
        }
      ]
    },
    {
      "cell_type": "code",
      "source": [
        "# 인코더의 입력, 디코더의 입력과 레이블을 각각 저장\n",
        "encoder_input = np.array(data['Text'])\n",
        "decoder_input = np.array(data['decoder_input'])\n",
        "decoder_target = np.array(data['decoder_target'])"
      ],
      "metadata": {
        "id": "Mdw-Xqif8hWr"
      },
      "execution_count": 24,
      "outputs": []
    },
    {
      "cell_type": "markdown",
      "source": [
        "## 데이터 분리"
      ],
      "metadata": {
        "id": "IWoiTNz68yQY"
      }
    },
    {
      "cell_type": "code",
      "source": [
        "# 인덱스 순서 섞기\n",
        "index = np.arange(encoder_input.shape[0])\n",
        "np.random.shuffle(index)\n",
        "print(index)"
      ],
      "metadata": {
        "colab": {
          "base_uri": "https://localhost:8080/"
        },
        "id": "iR6yNvye8zJ3",
        "outputId": "cf9ee355-ba34-46ab-8d76-abaf17240fc4"
      },
      "execution_count": 25,
      "outputs": [
        {
          "output_type": "stream",
          "name": "stdout",
          "text": [
            "[29546 43316 24839 ... 45891 42613 43567]\n"
          ]
        }
      ]
    },
    {
      "cell_type": "code",
      "source": [
        "# 샘플 순서 섞기\n",
        "encoder_input = encoder_input[index]\n",
        "decoder_input = decoder_input[index]\n",
        "decoder_target = decoder_target[index]"
      ],
      "metadata": {
        "id": "P4IDwVi788XN"
      },
      "execution_count": 26,
      "outputs": []
    },
    {
      "cell_type": "code",
      "source": [
        "# 8:2 비율로 훈련 데이터와 테스트 데이터 분리\n",
        "n_of_val = int(len(encoder_input)*0.2)\n",
        "print('테스트 데이터의 수 :', n_of_val)"
      ],
      "metadata": {
        "colab": {
          "base_uri": "https://localhost:8080/"
        },
        "id": "HFfBpIl39TQJ",
        "outputId": "bd093a2a-b6f9-4f8a-d680-bf14aa7cbff3"
      },
      "execution_count": 27,
      "outputs": [
        {
          "output_type": "stream",
          "name": "stdout",
          "text": [
            "테스트 데이터의 수 : 13163\n"
          ]
        }
      ]
    },
    {
      "cell_type": "code",
      "source": [
        "encoder_input_train = encoder_input[:-n_of_val]\n",
        "decoder_input_train = decoder_input[:-n_of_val]\n",
        "decoder_target_train = decoder_target[:-n_of_val]\n",
        "\n",
        "encoder_input_test = encoder_input[-n_of_val:]\n",
        "decoder_input_test = decoder_input[-n_of_val:]\n",
        "decoder_target_test = decoder_target[-n_of_val:]"
      ],
      "metadata": {
        "id": "bgAOCPZw9dWh"
      },
      "execution_count": 28,
      "outputs": []
    },
    {
      "cell_type": "code",
      "source": [
        "print('훈련 데이터의 개수 :', len(encoder_input_train))\n",
        "print('훈련 레이블의 개수 :',len(decoder_input_train))\n",
        "print('테스트 데이터의 개수 :',len(encoder_input_test))\n",
        "print('테스트 레이블의 개수 :',len(decoder_input_test))"
      ],
      "metadata": {
        "colab": {
          "base_uri": "https://localhost:8080/"
        },
        "id": "Z7QSZiMe9yZi",
        "outputId": "d07787e5-1850-46e4-ad02-a60cd2a68928"
      },
      "execution_count": 29,
      "outputs": [
        {
          "output_type": "stream",
          "name": "stdout",
          "text": [
            "훈련 데이터의 개수 : 52656\n",
            "훈련 레이블의 개수 : 52656\n",
            "테스트 데이터의 개수 : 13163\n",
            "테스트 레이블의 개수 : 13163\n"
          ]
        }
      ]
    },
    {
      "cell_type": "markdown",
      "source": [
        "## 정수 인코딩"
      ],
      "metadata": {
        "id": "JoAI2w8Y95ys"
      }
    },
    {
      "cell_type": "markdown",
      "source": [
        "기계가 텍스트를 숫자로 처리할 수 있도록 훈련 데이터와 테스트 데이터에 정수 인코딩 수행\n",
        "\n",
        "훈련 데이터에 대해서 단어 집합을 만들어보자"
      ],
      "metadata": {
        "id": "3UyeR2-C98Hd"
      }
    },
    {
      "cell_type": "code",
      "source": [
        "src_tokenizer = Tokenizer()\n",
        "src_tokenizer.fit_on_texts(encoder_input_train)"
      ],
      "metadata": {
        "id": "LVt2tyqM-DNN"
      },
      "execution_count": 30,
      "outputs": []
    },
    {
      "cell_type": "markdown",
      "source": [
        "src_tokenizer.word_index 에 저장\n",
        "\n",
        "빈도수 낮은 단어들은 자연어 처리에서 배제하고자 한다\n",
        "\n",
        "등장 빈도수가 7회 미만인 단어들이 이 데이터에서 얼만큼의 비중을 차지하는지 확인해보자"
      ],
      "metadata": {
        "id": "Es3FdfaU-JEv"
      }
    },
    {
      "cell_type": "code",
      "source": [
        "threshold = 7 \n",
        "total_cnt = len(src_tokenizer.word_index)   # 단어의 수\n",
        "rare_cnt = 0    # 등장 빈도수가 threshold 보다 작은 단어의 개수를 카운트\n",
        "total_freq = 0    # 훈련 데이터의 전체 단어 빈도수 총 합\n",
        "rare_freq = 0   # 등장 빈도수가 threshold 보다 작은 단어의 등장 빈도수 총 합\n",
        "\n",
        "# 단어와 빈도수의 쌍(pair)을 key와 value로 받는다\n",
        "for key, value in src_tokenizer.word_counts.items():\n",
        "  total_freq += value\n",
        "\n",
        "  # 단어의 등장 빈도수가 threshold 보다 작으면\n",
        "  if(value < threshold):\n",
        "    rare_cnt += 1\n",
        "    rare_freq += value\n",
        "\n",
        "print('단어 집합(vocabulary)의 크기 :',total_cnt)\n",
        "print('등장 빈도가 %s번 이하인 희귀 단어의 수: %s'%(threshold - 1, rare_cnt))\n",
        "print('단어 집합에서 희귀 단어를 제외시킬 경우의 단어 집합의 크기 %s'%(total_cnt - rare_cnt))\n",
        "print(\"단어 집합에서 희귀 단어의 비율:\", (rare_cnt / total_cnt)*100)\n",
        "print(\"전체 등장 빈도에서 희귀 단어 등장 빈도 비율:\", (rare_freq / total_freq)*100)"
      ],
      "metadata": {
        "colab": {
          "base_uri": "https://localhost:8080/"
        },
        "id": "lbZUTse0-WYG",
        "outputId": "5629d835-6597-41d9-8e6d-9484baca2cd9"
      },
      "execution_count": 31,
      "outputs": [
        {
          "output_type": "stream",
          "name": "stdout",
          "text": [
            "단어 집합(vocabulary)의 크기 : 31991\n",
            "등장 빈도가 6번 이하인 희귀 단어의 수: 23747\n",
            "단어 집합에서 희귀 단어를 제외시킬 경우의 단어 집합의 크기 8244\n",
            "단어 집합에서 희귀 단어의 비율: 74.23025225844769\n",
            "전체 등장 빈도에서 희귀 단어 등장 빈도 비율: 3.393150889786152\n"
          ]
        }
      ]
    },
    {
      "cell_type": "markdown",
      "source": [
        "등장 빈도가 threshold 값인 7회 미만, 즉 6회 이하인 단어들은 단어 집합에서 무려 70% 이상을 차지한다\n",
        "\n",
        "하지만, 실제로 훈련 데이터에서 등장 빈도로 차지하는 비중은 상대적으로 적은 수치인 3.39% 밖에 되지 않는다\n",
        "\n",
        "여기서는 등장 빈도가 6회 이하인 단어들은 정수 인코딩 과정에서 배제시키고자 한다\n",
        "\n",
        "위에서 이를 제외한 단어 집합의 크기를 8240으로 계산했는데, 여기서는 8000으로 제한하겠다"
      ],
      "metadata": {
        "id": "f9lcuHOX_HMO"
      }
    },
    {
      "cell_type": "code",
      "source": [
        "src_vocab = 8000\n",
        "src_tokenizer = Tokenizer(num_words = src_vocab)\n",
        "src_tokenizer.fit_on_texts(encoder_input_train)\n",
        "\n",
        "# 텍스트 시퀀스를 정수 시퀀스로 변환\n",
        "encoder_input_train = src_tokenizer.texts_to_sequences(encoder_input_train)\n",
        "encoder_input_test = src_tokenizer.texts_to_sequences(encoder_input_test)"
      ],
      "metadata": {
        "id": "KaU4gPGw_kTE"
      },
      "execution_count": 32,
      "outputs": []
    },
    {
      "cell_type": "code",
      "source": [
        "# 정수 인코딩이 정상 진행 되었는지 확인\n",
        "print(encoder_input_train[:3])"
      ],
      "metadata": {
        "colab": {
          "base_uri": "https://localhost:8080/"
        },
        "id": "mdfjGdIp_69n",
        "outputId": "e088f6f3-e9a8-45b7-fba7-732bc04fbaa4"
      },
      "execution_count": 33,
      "outputs": [
        {
          "output_type": "stream",
          "name": "stdout",
          "text": [
            "[[394, 2651, 1393, 39, 23, 92, 36, 56, 5259, 1661, 341, 92, 339, 315, 766, 35, 305, 175, 1847, 1141, 57, 587, 1, 104, 7, 194, 85, 3734], [262, 698, 1662, 5, 2931, 524, 8, 112, 1196, 609, 48, 2, 85, 609, 2577, 115, 42, 5, 1, 609, 91, 57], [232, 373, 2652, 306, 27, 17, 140, 1103, 2800, 366, 140]]\n"
          ]
        }
      ]
    },
    {
      "cell_type": "code",
      "source": [
        "# 레이블에 해당하는 요약 데이터도 변환 수행\n",
        "tar_tokenizer = Tokenizer()\n",
        "tar_tokenizer.fit_on_texts(decoder_input_train)"
      ],
      "metadata": {
        "id": "HznEV4wiAEUr"
      },
      "execution_count": 34,
      "outputs": []
    },
    {
      "cell_type": "markdown",
      "source": [
        "등장 빈도수가 6회 미만인 단어들이 이 데이터에서 얼만큼의 비중을 차지하는지 확인해보자"
      ],
      "metadata": {
        "id": "jbJ61v7UASbD"
      }
    },
    {
      "cell_type": "code",
      "source": [
        "threshold = 6\n",
        "total_cnt = len(tar_tokenizer.word_index)   # 단어의 수\n",
        "rare_cnt = 0    # 등장 빈도수가 threshold 보다 작은 단어의 개수를 카운트\n",
        "total_freq = 0    # 훈련 데이터의 전체 단어 빈도수 총 합\n",
        "rare_freq = 0   # 등장 빈도수가 threshold 보다 작은 단어의 등장 빈도수 총 합\n",
        "\n",
        "# 단어와 빈도수의 쌍(pair)을 key와 value로 받는다\n",
        "for key, value in tar_tokenizer.word_counts.items():\n",
        "  total_freq += value\n",
        "\n",
        "  # 단어의 등장 빈도수가 threshold 보다 작으면\n",
        "  if(value < threshold):\n",
        "    rare_cnt += 1\n",
        "    rare_freq += value\n",
        "\n",
        "print('단어 집합(vocabulary)의 크기 :',total_cnt)\n",
        "print('등장 빈도가 %s번 이하인 희귀 단어의 수: %s'%(threshold - 1, rare_cnt))\n",
        "print('단어 집합에서 희귀 단어를 제외시킬 경우의 단어 집합의 크기 %s'%(total_cnt - rare_cnt))\n",
        "print(\"단어 집합에서 희귀 단어의 비율:\", (rare_cnt / total_cnt)*100)\n",
        "print(\"전체 등장 빈도에서 희귀 단어 등장 빈도 비율:\", (rare_freq / total_freq)*100)"
      ],
      "metadata": {
        "colab": {
          "base_uri": "https://localhost:8080/"
        },
        "id": "gbYBROkAANf7",
        "outputId": "2a432c54-f995-404a-b373-a3e3f89b6dce"
      },
      "execution_count": 35,
      "outputs": [
        {
          "output_type": "stream",
          "name": "stdout",
          "text": [
            "단어 집합(vocabulary)의 크기 : 10573\n",
            "등장 빈도가 5번 이하인 희귀 단어의 수: 8174\n",
            "단어 집합에서 희귀 단어를 제외시킬 경우의 단어 집합의 크기 2399\n",
            "단어 집합에서 희귀 단어의 비율: 77.31012957533339\n",
            "전체 등장 빈도에서 희귀 단어 등장 빈도 비율: 5.8824288738575925\n"
          ]
        }
      ]
    },
    {
      "cell_type": "markdown",
      "source": [
        "등장 빈도가 5회 이하인 단어들은 단어 집합에서 약 77% 차지.\n",
        "\n",
        "하지만, 실제로 훈련 데이터에서 등장 빈도로 차지하는 비중은 상대적으로 적은 수치인 5.85% 밖에 되지 않는다\n",
        "\n",
        "이 단어들은 정수 인코딩 과정에서 배제시키겠다"
      ],
      "metadata": {
        "id": "h6H8qtUwAuZ5"
      }
    },
    {
      "cell_type": "code",
      "source": [
        "tar_vocab = 2000\n",
        "tar_tokenizer = Tokenizer(num_words = tar_vocab)\n",
        "tar_tokenizer.fit_on_texts(decoder_input_train)\n",
        "tar_tokenizer.fit_on_texts(decoder_target_train)"
      ],
      "metadata": {
        "id": "pK3Uc0zMAshX"
      },
      "execution_count": 36,
      "outputs": []
    },
    {
      "cell_type": "code",
      "source": [
        "# 텍스트 시퀀스를 정수 시퀀스로 변환\n",
        "decoder_input_train = tar_tokenizer.texts_to_sequences(decoder_input_train)\n",
        "decoder_input_test = tar_tokenizer.texts_to_sequences(decoder_input_test)\n",
        "decoder_target_train = tar_tokenizer.texts_to_sequences(decoder_target_train)\n",
        "decoder_target_test = tar_tokenizer.texts_to_sequences(decoder_target_test)"
      ],
      "metadata": {
        "id": "h_svVjmVBH_A"
      },
      "execution_count": 37,
      "outputs": []
    },
    {
      "cell_type": "code",
      "source": [
        "# 정수 인코딩이 정상 진행되었는지 확인\n",
        "print(decoder_input_train[:5])\n",
        "print(decoder_target_train[:5])"
      ],
      "metadata": {
        "colab": {
          "base_uri": "https://localhost:8080/"
        },
        "id": "Ha-VXgKCBWX0",
        "outputId": "deb7d5c8-9ca5-4780-9838-382b3f4425ae"
      },
      "execution_count": 38,
      "outputs": [
        {
          "output_type": "stream",
          "name": "stdout",
          "text": [
            "[[1, 173, 82, 790, 188], [1, 17, 497, 420, 48], [1, 791], [1, 15, 108, 195], [1, 1554, 467, 431]]\n",
            "[[173, 82, 790, 188, 2], [17, 497, 420, 48, 2], [791, 2], [15, 108, 195, 2], [1554, 467, 431, 2]]\n"
          ]
        }
      ]
    },
    {
      "cell_type": "markdown",
      "source": [
        "## 빈 샘플 제거"
      ],
      "metadata": {
        "id": "h92DNXEBBcPU"
      }
    },
    {
      "cell_type": "markdown",
      "source": [
        "빈도수가 낮은 단어만으로 구성된 샘플들은 이제 빈 샘플이 되었다\n",
        "\n",
        "요약문에서 길이가 0이 된 샘플들의 인덱스를 받아오자\n",
        "\n",
        "지금 요약문에는 시작, 종료 토큰이 추가되었기 때문에 길이가 0인 요약문의 실질적 길이는 1이다"
      ],
      "metadata": {
        "id": "Wiidm4ezBfOu"
      }
    },
    {
      "cell_type": "code",
      "source": [
        "drop_train = [index for index, sentence in enumerate(decoder_input_train) if len(sentence) == 1]\n",
        "drop_test = [index for index, sentence in enumerate(decoder_input_test) if len(sentence) == 1]"
      ],
      "metadata": {
        "id": "mKmJmzMIBsfm"
      },
      "execution_count": 39,
      "outputs": []
    },
    {
      "cell_type": "code",
      "source": [
        "print('삭제할 훈련 데이터의 개수 :', len(drop_train))\n",
        "print('삭제할 테스트 데이터의 개수 :', len(drop_test))"
      ],
      "metadata": {
        "colab": {
          "base_uri": "https://localhost:8080/"
        },
        "id": "1y2ySslCB5kP",
        "outputId": "6304b32a-b247-4a34-ccb3-c4afe273b256"
      },
      "execution_count": 40,
      "outputs": [
        {
          "output_type": "stream",
          "name": "stdout",
          "text": [
            "삭제할 훈련 데이터의 개수 : 1250\n",
            "삭제할 테스트 데이터의 개수 : 348\n"
          ]
        }
      ]
    },
    {
      "cell_type": "code",
      "source": [
        "# 삭제 후의 개수\n",
        "encoder_input_train = np.delete(encoder_input_train, drop_train, axis=0)\n",
        "decoder_input_train = np.delete(decoder_input_train, drop_train, axis=0)\n",
        "decoder_target_train = np.delete(decoder_target_train, drop_train, axis=0)\n",
        "\n",
        "encoder_input_test = np.delete(encoder_input_test, drop_test, axis=0)\n",
        "decoder_input_test = np.delete(decoder_input_test, drop_test, axis=0)\n",
        "decoder_target_test = np.delete(decoder_target_test, drop_test, axis=0)\n",
        "\n",
        "print('훈련 데이터의 개수 :', len(encoder_input_train))\n",
        "print('훈련 레이블의 개수 :',len(decoder_input_train))\n",
        "print('테스트 데이터의 개수 :',len(encoder_input_test))\n",
        "print('테스트 레이블의 개수 :',len(decoder_input_test))"
      ],
      "metadata": {
        "colab": {
          "base_uri": "https://localhost:8080/"
        },
        "id": "bK_64vCKCDgi",
        "outputId": "6fe7d63e-76f5-4908-d487-db4aae512dba"
      },
      "execution_count": 41,
      "outputs": [
        {
          "output_type": "stream",
          "name": "stdout",
          "text": [
            "훈련 데이터의 개수 : 51406\n",
            "훈련 레이블의 개수 : 51406\n",
            "테스트 데이터의 개수 : 12815\n",
            "테스트 레이블의 개수 : 12815\n"
          ]
        },
        {
          "output_type": "stream",
          "name": "stderr",
          "text": [
            "/usr/local/lib/python3.7/dist-packages/numpy/lib/function_base.py:4454: VisibleDeprecationWarning: Creating an ndarray from ragged nested sequences (which is a list-or-tuple of lists-or-tuples-or ndarrays with different lengths or shapes) is deprecated. If you meant to do this, you must specify 'dtype=object' when creating the ndarray.\n",
            "  arr = asarray(arr)\n"
          ]
        }
      ]
    },
    {
      "cell_type": "markdown",
      "source": [
        "## 패딩하기"
      ],
      "metadata": {
        "id": "_-vYZeM5Coab"
      }
    },
    {
      "cell_type": "code",
      "source": [
        "encoder_input_train = pad_sequences(encoder_input_train, maxlen = text_max_len, padding='post')\n",
        "encoder_input_test = pad_sequences(encoder_input_test, maxlen = text_max_len, padding='post')\n",
        "\n",
        "decoder_input_train = pad_sequences(decoder_input_train, maxlen = summary_max_len, padding='post')\n",
        "decoder_input_test = pad_sequences(decoder_input_test, maxlen = summary_max_len, padding='post')\n",
        "\n",
        "decoder_target_train = pad_sequences(decoder_target_train, maxlen = summary_max_len, padding='post')\n",
        "decoder_target_test = pad_sequences(decoder_target_test, maxlen = summary_max_len, padding='post')"
      ],
      "metadata": {
        "id": "d8CcxKyDC63B"
      },
      "execution_count": 42,
      "outputs": []
    },
    {
      "cell_type": "markdown",
      "source": [
        "# seq2seq 요약 모델 설계 및 훈련"
      ],
      "metadata": {
        "id": "EUqYH3CIDcBe"
      }
    },
    {
      "cell_type": "markdown",
      "source": [
        "## 임포트"
      ],
      "metadata": {
        "id": "JiandSppDhC0"
      }
    },
    {
      "cell_type": "code",
      "source": [
        "from tensorflow.keras.layers import Input, LSTM, Embedding, Dense, Concatenate\n",
        "from tensorflow.keras.models import Model\n",
        "from tensorflow.keras.callbacks import EarlyStopping, ModelCheckpoint"
      ],
      "metadata": {
        "id": "3rQrlOBIDi3O"
      },
      "execution_count": 43,
      "outputs": []
    },
    {
      "cell_type": "markdown",
      "source": [
        "## 인코더 설계\n",
        "\n",
        "LSTM 층 3개"
      ],
      "metadata": {
        "id": "24Y9E_k-Dwef"
      }
    },
    {
      "cell_type": "code",
      "source": [
        "embedding_dim = 128\n",
        "hidden_size = 256\n",
        "\n",
        "# 인코더\n",
        "encoder_inputs = Input(shape=(text_max_len,))\n",
        "\n",
        "# 인코더의 임베딩 층\n",
        "enc_emb = Embedding(src_vocab, embedding_dim)(encoder_inputs)\n",
        "\n",
        "# 인코더의 LSTM 1\n",
        "encoder_lstm1 = LSTM(hidden_size, return_sequences=True, return_state=True, dropout=0.4, recurrent_dropout=0.4)\n",
        "encoder_output1, state_h1, state_c1 = encoder_lstm1(enc_emb)\n",
        "\n",
        "# 인코더의 LSTM 2\n",
        "encoder_lstm2 = LSTM(hidden_size, return_sequences=True, return_state=True, dropout=0.4, recurrent_dropout=0.4)\n",
        "encoder_output2, state_h2, state_c2 = encoder_lstm2(encoder_output1)\n",
        "\n",
        "# 인코더의 LSTM 3\n",
        "encoder_lstm3 = LSTM(hidden_size, return_sequences=True, return_state=True, dropout=0.4, recurrent_dropout=0.4)\n",
        "encoder_outputs, state_h, state_c = encoder_lstm3(encoder_output2)"
      ],
      "metadata": {
        "colab": {
          "base_uri": "https://localhost:8080/"
        },
        "id": "Cy2kG52RDx-z",
        "outputId": "a85fbc35-a453-4527-c099-1f0833a15a94"
      },
      "execution_count": 44,
      "outputs": [
        {
          "output_type": "stream",
          "name": "stdout",
          "text": [
            "WARNING:tensorflow:Layer lstm will not use cuDNN kernels since it doesn't meet the criteria. It will use a generic GPU kernel as fallback when running on GPU.\n",
            "WARNING:tensorflow:Layer lstm_1 will not use cuDNN kernels since it doesn't meet the criteria. It will use a generic GPU kernel as fallback when running on GPU.\n",
            "WARNING:tensorflow:Layer lstm_2 will not use cuDNN kernels since it doesn't meet the criteria. It will use a generic GPU kernel as fallback when running on GPU.\n"
          ]
        }
      ]
    },
    {
      "cell_type": "markdown",
      "source": [
        "## 디코더 설계 (출력층 제외)\n",
        "\n",
        "초기 상태를 인코더의 상태를 주어야 함"
      ],
      "metadata": {
        "id": "pnqXo3hTFMH1"
      }
    },
    {
      "cell_type": "code",
      "source": [
        "# 디코더\n",
        "decoder_inputs = Input(shape=(None,))\n",
        "\n",
        "# 디코더의 임베딩 층\n",
        "dec_emb_layer = Embedding(tar_vocab, embedding_dim)\n",
        "dec_emb = dec_emb_layer(decoder_inputs)\n",
        "\n",
        "# 디코더의 LSTM\n",
        "decoder_lstm = LSTM(hidden_size, return_sequences=True, return_state=True, dropout=0.4, recurrent_dropout=0.2)\n",
        "decoder_outputs, _, _ = decoder_lstm(dec_emb, initial_state = [state_h, state_c])"
      ],
      "metadata": {
        "colab": {
          "base_uri": "https://localhost:8080/"
        },
        "id": "sRXM_t_SF-4M",
        "outputId": "84415763-3520-4040-fb1f-c15900389ab6"
      },
      "execution_count": 45,
      "outputs": [
        {
          "output_type": "stream",
          "name": "stdout",
          "text": [
            "WARNING:tensorflow:Layer lstm_3 will not use cuDNN kernels since it doesn't meet the criteria. It will use a generic GPU kernel as fallback when running on GPU.\n"
          ]
        }
      ]
    },
    {
      "cell_type": "markdown",
      "source": [
        "## 디코더의 출력층 설계 어텐션"
      ],
      "metadata": {
        "id": "xnJ0XCx2Gkpd"
      }
    },
    {
      "cell_type": "markdown",
      "source": [
        "어텐션 메커니즘 결합된 새로운 출력층 설계"
      ],
      "metadata": {
        "id": "1I9ABBvpYeS2"
      }
    },
    {
      "cell_type": "code",
      "source": [
        "urllib.request.urlretrieve(\"https://raw.githubusercontent.com/ukairia777/tensorflow-nlp-tutorial/main/20.%20Text%20Summarization%20with%20Attention/attention.py\", filename=\"attention.py\")\n",
        "from attention import AttentionLayer"
      ],
      "metadata": {
        "id": "FtsRQFQMYm-y"
      },
      "execution_count": 46,
      "outputs": []
    },
    {
      "cell_type": "code",
      "source": [
        "# 어텐션 층(어텐션 함수)\n",
        "attn_layer = AttentionLayer(name='attention_layer')\n",
        "attn_out, attn_states = attn_layer([encoder_outputs, decoder_outputs])\n",
        "\n",
        "# 어텐션 결과와 디코더의 hidden state 들을 연결\n",
        "decoder_concat_input = Concatenate(axis = -1, name='concat_layer')([decoder_outputs, attn_out])\n",
        "\n",
        "# 디코더의 출력층\n",
        "decoder_softmax_layer = Dense(tar_vocab, activation='softmax')\n",
        "decoder_softmax_outputs = decoder_softmax_layer(decoder_concat_input)"
      ],
      "metadata": {
        "id": "15ScQIFFYypd"
      },
      "execution_count": 47,
      "outputs": []
    },
    {
      "cell_type": "markdown",
      "source": [
        "## 모델 정의"
      ],
      "metadata": {
        "id": "HiRuN46YGybd"
      }
    },
    {
      "cell_type": "code",
      "source": [
        "# 모델 정의\n",
        "model = Model([encoder_inputs, decoder_inputs], decoder_softmax_outputs)\n",
        "model.summary()"
      ],
      "metadata": {
        "colab": {
          "base_uri": "https://localhost:8080/"
        },
        "id": "FQgJ8z9lG0I1",
        "outputId": "0c83f568-5df7-4326-aa37-ebcdb5193902"
      },
      "execution_count": 48,
      "outputs": [
        {
          "output_type": "stream",
          "name": "stdout",
          "text": [
            "Model: \"model\"\n",
            "__________________________________________________________________________________________________\n",
            " Layer (type)                   Output Shape         Param #     Connected to                     \n",
            "==================================================================================================\n",
            " input_1 (InputLayer)           [(None, 50)]         0           []                               \n",
            "                                                                                                  \n",
            " embedding (Embedding)          (None, 50, 128)      1024000     ['input_1[0][0]']                \n",
            "                                                                                                  \n",
            " lstm (LSTM)                    [(None, 50, 256),    394240      ['embedding[0][0]']              \n",
            "                                 (None, 256),                                                     \n",
            "                                 (None, 256)]                                                     \n",
            "                                                                                                  \n",
            " input_2 (InputLayer)           [(None, None)]       0           []                               \n",
            "                                                                                                  \n",
            " lstm_1 (LSTM)                  [(None, 50, 256),    525312      ['lstm[0][0]']                   \n",
            "                                 (None, 256),                                                     \n",
            "                                 (None, 256)]                                                     \n",
            "                                                                                                  \n",
            " embedding_1 (Embedding)        (None, None, 128)    256000      ['input_2[0][0]']                \n",
            "                                                                                                  \n",
            " lstm_2 (LSTM)                  [(None, 50, 256),    525312      ['lstm_1[0][0]']                 \n",
            "                                 (None, 256),                                                     \n",
            "                                 (None, 256)]                                                     \n",
            "                                                                                                  \n",
            " lstm_3 (LSTM)                  [(None, None, 256),  394240      ['embedding_1[0][0]',            \n",
            "                                 (None, 256),                     'lstm_2[0][1]',                 \n",
            "                                 (None, 256)]                     'lstm_2[0][2]']                 \n",
            "                                                                                                  \n",
            " attention_layer (AttentionLaye  ((None, None, 256),  131328     ['lstm_2[0][0]',                 \n",
            " r)                              (None, None, 50))                'lstm_3[0][0]']                 \n",
            "                                                                                                  \n",
            " concat_layer (Concatenate)     (None, None, 512)    0           ['lstm_3[0][0]',                 \n",
            "                                                                  'attention_layer[0][0]']        \n",
            "                                                                                                  \n",
            " dense (Dense)                  (None, None, 2000)   1026000     ['concat_layer[0][0]']           \n",
            "                                                                                                  \n",
            "==================================================================================================\n",
            "Total params: 4,276,432\n",
            "Trainable params: 4,276,432\n",
            "Non-trainable params: 0\n",
            "__________________________________________________________________________________________________\n"
          ]
        }
      ]
    },
    {
      "cell_type": "markdown",
      "source": [
        "## 모델 컴파일, 학습"
      ],
      "metadata": {
        "id": "S2hUcE9BG6mX"
      }
    },
    {
      "cell_type": "code",
      "source": [
        "model.compile(optimizer='rmsprop', loss='sparse_categorical_crossentropy')"
      ],
      "metadata": {
        "id": "Tp5sSMBHHIma"
      },
      "execution_count": 49,
      "outputs": []
    },
    {
      "cell_type": "code",
      "source": [
        "es = EarlyStopping(monitor='val_loss', mode='min', verbose=1, patience=2)\n",
        "\n",
        "history = model.fit(x=[encoder_input_train, decoder_input_train], y=decoder_target_train, \n",
        "                    validation_data=([encoder_input_test, decoder_input_test], decoder_target_test),\n",
        "                    batch_size=256, callbacks=[es], epochs=50)"
      ],
      "metadata": {
        "colab": {
          "base_uri": "https://localhost:8080/"
        },
        "id": "gNYxh0WVHOzU",
        "outputId": "d58f04de-3ef0-4cbc-e093-54ebc0004df4"
      },
      "execution_count": 50,
      "outputs": [
        {
          "output_type": "stream",
          "name": "stdout",
          "text": [
            "Epoch 1/50\n",
            "201/201 [==============================] - 150s 679ms/step - loss: 2.7024 - val_loss: 2.4062\n",
            "Epoch 2/50\n",
            "201/201 [==============================] - 135s 670ms/step - loss: 2.3775 - val_loss: 2.2772\n",
            "Epoch 3/50\n",
            "201/201 [==============================] - 136s 678ms/step - loss: 2.2458 - val_loss: 2.1721\n",
            "Epoch 4/50\n",
            "201/201 [==============================] - 136s 677ms/step - loss: 2.1331 - val_loss: 2.0716\n",
            "Epoch 5/50\n",
            "201/201 [==============================] - 137s 682ms/step - loss: 2.0454 - val_loss: 2.0186\n",
            "Epoch 6/50\n",
            "201/201 [==============================] - 137s 680ms/step - loss: 1.9786 - val_loss: 1.9786\n",
            "Epoch 7/50\n",
            "201/201 [==============================] - 139s 691ms/step - loss: 1.9273 - val_loss: 1.9504\n",
            "Epoch 8/50\n",
            "201/201 [==============================] - 137s 681ms/step - loss: 1.8830 - val_loss: 1.9281\n",
            "Epoch 9/50\n",
            "201/201 [==============================] - 137s 681ms/step - loss: 1.8449 - val_loss: 1.9084\n",
            "Epoch 10/50\n",
            "201/201 [==============================] - 137s 684ms/step - loss: 1.8085 - val_loss: 1.8966\n",
            "Epoch 11/50\n",
            "201/201 [==============================] - 136s 678ms/step - loss: 1.7741 - val_loss: 1.8812\n",
            "Epoch 12/50\n",
            "201/201 [==============================] - 141s 701ms/step - loss: 1.7428 - val_loss: 1.8734\n",
            "Epoch 13/50\n",
            "201/201 [==============================] - 137s 684ms/step - loss: 1.7132 - val_loss: 1.8639\n",
            "Epoch 14/50\n",
            "201/201 [==============================] - 138s 686ms/step - loss: 1.6851 - val_loss: 1.8570\n",
            "Epoch 15/50\n",
            "201/201 [==============================] - 135s 673ms/step - loss: 1.6572 - val_loss: 1.8573\n",
            "Epoch 16/50\n",
            "201/201 [==============================] - 137s 683ms/step - loss: 1.6319 - val_loss: 1.8509\n",
            "Epoch 17/50\n",
            "201/201 [==============================] - 137s 680ms/step - loss: 1.6068 - val_loss: 1.8494\n",
            "Epoch 18/50\n",
            "201/201 [==============================] - 139s 690ms/step - loss: 1.5843 - val_loss: 1.8477\n",
            "Epoch 19/50\n",
            "201/201 [==============================] - 137s 683ms/step - loss: 1.5614 - val_loss: 1.8527\n",
            "Epoch 20/50\n",
            "201/201 [==============================] - 137s 684ms/step - loss: 1.5396 - val_loss: 1.8480\n",
            "Epoch 20: early stopping\n"
          ]
        }
      ]
    },
    {
      "cell_type": "code",
      "source": [
        "plt.plot(history.history['loss'], label='train')\n",
        "plt.plot(history.history['val_loss'], label='test')\n",
        "plt.legend()\n",
        "plt.show()"
      ],
      "metadata": {
        "id": "Zu1FXy1SHj5S",
        "colab": {
          "base_uri": "https://localhost:8080/",
          "height": 265
        },
        "outputId": "b6037eeb-2502-49f0-8408-1fa2e513ed3a"
      },
      "execution_count": 51,
      "outputs": [
        {
          "output_type": "display_data",
          "data": {
            "text/plain": [
              "<Figure size 432x288 with 1 Axes>"
            ],
            "image/png": "[encoded data removed]"
          },
          "metadata": {
            "needs_background": "light"
          }
        }
      ]
    },
    {
      "cell_type": "markdown",
      "source": [
        "# seq2seq 로 요약 모델 테스트하기"
      ],
      "metadata": {
        "id": "tyhesppBQRpG"
      }
    },
    {
      "cell_type": "code",
      "source": [
        "# 테스트를 위해 필요한 3개의 사전을 만든다\n",
        "src_index_to_word = src_tokenizer.index_word  # 원문 단어 집합에서 정수 -> 단어를 얻음\n",
        "tar_word_to_index = tar_tokenizer.word_index  # 요약 단어 집합에서 단어 -> 정수를 얻음\n",
        "tar_index_to_word = tar_tokenizer.index_word  # 요약 단어 집합에서 정수 -> 단어를 얻음"
      ],
      "metadata": {
        "id": "sca_ZTSjQWzu"
      },
      "execution_count": 52,
      "outputs": []
    },
    {
      "cell_type": "markdown",
      "source": [
        "seq2seq는 훈련 단계와 테스트 단계의 동작이 다르므로 테스트 단계의 모델을 별도로 다시 설계해줄 필요가 있다\n",
        "\n",
        "다시 새로운 seq2seq 모델을 만들자"
      ],
      "metadata": {
        "id": "KmKZ7BN-Qs9I"
      }
    },
    {
      "cell_type": "markdown",
      "source": [
        "## 인코더 설계"
      ],
      "metadata": {
        "id": "FCK6pkuyQ10S"
      }
    },
    {
      "cell_type": "code",
      "source": [
        "encoder_model = Model(inputs=encoder_inputs, outputs=[encoder_outputs, state_h, state_c])"
      ],
      "metadata": {
        "id": "kn7EKuqHQ21n"
      },
      "execution_count": 53,
      "outputs": []
    },
    {
      "cell_type": "markdown",
      "source": [
        "## 테스트 단계의 디코더 설계"
      ],
      "metadata": {
        "id": "LpUlzIayQ-JJ"
      }
    },
    {
      "cell_type": "code",
      "source": [
        "# 이전 시점의 상태들을 저장하는 텐서\n",
        "decoder_state_input_h = Input(shape=(hidden_size,))\n",
        "decoder_state_input_c = Input(shape=(hidden_size,))\n",
        "\n",
        "dec_emb2 = dec_emb_layer(decoder_inputs)\n",
        "# 문장의 다음 단어를 예측하기 위해서 초기 상태(initial_state)를 이전 시점의 상태로 사용. 이는 뒤의 함수 decode_sequence()에 구현\n",
        "# 훈련 과정에서와 달리 LSTM의 리턴하는 은닉 상태와 셀 상태인 state_h와 state_c를 버리지 않음\n",
        "decoder_outputs2, state_h2, state_c2 = decoder_lstm(dec_emb2, initial_state=[decoder_state_input_h, decoder_state_input_c])\n",
        "\n",
        "# 어텐션 함수\n",
        "decoder_hidden_state_input = Input(shape=(text_max_len, hidden_size))\n",
        "attn_out_inf, attn_states_inf = attn_layer([decoder_hidden_state_input, decoder_outputs2])\n",
        "decoder_inf_concat = Concatenate(axis=-1, name='concat')([decoder_outputs2, attn_out_inf])\n",
        "\n",
        "# 디코더의 출력층\n",
        "decoder_outputs2 = decoder_softmax_layer(decoder_inf_concat)\n",
        "\n",
        "# 최종 디코더 모델\n",
        "decoder_model = Model(\n",
        "    [decoder_inputs] + [decoder_hidden_state_input, decoder_state_input_h, decoder_state_input_c],\n",
        "    [decoder_outputs2] + [state_h2, state_c2])"
      ],
      "metadata": {
        "id": "ex2oB9HgQ_qE"
      },
      "execution_count": 54,
      "outputs": []
    },
    {
      "cell_type": "markdown",
      "source": [
        "## 테스트를 위해 사용되는 함수 설계"
      ],
      "metadata": {
        "id": "DHDmue5gUhc5"
      }
    },
    {
      "cell_type": "code",
      "source": [
        "def decode_sequence(input_seq):\n",
        "  # 입력으로부터 인코더의 상태를 얻음\n",
        "  e_out, e_h, e_c = encoder_model.predict(input_seq)\n",
        "\n",
        "  # <sos> 에 해당하는 토큰 생성\n",
        "  target_seq = np.zeros((1,1))\n",
        "  target_seq[0,0] = tar_word_to_index['sostoken']\n",
        "\n",
        "  stop_condition = False\n",
        "  decoded_sentence = ''\n",
        "  \n",
        "  while not stop_condition: #stop_condition이 True가 될 때까지 루프 반복\n",
        "    output_tokens, h, c = decoder_model.predict([target_seq] + [e_out, e_h, e_c])\n",
        "    sampled_token_index = np.argmax(output_tokens[0, -1, :])\n",
        "    sampled_token = tar_index_to_word[sampled_token_index]\n",
        "\n",
        "    if (sampled_token != 'eostoken'):\n",
        "      decoded_sentence += ' '+sampled_token\n",
        "\n",
        "    # <eos>에 도달하거나 최대 길이를 넘으면 중단\n",
        "    if (sampled_token == 'eostoken' or len(decoded_sentence.split()) >= (summary_max_len-1)):\n",
        "      stop_condition = True\n",
        "\n",
        "    # 길이가 1인 타겟 시퀀스를 업데이트\n",
        "    target_seq = np.zeros((1,1))\n",
        "    target_seq[0,0] = sampled_token_index\n",
        "\n",
        "    # 상태를 업데이트\n",
        "    e_h, e_c = h, c\n",
        "\n",
        "  return decoded_sentence"
      ],
      "metadata": {
        "id": "mm2bOhD8Ukd9"
      },
      "execution_count": 55,
      "outputs": []
    },
    {
      "cell_type": "markdown",
      "source": [
        "테스트 단계에서 원문과 실제 요약문, 예측 요약문을 비교하기 위해 정수 시퀀스를 텍스트 시퀀스로 만드는 함수를 설계"
      ],
      "metadata": {
        "id": "1vAulHcXWLef"
      }
    },
    {
      "cell_type": "code",
      "source": [
        "# 원문의 정수 시퀀스를 텍스트 시퀀스로 변환\n",
        "def seq2text(input_seq):\n",
        "  sentence=''\n",
        "  for i in input_seq:\n",
        "    if (i != 0):\n",
        "      sentence = sentence + src_index_to_word[i] + ' '\n",
        "  return sentence\n",
        "\n",
        "# 요약문의 정수 시퀀스를 텍스트 시퀀스로 변환\n",
        "def seq2summary(input_seq):\n",
        "  sentence=''\n",
        "  for i in input_seq:\n",
        "    if ((i != 0 and i != tar_word_to_index['sostoken']) and i != tar_word_to_index['eostoken']):\n",
        "      sentence = sentence + tar_index_to_word[i] + ' '\n",
        "  return sentence"
      ],
      "metadata": {
        "id": "zG0ZYyryWAvI"
      },
      "execution_count": 56,
      "outputs": []
    },
    {
      "cell_type": "markdown",
      "source": [
        "## 테스트"
      ],
      "metadata": {
        "id": "A6kRqFxnW3U9"
      }
    },
    {
      "cell_type": "code",
      "source": [
        "# 테스트 샘플 중 5개만 테스트\n",
        "for i in range(600, 605):\n",
        "  print('원문 :', seq2text(encoder_input_test[i]))\n",
        "  print('실제 요약문 :', seq2summary(decoder_input_test[i]))\n",
        "  print('예측 요약문 :', decode_sequence(encoder_input_test[i].reshape(1, text_max_len)))\n",
        "  print('\\n')"
      ],
      "metadata": {
        "id": "b6MGfUbHWzYR",
        "colab": {
          "base_uri": "https://localhost:8080/"
        },
        "outputId": "45464a10-b55c-4f1d-a479-66f843cfc4a5"
      },
      "execution_count": 57,
      "outputs": [
        {
          "output_type": "stream",
          "name": "stdout",
          "text": [
            "원문 : excellent healthy training high value treats dogs love good handle hydrating like come various versions \n",
            "실제 요약문 : excellent treat \n",
            "예측 요약문 :  great training treats\n",
            "\n",
            "\n",
            "원문 : bought bag dispenser turned use took refills company made dispenser unacceptable makes excellent bags put excellent dispenser find cap little hard get expect ages bit perhaps intended give longer useful life btw dog bags use daily cat litter box \n",
            "실제 요약문 : convenient and easy to use \n",
            "예측 요약문 :  great product\n",
            "\n",
            "\n",
            "원문 : getting hard find discs limited types coffee like gevalia better maxwell house gevalia bitter \n",
            "실제 요약문 : best decaf \n",
            "예측 요약문 :  great coffee\n",
            "\n",
            "\n",
            "원문 : product great daughter extremely pick loves also gluten free actually bad calories per serving great dish take thanksgiving dinner \n",
            "실제 요약문 : awesome corn cake \n",
            "예측 요약문 :  great product\n",
            "\n",
            "\n",
            "원문 : taste like cough syrup reviewer stated best gum highly recommend plant live austin tx bought pack san ordered box amazon lemon best flavors orbit makes john \n",
            "실제 요약문 : tastes great \n",
            "예측 요약문 :  best gum ever\n",
            "\n",
            "\n"
          ]
        }
      ]
    }
  ]
}