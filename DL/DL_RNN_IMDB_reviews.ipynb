{
  "nbformat": 4,
  "nbformat_minor": 0,
  "metadata": {
    "colab": {
      "name": "DL_RNN_IMDB_reviews",
      "provenance": [],
      "collapsed_sections": [],
      "toc_visible": true
    },
    "kernelspec": {
      "name": "python3",
      "display_name": "Python 3"
    },
    "language_info": {
      "name": "python"
    },
    "accelerator": "GPU",
    "gpuClass": "standard"
  },
  "cells": [
    {
      "cell_type": "markdown",
      "source": [
        "데이터 : IMDB 리뷰 데이터셋\n",
        "\n",
        "타깃 : 0(부정), 1(긍정)"
      ],
      "metadata": {
        "id": "ATnT1xzWHgM4"
      }
    },
    {
      "cell_type": "markdown",
      "source": [
        "# 임포트"
      ],
      "metadata": {
        "id": "VF6nPpIZQFZL"
      }
    },
    {
      "cell_type": "code",
      "source": [
        "import numpy as np\n",
        "import matplotlib.pyplot as plt\n",
        "\n",
        "from tensorflow import keras\n",
        "from tensorflow.keras.layers import SimpleRNN, Dense, Embedding\n",
        "from tensorflow.keras.optimizers import RMSprop\n",
        "from tensorflow.keras.callbacks import ModelCheckpoint, EarlyStopping"
      ],
      "metadata": {
        "id": "qzX6ukJ_QGqo"
      },
      "execution_count": 23,
      "outputs": []
    },
    {
      "cell_type": "markdown",
      "source": [
        "# 데이터셋 준비"
      ],
      "metadata": {
        "id": "xEEO92LEQIrA"
      }
    },
    {
      "cell_type": "markdown",
      "source": [
        "## 데이터셋 로드"
      ],
      "metadata": {
        "id": "Gdj5w-xdQw3b"
      }
    },
    {
      "cell_type": "code",
      "source": [
        "from tensorflow.keras.datasets import imdb\n",
        "(train_input, train_target),(test_input, test_target) = imdb.load_data(num_words=500)"
      ],
      "metadata": {
        "id": "_ZuZhRZ0QKhU"
      },
      "execution_count": 2,
      "outputs": []
    },
    {
      "cell_type": "markdown",
      "source": [
        "## 데이터 살펴보기"
      ],
      "metadata": {
        "id": "f-srjDYHQyn7"
      }
    },
    {
      "cell_type": "code",
      "source": [
        "#훈련 세트와 테스트 세트의 크기 확인\n",
        "print(train_input.shape, test_input.shape)"
      ],
      "metadata": {
        "colab": {
          "base_uri": "https://localhost:8080/"
        },
        "id": "EHRdDExUQasI",
        "outputId": "fb0dfe89-93ef-4077-b526-1c1dba75dc27"
      },
      "execution_count": 3,
      "outputs": [
        {
          "output_type": "stream",
          "name": "stdout",
          "text": [
            "(25000,) (25000,)\n"
          ]
        }
      ]
    },
    {
      "cell_type": "code",
      "source": [
        "#첫 번째 리뷰의 길이 출력\n",
        "print(len(train_input[0]))"
      ],
      "metadata": {
        "colab": {
          "base_uri": "https://localhost:8080/"
        },
        "id": "sshJUaKaQhPD",
        "outputId": "26f69d76-4ae4-42cb-c6a7-47f7e799c357"
      },
      "execution_count": 4,
      "outputs": [
        {
          "output_type": "stream",
          "name": "stdout",
          "text": [
            "218\n"
          ]
        }
      ]
    },
    {
      "cell_type": "code",
      "source": [
        "#두 번째 리뷰의 길이 출력\n",
        "print(len(train_input[1]))"
      ],
      "metadata": {
        "colab": {
          "base_uri": "https://localhost:8080/"
        },
        "id": "bx4WZsgqQuJE",
        "outputId": "6aaaf27c-b0b7-490b-c0d2-f4697eee2d0f"
      },
      "execution_count": 5,
      "outputs": [
        {
          "output_type": "stream",
          "name": "stdout",
          "text": [
            "189\n"
          ]
        }
      ]
    },
    {
      "cell_type": "code",
      "source": [
        "#첫 번째 리뷰 내용 출력\n",
        "print(train_input[0])"
      ],
      "metadata": {
        "colab": {
          "base_uri": "https://localhost:8080/"
        },
        "id": "rSmFbKaaQ18s",
        "outputId": "300e74d6-2911-4af4-d06a-2b67e49a0272"
      },
      "execution_count": 6,
      "outputs": [
        {
          "output_type": "stream",
          "name": "stdout",
          "text": [
            "[1, 14, 22, 16, 43, 2, 2, 2, 2, 65, 458, 2, 66, 2, 4, 173, 36, 256, 5, 25, 100, 43, 2, 112, 50, 2, 2, 9, 35, 480, 284, 5, 150, 4, 172, 112, 167, 2, 336, 385, 39, 4, 172, 2, 2, 17, 2, 38, 13, 447, 4, 192, 50, 16, 6, 147, 2, 19, 14, 22, 4, 2, 2, 469, 4, 22, 71, 87, 12, 16, 43, 2, 38, 76, 15, 13, 2, 4, 22, 17, 2, 17, 12, 16, 2, 18, 2, 5, 62, 386, 12, 8, 316, 8, 106, 5, 4, 2, 2, 16, 480, 66, 2, 33, 4, 130, 12, 16, 38, 2, 5, 25, 124, 51, 36, 135, 48, 25, 2, 33, 6, 22, 12, 215, 28, 77, 52, 5, 14, 407, 16, 82, 2, 8, 4, 107, 117, 2, 15, 256, 4, 2, 7, 2, 5, 2, 36, 71, 43, 2, 476, 26, 400, 317, 46, 7, 4, 2, 2, 13, 104, 88, 4, 381, 15, 297, 98, 32, 2, 56, 26, 141, 6, 194, 2, 18, 4, 226, 22, 21, 134, 476, 26, 480, 5, 144, 30, 2, 18, 51, 36, 28, 224, 92, 25, 104, 4, 226, 65, 16, 38, 2, 88, 12, 16, 283, 5, 16, 2, 113, 103, 32, 15, 16, 2, 19, 178, 32]\n"
          ]
        }
      ]
    },
    {
      "cell_type": "markdown",
      "source": [
        "텐서플로의 IMDB 리뷰 데이터는 이미 정수로 변환되어 있다\n",
        "\n",
        "어휘 사전에 없는 단어는 2로 나타남"
      ],
      "metadata": {
        "id": "Lor7nw8XQ8yA"
      }
    },
    {
      "cell_type": "code",
      "source": [
        "print(train_target.shape)"
      ],
      "metadata": {
        "colab": {
          "base_uri": "https://localhost:8080/"
        },
        "id": "PNyLwnZiVHR3",
        "outputId": "3899f6d0-70a7-4003-8d31-fc2b5c3bd7de"
      },
      "execution_count": 7,
      "outputs": [
        {
          "output_type": "stream",
          "name": "stdout",
          "text": [
            "(25000,)\n"
          ]
        }
      ]
    },
    {
      "cell_type": "code",
      "source": [
        "#타깃 데이터 출력\n",
        "print(train_target[:20])"
      ],
      "metadata": {
        "colab": {
          "base_uri": "https://localhost:8080/"
        },
        "id": "vuuMypTjRCaz",
        "outputId": "22b5f76b-6105-453f-e341-0a24c185ab5f"
      },
      "execution_count": 8,
      "outputs": [
        {
          "output_type": "stream",
          "name": "stdout",
          "text": [
            "[1 0 0 1 0 0 1 0 1 0 1 0 0 0 0 0 1 1 0 1]\n"
          ]
        }
      ]
    },
    {
      "cell_type": "markdown",
      "source": [
        "## 훈련 세트에서 검증 세트 나누기"
      ],
      "metadata": {
        "id": "d3ssKXfmRLon"
      }
    },
    {
      "cell_type": "code",
      "source": [
        "from sklearn.model_selection import train_test_split\n",
        "train_input, val_input, train_target, val_target = train_test_split(\n",
        "    train_input, train_target, test_size=0.2, random_state=42)"
      ],
      "metadata": {
        "id": "vP68ABTDRNh0"
      },
      "execution_count": 9,
      "outputs": []
    },
    {
      "cell_type": "code",
      "source": [
        "print(train_input.shape, val_input.shape)"
      ],
      "metadata": {
        "colab": {
          "base_uri": "https://localhost:8080/"
        },
        "id": "7dpWwUldTvU4",
        "outputId": "6800b077-6f1d-4133-e34c-f2917e5757f4"
      },
      "execution_count": 10,
      "outputs": [
        {
          "output_type": "stream",
          "name": "stdout",
          "text": [
            "(20000,) (5000,)\n"
          ]
        }
      ]
    },
    {
      "cell_type": "markdown",
      "source": [
        "## 훈련 세트 살펴보기"
      ],
      "metadata": {
        "id": "gjG0XVscRYeW"
      }
    },
    {
      "cell_type": "code",
      "source": [
        "#각 리뷰의 길이를 계산해 넘파이 배열에 담기\n",
        "lengths = np.array([len(x) for x in train_input])\n",
        "\n",
        "#리뷰 길이의 평균값과 중간값 구하기\n",
        "print(np.mean(lengths), np.median(lengths))"
      ],
      "metadata": {
        "colab": {
          "base_uri": "https://localhost:8080/"
        },
        "id": "89h13Tz9Rf22",
        "outputId": "02daeb97-9ea0-4583-af96-0e0c5e130f5d"
      },
      "execution_count": 11,
      "outputs": [
        {
          "output_type": "stream",
          "name": "stdout",
          "text": [
            "239.00925 178.0\n"
          ]
        }
      ]
    },
    {
      "cell_type": "code",
      "source": [
        "#히스토그램 그리기\n",
        "plt.hist(lengths)\n",
        "plt.xlabel('length')\n",
        "plt.ylabel('frequency')\n",
        "plt.show()"
      ],
      "metadata": {
        "colab": {
          "base_uri": "https://localhost:8080/",
          "height": 279
        },
        "id": "EPrMyOGfR0IT",
        "outputId": "ae595472-3d94-489f-88ea-9a408d7bf4f7"
      },
      "execution_count": 12,
      "outputs": [
        {
          "output_type": "display_data",
          "data": {
            "text/plain": [
              "<Figure size 432x288 with 1 Axes>"
            ],
            "image/png": "[encoded data removed]"
          },
          "metadata": {
            "needs_background": "light"
          }
        }
      ]
    },
    {
      "cell_type": "markdown",
      "source": [
        "리뷰 길이가 한쪽으로 치우쳤다\n",
        "\n",
        "여기서는 100개의 단어만 사용하겠다"
      ],
      "metadata": {
        "id": "2rhaySbUSogZ"
      }
    },
    {
      "cell_type": "markdown",
      "source": [
        "## 데이터 길이 맞추기"
      ],
      "metadata": {
        "id": "VSYVzQ7vSxmA"
      }
    },
    {
      "cell_type": "code",
      "source": [
        "from tensorflow.keras.preprocessing.sequence import pad_sequences\n",
        "train_seq = pad_sequences(train_input, maxlen=100)\n",
        "val_seq = pad_sequences(val_input, maxlen=100)"
      ],
      "metadata": {
        "id": "6Mr5NkKUSwUP"
      },
      "execution_count": 14,
      "outputs": []
    },
    {
      "cell_type": "code",
      "source": [
        "#train_seq 크기 확인\n",
        "print(train_seq.shape, val_seq.shape)"
      ],
      "metadata": {
        "colab": {
          "base_uri": "https://localhost:8080/"
        },
        "id": "WdjQGc0mS7oP",
        "outputId": "a64bb5b8-b91e-4999-ecd0-f3308164b530"
      },
      "execution_count": 15,
      "outputs": [
        {
          "output_type": "stream",
          "name": "stdout",
          "text": [
            "(20000, 100) (5000, 100)\n"
          ]
        }
      ]
    },
    {
      "cell_type": "code",
      "source": [
        "#앞에 0이 채워진 것을 볼 수 있다\n",
        "print(train_seq[5])"
      ],
      "metadata": {
        "colab": {
          "base_uri": "https://localhost:8080/"
        },
        "id": "1dGmfwsRTFqd",
        "outputId": "77a59fb3-86a9-47a8-9804-4bdf1b6331d0"
      },
      "execution_count": 19,
      "outputs": [
        {
          "output_type": "stream",
          "name": "stdout",
          "text": [
            "[  0   0   0   0   1   2 195  19  49   2   2 190   4   2 352   2 183  10\n",
            "  10  13  82  79   4   2  36  71 269   8   2  25  19  49   7   4   2   2\n",
            "   2   2   2  10  10  48  25  40   2  11   2   2  40   2   2   5   4   2\n",
            "   2  95  14 238  56 129   2  10  10  21   2  94 364 352   2   2  11 190\n",
            "  24 484   2   7  94 205 405  10  10  87   2  34  49   2   7   2   2   2\n",
            "   2   2 290   2  46  48  64  18   4   2]\n"
          ]
        }
      ]
    },
    {
      "cell_type": "markdown",
      "source": [
        "# 순환 신경망 만들기 SimpleRNN"
      ],
      "metadata": {
        "id": "RsftF1JVTR8l"
      }
    },
    {
      "cell_type": "markdown",
      "source": [
        "## 모델 정의. 임베딩\n",
        "\n",
        "SimpleRNN"
      ],
      "metadata": {
        "id": "GYQ5ORNcTUMm"
      }
    },
    {
      "cell_type": "code",
      "source": [
        "model = keras.Sequential()\n",
        "model.add(Embedding(500, 16, input_length=100))\n",
        "model.add(SimpleRNN(8))\n",
        "model.add(Dense(1, activation='sigmoid'))"
      ],
      "metadata": {
        "id": "chf2WbOkT5pt"
      },
      "execution_count": 26,
      "outputs": []
    },
    {
      "cell_type": "markdown",
      "source": [
        "Embedding 500 : 어휘 사전 크기 / 16 : 임베딩 벡트 크기"
      ],
      "metadata": {
        "id": "jp0UcVjHWAAJ"
      }
    },
    {
      "cell_type": "code",
      "source": [
        "model.summary()"
      ],
      "metadata": {
        "colab": {
          "base_uri": "https://localhost:8080/"
        },
        "id": "iJ-0jBBGWGsF",
        "outputId": "faf9bbd1-fc49-4bfc-d0e2-46562dbacdf3"
      },
      "execution_count": 27,
      "outputs": [
        {
          "output_type": "stream",
          "name": "stdout",
          "text": [
            "Model: \"sequential_1\"\n",
            "_________________________________________________________________\n",
            " Layer (type)                Output Shape              Param #   \n",
            "=================================================================\n",
            " embedding_1 (Embedding)     (None, 100, 16)           8000      \n",
            "                                                                 \n",
            " simple_rnn_1 (SimpleRNN)    (None, 8)                 200       \n",
            "                                                                 \n",
            " dense_1 (Dense)             (None, 1)                 9         \n",
            "                                                                 \n",
            "=================================================================\n",
            "Total params: 8,209\n",
            "Trainable params: 8,209\n",
            "Non-trainable params: 0\n",
            "_________________________________________________________________\n"
          ]
        }
      ]
    },
    {
      "cell_type": "markdown",
      "source": [
        "## 모델 훈련"
      ],
      "metadata": {
        "id": "CmwJQsSVWJ9n"
      }
    },
    {
      "cell_type": "code",
      "source": [
        "rmsprop = RMSprop(learning_rate=1e-4)\n",
        "\n",
        "model.compile(optimizer=rmsprop, loss='binary_crossentropy', metrics=['accuracy'])\n",
        "\n",
        "checkpoint_cb = ModelCheckpoint('best-embedding-model.h5', save_best_only=True)\n",
        "early_stopping_cb = EarlyStopping(patience=3, restore_best_weights=True)\n",
        "\n",
        "history = model.fit(train_seq, train_target, epochs=100, batch_size=64,\n",
        "                    validation_data=(val_seq, val_target),\n",
        "                    callbacks=[checkpoint_cb, early_stopping_cb])"
      ],
      "metadata": {
        "colab": {
          "base_uri": "https://localhost:8080/"
        },
        "id": "OL4CX5TSWZNe",
        "outputId": "598befe6-47a3-499b-baf7-c526262dfd11"
      },
      "execution_count": 28,
      "outputs": [
        {
          "output_type": "stream",
          "name": "stdout",
          "text": [
            "Epoch 1/100\n",
            "313/313 [==============================] - 33s 102ms/step - loss: 0.6951 - accuracy: 0.5062 - val_loss: 0.6919 - val_accuracy: 0.5158\n",
            "Epoch 2/100\n",
            "313/313 [==============================] - 31s 98ms/step - loss: 0.6910 - accuracy: 0.5231 - val_loss: 0.6910 - val_accuracy: 0.5190\n",
            "Epoch 3/100\n",
            "313/313 [==============================] - 31s 98ms/step - loss: 0.6885 - accuracy: 0.5333 - val_loss: 0.6902 - val_accuracy: 0.5272\n",
            "Epoch 4/100\n",
            "313/313 [==============================] - 31s 98ms/step - loss: 0.6859 - accuracy: 0.5482 - val_loss: 0.6898 - val_accuracy: 0.5310\n",
            "Epoch 5/100\n",
            "313/313 [==============================] - 31s 98ms/step - loss: 0.6830 - accuracy: 0.5602 - val_loss: 0.6898 - val_accuracy: 0.5268\n",
            "Epoch 6/100\n",
            "313/313 [==============================] - 31s 99ms/step - loss: 0.6792 - accuracy: 0.5714 - val_loss: 0.6877 - val_accuracy: 0.5360\n",
            "Epoch 7/100\n",
            "313/313 [==============================] - 31s 97ms/step - loss: 0.6669 - accuracy: 0.6230 - val_loss: 0.6701 - val_accuracy: 0.6084\n",
            "Epoch 8/100\n",
            "313/313 [==============================] - 31s 98ms/step - loss: 0.6465 - accuracy: 0.6815 - val_loss: 0.6508 - val_accuracy: 0.6636\n",
            "Epoch 9/100\n",
            "313/313 [==============================] - 32s 101ms/step - loss: 0.6251 - accuracy: 0.7180 - val_loss: 0.6331 - val_accuracy: 0.6996\n",
            "Epoch 10/100\n",
            "313/313 [==============================] - 30s 97ms/step - loss: 0.6048 - accuracy: 0.7405 - val_loss: 0.6166 - val_accuracy: 0.7180\n",
            "Epoch 11/100\n",
            "313/313 [==============================] - 30s 97ms/step - loss: 0.5848 - accuracy: 0.7587 - val_loss: 0.5964 - val_accuracy: 0.7388\n",
            "Epoch 12/100\n",
            "313/313 [==============================] - 31s 100ms/step - loss: 0.5664 - accuracy: 0.7715 - val_loss: 0.5811 - val_accuracy: 0.7500\n",
            "Epoch 13/100\n",
            "313/313 [==============================] - 30s 97ms/step - loss: 0.5486 - accuracy: 0.7782 - val_loss: 0.5680 - val_accuracy: 0.7534\n",
            "Epoch 14/100\n",
            "313/313 [==============================] - 30s 97ms/step - loss: 0.5322 - accuracy: 0.7855 - val_loss: 0.5563 - val_accuracy: 0.7558\n",
            "Epoch 15/100\n",
            "313/313 [==============================] - 31s 98ms/step - loss: 0.5164 - accuracy: 0.7920 - val_loss: 0.5425 - val_accuracy: 0.7640\n",
            "Epoch 16/100\n",
            "313/313 [==============================] - 31s 98ms/step - loss: 0.5029 - accuracy: 0.7961 - val_loss: 0.5378 - val_accuracy: 0.7578\n",
            "Epoch 17/100\n",
            "313/313 [==============================] - 31s 98ms/step - loss: 0.4906 - accuracy: 0.7990 - val_loss: 0.5235 - val_accuracy: 0.7678\n",
            "Epoch 18/100\n",
            "313/313 [==============================] - 32s 101ms/step - loss: 0.4786 - accuracy: 0.8025 - val_loss: 0.5168 - val_accuracy: 0.7698\n",
            "Epoch 19/100\n",
            "313/313 [==============================] - 31s 99ms/step - loss: 0.4680 - accuracy: 0.8074 - val_loss: 0.5164 - val_accuracy: 0.7640\n",
            "Epoch 20/100\n",
            "313/313 [==============================] - 30s 97ms/step - loss: 0.4583 - accuracy: 0.8099 - val_loss: 0.5017 - val_accuracy: 0.7710\n",
            "Epoch 21/100\n",
            "313/313 [==============================] - 30s 97ms/step - loss: 0.4500 - accuracy: 0.8121 - val_loss: 0.4971 - val_accuracy: 0.7704\n",
            "Epoch 22/100\n",
            "313/313 [==============================] - 31s 98ms/step - loss: 0.4421 - accuracy: 0.8146 - val_loss: 0.4928 - val_accuracy: 0.7744\n",
            "Epoch 23/100\n",
            "313/313 [==============================] - 30s 97ms/step - loss: 0.4354 - accuracy: 0.8183 - val_loss: 0.4958 - val_accuracy: 0.7694\n",
            "Epoch 24/100\n",
            "313/313 [==============================] - 30s 97ms/step - loss: 0.4294 - accuracy: 0.8191 - val_loss: 0.4957 - val_accuracy: 0.7692\n",
            "Epoch 25/100\n",
            "313/313 [==============================] - 30s 96ms/step - loss: 0.4239 - accuracy: 0.8220 - val_loss: 0.4861 - val_accuracy: 0.7762\n",
            "Epoch 26/100\n",
            "313/313 [==============================] - 31s 100ms/step - loss: 0.4195 - accuracy: 0.8225 - val_loss: 0.4865 - val_accuracy: 0.7722\n",
            "Epoch 27/100\n",
            "313/313 [==============================] - 30s 97ms/step - loss: 0.4151 - accuracy: 0.8257 - val_loss: 0.4871 - val_accuracy: 0.7740\n",
            "Epoch 28/100\n",
            "313/313 [==============================] - 30s 96ms/step - loss: 0.4105 - accuracy: 0.8272 - val_loss: 0.4853 - val_accuracy: 0.7742\n",
            "Epoch 29/100\n",
            "313/313 [==============================] - 30s 97ms/step - loss: 0.4069 - accuracy: 0.8289 - val_loss: 0.4835 - val_accuracy: 0.7766\n",
            "Epoch 30/100\n",
            "313/313 [==============================] - 30s 96ms/step - loss: 0.4033 - accuracy: 0.8299 - val_loss: 0.4826 - val_accuracy: 0.7788\n",
            "Epoch 31/100\n",
            "313/313 [==============================] - 30s 97ms/step - loss: 0.4002 - accuracy: 0.8312 - val_loss: 0.4831 - val_accuracy: 0.7792\n",
            "Epoch 32/100\n",
            "313/313 [==============================] - 30s 96ms/step - loss: 0.3968 - accuracy: 0.8347 - val_loss: 0.4836 - val_accuracy: 0.7766\n",
            "Epoch 33/100\n",
            "313/313 [==============================] - 32s 104ms/step - loss: 0.3939 - accuracy: 0.8361 - val_loss: 0.4842 - val_accuracy: 0.7776\n"
          ]
        }
      ]
    },
    {
      "cell_type": "markdown",
      "source": [
        "## 손실 그래프"
      ],
      "metadata": {
        "id": "_i1-W3wJXGEn"
      }
    },
    {
      "cell_type": "code",
      "source": [
        "plt.plot(history.history['loss'])\n",
        "plt.plot(history.history['val_loss'])\n",
        "plt.xlabel('epoch')\n",
        "plt.ylabel('loss')\n",
        "plt.legend(['train','val'])\n",
        "plt.show()"
      ],
      "metadata": {
        "colab": {
          "base_uri": "https://localhost:8080/",
          "height": 279
        },
        "id": "jZkjIb9CXJyY",
        "outputId": "5e6f26de-57fc-42fb-9815-a049280eb1fe"
      },
      "execution_count": 29,
      "outputs": [
        {
          "output_type": "display_data",
          "data": {
            "text/plain": [
              "<Figure size 432x288 with 1 Axes>"
            ],
            "image/png": "[encoded data removed]"
          },
          "metadata": {
            "needs_background": "light"
          }
        }
      ]
    },
    {
      "cell_type": "markdown",
      "source": [
        "검증 손실이 더 감소되지 않아 훈련이 적절히 조기 종료된 것 같다\n",
        "\n",
        "이에 비해 훈련 손실은 계속 감소한다"
      ],
      "metadata": {
        "id": "VUpxncFFXUXM"
      }
    },
    {
      "cell_type": "markdown",
      "source": [
        "# LSTM\n",
        "\n",
        "Long Short-Term Memory\n",
        "\n",
        "단기 기억을 오래 기억하기 위해 고안됨\n",
        "\n",
        "LSTM 셀에는 작은 셀이 4개 있음"
      ],
      "metadata": {
        "id": "krH6h-wOXZPF"
      }
    },
    {
      "cell_type": "markdown",
      "source": [
        "## 모델 정의"
      ],
      "metadata": {
        "id": "mtz1leF6fMqv"
      }
    },
    {
      "cell_type": "code",
      "source": [
        "from tensorflow.keras.layers import LSTM\n",
        "model = keras.Sequential()\n",
        "model.add(Embedding(500, 16, input_length=100))\n",
        "model.add(LSTM(8))\n",
        "model.add(Dense(1, activation='sigmoid'))"
      ],
      "metadata": {
        "id": "So0TmSlNfU5v"
      },
      "execution_count": 30,
      "outputs": []
    },
    {
      "cell_type": "code",
      "source": [
        "model.summary()"
      ],
      "metadata": {
        "colab": {
          "base_uri": "https://localhost:8080/"
        },
        "id": "_iA1dwPTf9xG",
        "outputId": "40538609-70da-4374-c317-13d4a1f9f780"
      },
      "execution_count": 31,
      "outputs": [
        {
          "output_type": "stream",
          "name": "stdout",
          "text": [
            "Model: \"sequential_2\"\n",
            "_________________________________________________________________\n",
            " Layer (type)                Output Shape              Param #   \n",
            "=================================================================\n",
            " embedding_2 (Embedding)     (None, 100, 16)           8000      \n",
            "                                                                 \n",
            " lstm (LSTM)                 (None, 8)                 800       \n",
            "                                                                 \n",
            " dense_2 (Dense)             (None, 1)                 9         \n",
            "                                                                 \n",
            "=================================================================\n",
            "Total params: 8,809\n",
            "Trainable params: 8,809\n",
            "Non-trainable params: 0\n",
            "_________________________________________________________________\n"
          ]
        }
      ]
    },
    {
      "cell_type": "markdown",
      "source": [
        "## 모델 훈련"
      ],
      "metadata": {
        "id": "oMOls_0MgVUH"
      }
    },
    {
      "cell_type": "code",
      "source": [
        "rmsprop = RMSprop(learning_rate=1e-4)\n",
        "\n",
        "model.compile(optimizer=rmsprop, loss='binary_crossentropy', metrics=['accuracy'])\n",
        "\n",
        "checkpoint_cb = ModelCheckpoint('best-lstm-model.h5', save_best_only=True)\n",
        "early_stopping_cb = EarlyStopping(patience=3, restore_best_weights=True)\n",
        "\n",
        "history = model.fit(train_seq, train_target, epochs=100, batch_size=64,\n",
        "                    validation_data=(val_seq, val_target),\n",
        "                    callbacks=[checkpoint_cb, early_stopping_cb])"
      ],
      "metadata": {
        "colab": {
          "base_uri": "https://localhost:8080/"
        },
        "id": "Qriz0cxyf-hf",
        "outputId": "bab2ddd1-3d62-4d61-b82e-771f4a819f7a"
      },
      "execution_count": 32,
      "outputs": [
        {
          "output_type": "stream",
          "name": "stdout",
          "text": [
            "Epoch 1/100\n",
            "313/313 [==============================] - 7s 11ms/step - loss: 0.6925 - accuracy: 0.5463 - val_loss: 0.6915 - val_accuracy: 0.5886\n",
            "Epoch 2/100\n",
            "313/313 [==============================] - 3s 9ms/step - loss: 0.6901 - accuracy: 0.6123 - val_loss: 0.6883 - val_accuracy: 0.6330\n",
            "Epoch 3/100\n",
            "313/313 [==============================] - 3s 9ms/step - loss: 0.6843 - accuracy: 0.6581 - val_loss: 0.6793 - val_accuracy: 0.6622\n",
            "Epoch 4/100\n",
            "313/313 [==============================] - 3s 11ms/step - loss: 0.6637 - accuracy: 0.6869 - val_loss: 0.6397 - val_accuracy: 0.7040\n",
            "Epoch 5/100\n",
            "313/313 [==============================] - 3s 10ms/step - loss: 0.5973 - accuracy: 0.7272 - val_loss: 0.5814 - val_accuracy: 0.7266\n",
            "Epoch 6/100\n",
            "313/313 [==============================] - 3s 10ms/step - loss: 0.5639 - accuracy: 0.7423 - val_loss: 0.5600 - val_accuracy: 0.7444\n",
            "Epoch 7/100\n",
            "313/313 [==============================] - 3s 10ms/step - loss: 0.5433 - accuracy: 0.7556 - val_loss: 0.5405 - val_accuracy: 0.7536\n",
            "Epoch 8/100\n",
            "313/313 [==============================] - 3s 10ms/step - loss: 0.5253 - accuracy: 0.7664 - val_loss: 0.5241 - val_accuracy: 0.7656\n",
            "Epoch 9/100\n",
            "313/313 [==============================] - 3s 10ms/step - loss: 0.5081 - accuracy: 0.7758 - val_loss: 0.5075 - val_accuracy: 0.7766\n",
            "Epoch 10/100\n",
            "313/313 [==============================] - 3s 9ms/step - loss: 0.4921 - accuracy: 0.7848 - val_loss: 0.4936 - val_accuracy: 0.7808\n",
            "Epoch 11/100\n",
            "313/313 [==============================] - 3s 9ms/step - loss: 0.4780 - accuracy: 0.7918 - val_loss: 0.4844 - val_accuracy: 0.7796\n",
            "Epoch 12/100\n",
            "313/313 [==============================] - 3s 9ms/step - loss: 0.4655 - accuracy: 0.7977 - val_loss: 0.4766 - val_accuracy: 0.7770\n",
            "Epoch 13/100\n",
            "313/313 [==============================] - 3s 9ms/step - loss: 0.4556 - accuracy: 0.8016 - val_loss: 0.4650 - val_accuracy: 0.7918\n",
            "Epoch 14/100\n",
            "313/313 [==============================] - 3s 9ms/step - loss: 0.4472 - accuracy: 0.8046 - val_loss: 0.4605 - val_accuracy: 0.7914\n",
            "Epoch 15/100\n",
            "313/313 [==============================] - 3s 9ms/step - loss: 0.4404 - accuracy: 0.8051 - val_loss: 0.4543 - val_accuracy: 0.7916\n",
            "Epoch 16/100\n",
            "313/313 [==============================] - 3s 9ms/step - loss: 0.4355 - accuracy: 0.8091 - val_loss: 0.4493 - val_accuracy: 0.7938\n",
            "Epoch 17/100\n",
            "313/313 [==============================] - 3s 9ms/step - loss: 0.4309 - accuracy: 0.8099 - val_loss: 0.4458 - val_accuracy: 0.7976\n",
            "Epoch 18/100\n",
            "313/313 [==============================] - 3s 9ms/step - loss: 0.4275 - accuracy: 0.8106 - val_loss: 0.4433 - val_accuracy: 0.7974\n",
            "Epoch 19/100\n",
            "313/313 [==============================] - 3s 9ms/step - loss: 0.4249 - accuracy: 0.8114 - val_loss: 0.4424 - val_accuracy: 0.7990\n",
            "Epoch 20/100\n",
            "313/313 [==============================] - 3s 9ms/step - loss: 0.4227 - accuracy: 0.8113 - val_loss: 0.4407 - val_accuracy: 0.7986\n",
            "Epoch 21/100\n",
            "313/313 [==============================] - 3s 9ms/step - loss: 0.4205 - accuracy: 0.8126 - val_loss: 0.4386 - val_accuracy: 0.7972\n",
            "Epoch 22/100\n",
            "313/313 [==============================] - 3s 10ms/step - loss: 0.4186 - accuracy: 0.8127 - val_loss: 0.4393 - val_accuracy: 0.7994\n",
            "Epoch 23/100\n",
            "313/313 [==============================] - 3s 9ms/step - loss: 0.4174 - accuracy: 0.8135 - val_loss: 0.4372 - val_accuracy: 0.8004\n",
            "Epoch 24/100\n",
            "313/313 [==============================] - 3s 9ms/step - loss: 0.4159 - accuracy: 0.8134 - val_loss: 0.4381 - val_accuracy: 0.7936\n",
            "Epoch 25/100\n",
            "313/313 [==============================] - 3s 9ms/step - loss: 0.4148 - accuracy: 0.8145 - val_loss: 0.4360 - val_accuracy: 0.7978\n",
            "Epoch 26/100\n",
            "313/313 [==============================] - 3s 9ms/step - loss: 0.4134 - accuracy: 0.8148 - val_loss: 0.4349 - val_accuracy: 0.7976\n",
            "Epoch 27/100\n",
            "313/313 [==============================] - 3s 9ms/step - loss: 0.4125 - accuracy: 0.8130 - val_loss: 0.4349 - val_accuracy: 0.8010\n",
            "Epoch 28/100\n",
            "313/313 [==============================] - 3s 9ms/step - loss: 0.4116 - accuracy: 0.8153 - val_loss: 0.4339 - val_accuracy: 0.7988\n",
            "Epoch 29/100\n",
            "313/313 [==============================] - 3s 9ms/step - loss: 0.4106 - accuracy: 0.8154 - val_loss: 0.4333 - val_accuracy: 0.8002\n",
            "Epoch 30/100\n",
            "313/313 [==============================] - 3s 11ms/step - loss: 0.4102 - accuracy: 0.8142 - val_loss: 0.4390 - val_accuracy: 0.7934\n",
            "Epoch 31/100\n",
            "313/313 [==============================] - 3s 9ms/step - loss: 0.4093 - accuracy: 0.8145 - val_loss: 0.4375 - val_accuracy: 0.7956\n",
            "Epoch 32/100\n",
            "313/313 [==============================] - 3s 9ms/step - loss: 0.4088 - accuracy: 0.8169 - val_loss: 0.4314 - val_accuracy: 0.8004\n",
            "Epoch 33/100\n",
            "313/313 [==============================] - 4s 12ms/step - loss: 0.4083 - accuracy: 0.8160 - val_loss: 0.4322 - val_accuracy: 0.7968\n",
            "Epoch 34/100\n",
            "313/313 [==============================] - 4s 14ms/step - loss: 0.4076 - accuracy: 0.8166 - val_loss: 0.4324 - val_accuracy: 0.8028\n",
            "Epoch 35/100\n",
            "313/313 [==============================] - 4s 13ms/step - loss: 0.4067 - accuracy: 0.8150 - val_loss: 0.4306 - val_accuracy: 0.8022\n",
            "Epoch 36/100\n",
            "313/313 [==============================] - 3s 11ms/step - loss: 0.4063 - accuracy: 0.8185 - val_loss: 0.4323 - val_accuracy: 0.8042\n",
            "Epoch 37/100\n",
            "313/313 [==============================] - 3s 10ms/step - loss: 0.4057 - accuracy: 0.8184 - val_loss: 0.4300 - val_accuracy: 0.8014\n",
            "Epoch 38/100\n",
            "313/313 [==============================] - 4s 12ms/step - loss: 0.4053 - accuracy: 0.8184 - val_loss: 0.4297 - val_accuracy: 0.8028\n",
            "Epoch 39/100\n",
            "313/313 [==============================] - 4s 13ms/step - loss: 0.4047 - accuracy: 0.8164 - val_loss: 0.4307 - val_accuracy: 0.8042\n",
            "Epoch 40/100\n",
            "313/313 [==============================] - 4s 12ms/step - loss: 0.4045 - accuracy: 0.8172 - val_loss: 0.4294 - val_accuracy: 0.8044\n",
            "Epoch 41/100\n",
            "313/313 [==============================] - 4s 14ms/step - loss: 0.4035 - accuracy: 0.8181 - val_loss: 0.4289 - val_accuracy: 0.8038\n",
            "Epoch 42/100\n",
            "313/313 [==============================] - 4s 14ms/step - loss: 0.4033 - accuracy: 0.8174 - val_loss: 0.4285 - val_accuracy: 0.8038\n",
            "Epoch 43/100\n",
            "313/313 [==============================] - 3s 11ms/step - loss: 0.4026 - accuracy: 0.8181 - val_loss: 0.4294 - val_accuracy: 0.8042\n",
            "Epoch 44/100\n",
            "313/313 [==============================] - 3s 10ms/step - loss: 0.4019 - accuracy: 0.8178 - val_loss: 0.4279 - val_accuracy: 0.8058\n",
            "Epoch 45/100\n",
            "313/313 [==============================] - 3s 10ms/step - loss: 0.4015 - accuracy: 0.8187 - val_loss: 0.4350 - val_accuracy: 0.8060\n",
            "Epoch 46/100\n",
            "313/313 [==============================] - 4s 12ms/step - loss: 0.4013 - accuracy: 0.8191 - val_loss: 0.4302 - val_accuracy: 0.8062\n",
            "Epoch 47/100\n",
            "313/313 [==============================] - 4s 12ms/step - loss: 0.4005 - accuracy: 0.8189 - val_loss: 0.4273 - val_accuracy: 0.8066\n",
            "Epoch 48/100\n",
            "313/313 [==============================] - 3s 9ms/step - loss: 0.4001 - accuracy: 0.8195 - val_loss: 0.4270 - val_accuracy: 0.8044\n",
            "Epoch 49/100\n",
            "313/313 [==============================] - 3s 9ms/step - loss: 0.3994 - accuracy: 0.8188 - val_loss: 0.4303 - val_accuracy: 0.8070\n",
            "Epoch 50/100\n",
            "313/313 [==============================] - 3s 9ms/step - loss: 0.3990 - accuracy: 0.8204 - val_loss: 0.4298 - val_accuracy: 0.8008\n",
            "Epoch 51/100\n",
            "313/313 [==============================] - 3s 9ms/step - loss: 0.3988 - accuracy: 0.8184 - val_loss: 0.4265 - val_accuracy: 0.8082\n",
            "Epoch 52/100\n",
            "313/313 [==============================] - 3s 11ms/step - loss: 0.3977 - accuracy: 0.8198 - val_loss: 0.4361 - val_accuracy: 0.8014\n",
            "Epoch 53/100\n",
            "313/313 [==============================] - 3s 10ms/step - loss: 0.3975 - accuracy: 0.8197 - val_loss: 0.4272 - val_accuracy: 0.8050\n",
            "Epoch 54/100\n",
            "313/313 [==============================] - 4s 12ms/step - loss: 0.3974 - accuracy: 0.8199 - val_loss: 0.4277 - val_accuracy: 0.8050\n"
          ]
        }
      ]
    },
    {
      "cell_type": "markdown",
      "source": [
        "## 손실 그래프"
      ],
      "metadata": {
        "id": "HVyGsX3egW6X"
      }
    },
    {
      "cell_type": "code",
      "source": [
        "plt.plot(history.history['loss'])\n",
        "plt.plot(history.history['val_loss'])\n",
        "plt.xlabel('epoch')\n",
        "plt.ylabel('loss')\n",
        "plt.legend(['train','val'])\n",
        "plt.show()"
      ],
      "metadata": {
        "colab": {
          "base_uri": "https://localhost:8080/",
          "height": 279
        },
        "id": "9c1A7ua2gP63",
        "outputId": "86f54a44-3b77-4afc-cf2a-e5a0cdec708e"
      },
      "execution_count": 33,
      "outputs": [
        {
          "output_type": "display_data",
          "data": {
            "text/plain": [
              "<Figure size 432x288 with 1 Axes>"
            ],
            "image/png": "[encoded data removed]"
          },
          "metadata": {
            "needs_background": "light"
          }
        }
      ]
    },
    {
      "cell_type": "markdown",
      "source": [
        "## 드롭아웃 적용하기\n",
        "\n",
        "순환층은 자체적으로 드롭아웃 기능을 제공"
      ],
      "metadata": {
        "id": "Ayoq67GuggT-"
      }
    },
    {
      "cell_type": "code",
      "source": [
        "from tensorflow.keras.layers import LSTM\n",
        "model = keras.Sequential()\n",
        "model.add(Embedding(500, 16, input_length=100))\n",
        "model.add(LSTM(8, dropout=0.3))    #dropout 추가\n",
        "model.add(Dense(1, activation='sigmoid'))\n",
        "\n",
        "rmsprop = RMSprop(learning_rate=1e-4)\n",
        "\n",
        "model.compile(optimizer=rmsprop, loss='binary_crossentropy', metrics=['accuracy'])\n",
        "\n",
        "checkpoint_cb = ModelCheckpoint('best-dropout-model.h5', save_best_only=True)\n",
        "early_stopping_cb = EarlyStopping(patience=3, restore_best_weights=True)\n",
        "\n",
        "history = model.fit(train_seq, train_target, epochs=100, batch_size=64,\n",
        "                    validation_data=(val_seq, val_target),\n",
        "                    callbacks=[checkpoint_cb, early_stopping_cb])\n",
        "\n",
        "plt.plot(history.history['loss'])\n",
        "plt.plot(history.history['val_loss'])\n",
        "plt.xlabel('epoch')\n",
        "plt.ylabel('loss')\n",
        "plt.legend(['train','val'])\n",
        "plt.show()"
      ],
      "metadata": {
        "colab": {
          "base_uri": "https://localhost:8080/",
          "height": 1000
        },
        "id": "dXGi6kj7gmNY",
        "outputId": "74f5ca78-05e0-4ede-ca9c-b95dcd3baf6a"
      },
      "execution_count": 34,
      "outputs": [
        {
          "output_type": "stream",
          "name": "stdout",
          "text": [
            "Epoch 1/100\n",
            "313/313 [==============================] - 5s 11ms/step - loss: 0.6929 - accuracy: 0.5063 - val_loss: 0.6926 - val_accuracy: 0.5384\n",
            "Epoch 2/100\n",
            "313/313 [==============================] - 3s 10ms/step - loss: 0.6918 - accuracy: 0.5663 - val_loss: 0.6910 - val_accuracy: 0.5978\n",
            "Epoch 3/100\n",
            "313/313 [==============================] - 3s 9ms/step - loss: 0.6889 - accuracy: 0.6201 - val_loss: 0.6853 - val_accuracy: 0.6154\n",
            "Epoch 4/100\n",
            "313/313 [==============================] - 3s 9ms/step - loss: 0.6780 - accuracy: 0.6258 - val_loss: 0.6644 - val_accuracy: 0.6520\n",
            "Epoch 5/100\n",
            "313/313 [==============================] - 3s 9ms/step - loss: 0.6493 - accuracy: 0.7107 - val_loss: 0.6346 - val_accuracy: 0.7348\n",
            "Epoch 6/100\n",
            "313/313 [==============================] - 3s 9ms/step - loss: 0.6259 - accuracy: 0.7325 - val_loss: 0.6148 - val_accuracy: 0.7322\n",
            "Epoch 7/100\n",
            "313/313 [==============================] - 3s 9ms/step - loss: 0.6089 - accuracy: 0.7397 - val_loss: 0.6018 - val_accuracy: 0.7360\n",
            "Epoch 8/100\n",
            "313/313 [==============================] - 3s 9ms/step - loss: 0.5946 - accuracy: 0.7464 - val_loss: 0.5844 - val_accuracy: 0.7550\n",
            "Epoch 9/100\n",
            "313/313 [==============================] - 3s 10ms/step - loss: 0.5810 - accuracy: 0.7552 - val_loss: 0.5729 - val_accuracy: 0.7618\n",
            "Epoch 10/100\n",
            "313/313 [==============================] - 3s 10ms/step - loss: 0.5683 - accuracy: 0.7611 - val_loss: 0.5619 - val_accuracy: 0.7692\n",
            "Epoch 11/100\n",
            "313/313 [==============================] - 3s 9ms/step - loss: 0.5572 - accuracy: 0.7663 - val_loss: 0.5554 - val_accuracy: 0.7530\n",
            "Epoch 12/100\n",
            "313/313 [==============================] - 3s 9ms/step - loss: 0.5442 - accuracy: 0.7703 - val_loss: 0.5418 - val_accuracy: 0.7660\n",
            "Epoch 13/100\n",
            "313/313 [==============================] - 3s 9ms/step - loss: 0.5327 - accuracy: 0.7739 - val_loss: 0.5299 - val_accuracy: 0.7702\n",
            "Epoch 14/100\n",
            "313/313 [==============================] - 3s 9ms/step - loss: 0.5198 - accuracy: 0.7795 - val_loss: 0.5182 - val_accuracy: 0.7756\n",
            "Epoch 15/100\n",
            "313/313 [==============================] - 3s 11ms/step - loss: 0.5089 - accuracy: 0.7796 - val_loss: 0.5077 - val_accuracy: 0.7730\n",
            "Epoch 16/100\n",
            "313/313 [==============================] - 3s 9ms/step - loss: 0.4959 - accuracy: 0.7846 - val_loss: 0.4935 - val_accuracy: 0.7832\n",
            "Epoch 17/100\n",
            "313/313 [==============================] - 3s 9ms/step - loss: 0.4843 - accuracy: 0.7865 - val_loss: 0.4835 - val_accuracy: 0.7816\n",
            "Epoch 18/100\n",
            "313/313 [==============================] - 3s 9ms/step - loss: 0.4727 - accuracy: 0.7904 - val_loss: 0.4753 - val_accuracy: 0.7798\n",
            "Epoch 19/100\n",
            "313/313 [==============================] - 3s 10ms/step - loss: 0.4626 - accuracy: 0.7962 - val_loss: 0.4677 - val_accuracy: 0.7840\n",
            "Epoch 20/100\n",
            "313/313 [==============================] - 4s 11ms/step - loss: 0.4551 - accuracy: 0.7973 - val_loss: 0.4562 - val_accuracy: 0.7900\n",
            "Epoch 21/100\n",
            "313/313 [==============================] - 3s 9ms/step - loss: 0.4494 - accuracy: 0.7990 - val_loss: 0.4530 - val_accuracy: 0.7900\n",
            "Epoch 22/100\n",
            "313/313 [==============================] - 3s 9ms/step - loss: 0.4434 - accuracy: 0.8008 - val_loss: 0.4471 - val_accuracy: 0.7938\n",
            "Epoch 23/100\n",
            "313/313 [==============================] - 3s 9ms/step - loss: 0.4404 - accuracy: 0.8015 - val_loss: 0.4443 - val_accuracy: 0.7970\n",
            "Epoch 24/100\n",
            "313/313 [==============================] - 3s 9ms/step - loss: 0.4374 - accuracy: 0.7978 - val_loss: 0.4413 - val_accuracy: 0.7972\n",
            "Epoch 25/100\n",
            "313/313 [==============================] - 3s 9ms/step - loss: 0.4340 - accuracy: 0.8034 - val_loss: 0.4406 - val_accuracy: 0.7952\n",
            "Epoch 26/100\n",
            "313/313 [==============================] - 3s 11ms/step - loss: 0.4298 - accuracy: 0.8067 - val_loss: 0.4387 - val_accuracy: 0.7970\n",
            "Epoch 27/100\n",
            "313/313 [==============================] - 3s 11ms/step - loss: 0.4282 - accuracy: 0.8063 - val_loss: 0.4351 - val_accuracy: 0.7992\n",
            "Epoch 28/100\n",
            "313/313 [==============================] - 3s 11ms/step - loss: 0.4262 - accuracy: 0.8067 - val_loss: 0.4380 - val_accuracy: 0.7988\n",
            "Epoch 29/100\n",
            "313/313 [==============================] - 3s 9ms/step - loss: 0.4234 - accuracy: 0.8090 - val_loss: 0.4342 - val_accuracy: 0.7990\n",
            "Epoch 30/100\n",
            "313/313 [==============================] - 3s 9ms/step - loss: 0.4237 - accuracy: 0.8074 - val_loss: 0.4319 - val_accuracy: 0.7964\n",
            "Epoch 31/100\n",
            "313/313 [==============================] - 3s 9ms/step - loss: 0.4211 - accuracy: 0.8107 - val_loss: 0.4303 - val_accuracy: 0.7996\n",
            "Epoch 32/100\n",
            "313/313 [==============================] - 3s 9ms/step - loss: 0.4197 - accuracy: 0.8104 - val_loss: 0.4307 - val_accuracy: 0.8028\n",
            "Epoch 33/100\n",
            "313/313 [==============================] - 3s 9ms/step - loss: 0.4163 - accuracy: 0.8112 - val_loss: 0.4281 - val_accuracy: 0.8004\n",
            "Epoch 34/100\n",
            "313/313 [==============================] - 3s 9ms/step - loss: 0.4177 - accuracy: 0.8095 - val_loss: 0.4293 - val_accuracy: 0.7958\n",
            "Epoch 35/100\n",
            "313/313 [==============================] - 3s 9ms/step - loss: 0.4161 - accuracy: 0.8110 - val_loss: 0.4283 - val_accuracy: 0.7980\n",
            "Epoch 36/100\n",
            "313/313 [==============================] - 3s 9ms/step - loss: 0.4155 - accuracy: 0.8120 - val_loss: 0.4283 - val_accuracy: 0.8026\n"
          ]
        },
        {
          "output_type": "display_data",
          "data": {
            "text/plain": [
              "<Figure size 432x288 with 1 Axes>"
            ],
            "image/png": "[encoded data removed]"
          },
          "metadata": {
            "needs_background": "light"
          }
        }
      ]
    },
    {
      "cell_type": "markdown",
      "source": [
        "LSTM 층에 적용한 드롭아웃이 효과를 발휘한 것 같다"
      ],
      "metadata": {
        "id": "P8l7-hB9hxAi"
      }
    },
    {
      "cell_type": "markdown",
      "source": [
        "## 순환층 2개 연결\n",
        "\n",
        "순환층 연결 주의할 점 : 앞쪽 순환층이 모든 타임스텝에 대한 은닉 상태를 출력해야한다"
      ],
      "metadata": {
        "id": "1ovy1-9gg-An"
      }
    },
    {
      "cell_type": "code",
      "source": [
        "from tensorflow.keras.layers import LSTM\n",
        "model = keras.Sequential()\n",
        "model.add(Embedding(500, 16, input_length=100))\n",
        "model.add(LSTM(8, dropout=0.3, return_sequences=True))    #return_sequences=True 추가\n",
        "model.add(LSTM(8, dropout=0.3))    #LSTM 층 하나 더 추가\n",
        "model.add(Dense(1, activation='sigmoid'))\n",
        "\n",
        "model.summary()\n",
        "\n",
        "rmsprop = RMSprop(learning_rate=1e-4)\n",
        "\n",
        "model.compile(optimizer=rmsprop, loss='binary_crossentropy', metrics=['accuracy'])\n",
        "\n",
        "checkpoint_cb = ModelCheckpoint('best-2rnn-model.h5', save_best_only=True)\n",
        "early_stopping_cb = EarlyStopping(patience=3, restore_best_weights=True)\n",
        "\n",
        "history = model.fit(train_seq, train_target, epochs=100, batch_size=64,\n",
        "                    validation_data=(val_seq, val_target),\n",
        "                    callbacks=[checkpoint_cb, early_stopping_cb])\n",
        "\n",
        "plt.plot(history.history['loss'])\n",
        "plt.plot(history.history['val_loss'])\n",
        "plt.xlabel('epoch')\n",
        "plt.ylabel('loss')\n",
        "plt.legend(['train','val'])\n",
        "plt.show()"
      ],
      "metadata": {
        "colab": {
          "base_uri": "https://localhost:8080/",
          "height": 1000
        },
        "id": "h5DY1VF3g_I6",
        "outputId": "381a35c1-b8ec-49c6-f966-0f183f1148d6"
      },
      "execution_count": 36,
      "outputs": [
        {
          "output_type": "stream",
          "name": "stdout",
          "text": [
            "Model: \"sequential_5\"\n",
            "_________________________________________________________________\n",
            " Layer (type)                Output Shape              Param #   \n",
            "=================================================================\n",
            " embedding_5 (Embedding)     (None, 100, 16)           8000      \n",
            "                                                                 \n",
            " lstm_4 (LSTM)               (None, 100, 8)            800       \n",
            "                                                                 \n",
            " lstm_5 (LSTM)               (None, 8)                 544       \n",
            "                                                                 \n",
            " dense_5 (Dense)             (None, 1)                 9         \n",
            "                                                                 \n",
            "=================================================================\n",
            "Total params: 9,353\n",
            "Trainable params: 9,353\n",
            "Non-trainable params: 0\n",
            "_________________________________________________________________\n",
            "Epoch 1/100\n",
            "313/313 [==============================] - 8s 16ms/step - loss: 0.6930 - accuracy: 0.5192 - val_loss: 0.6928 - val_accuracy: 0.5172\n",
            "Epoch 2/100\n",
            "313/313 [==============================] - 4s 14ms/step - loss: 0.6919 - accuracy: 0.5451 - val_loss: 0.6909 - val_accuracy: 0.5598\n",
            "Epoch 3/100\n",
            "313/313 [==============================] - 4s 13ms/step - loss: 0.6867 - accuracy: 0.5762 - val_loss: 0.6809 - val_accuracy: 0.6318\n",
            "Epoch 4/100\n",
            "313/313 [==============================] - 4s 14ms/step - loss: 0.6553 - accuracy: 0.6364 - val_loss: 0.6260 - val_accuracy: 0.6976\n",
            "Epoch 5/100\n",
            "313/313 [==============================] - 4s 14ms/step - loss: 0.6032 - accuracy: 0.7136 - val_loss: 0.5898 - val_accuracy: 0.7198\n",
            "Epoch 6/100\n",
            "313/313 [==============================] - 4s 14ms/step - loss: 0.5711 - accuracy: 0.7314 - val_loss: 0.5581 - val_accuracy: 0.7372\n",
            "Epoch 7/100\n",
            "313/313 [==============================] - 4s 14ms/step - loss: 0.5452 - accuracy: 0.7438 - val_loss: 0.5333 - val_accuracy: 0.7464\n",
            "Epoch 8/100\n",
            "313/313 [==============================] - 5s 15ms/step - loss: 0.5248 - accuracy: 0.7524 - val_loss: 0.5155 - val_accuracy: 0.7538\n",
            "Epoch 9/100\n",
            "313/313 [==============================] - 5s 17ms/step - loss: 0.5095 - accuracy: 0.7623 - val_loss: 0.5050 - val_accuracy: 0.7600\n",
            "Epoch 10/100\n",
            "313/313 [==============================] - 4s 14ms/step - loss: 0.4964 - accuracy: 0.7710 - val_loss: 0.4882 - val_accuracy: 0.7688\n",
            "Epoch 11/100\n",
            "313/313 [==============================] - 5s 15ms/step - loss: 0.4887 - accuracy: 0.7742 - val_loss: 0.4852 - val_accuracy: 0.7682\n",
            "Epoch 12/100\n",
            "313/313 [==============================] - 4s 13ms/step - loss: 0.4769 - accuracy: 0.7812 - val_loss: 0.4720 - val_accuracy: 0.7796\n",
            "Epoch 13/100\n",
            "313/313 [==============================] - 4s 13ms/step - loss: 0.4696 - accuracy: 0.7863 - val_loss: 0.4700 - val_accuracy: 0.7776\n",
            "Epoch 14/100\n",
            "313/313 [==============================] - 4s 14ms/step - loss: 0.4625 - accuracy: 0.7896 - val_loss: 0.4611 - val_accuracy: 0.7884\n",
            "Epoch 15/100\n",
            "313/313 [==============================] - 4s 14ms/step - loss: 0.4579 - accuracy: 0.7933 - val_loss: 0.4582 - val_accuracy: 0.7868\n",
            "Epoch 16/100\n",
            "313/313 [==============================] - 4s 13ms/step - loss: 0.4537 - accuracy: 0.7941 - val_loss: 0.4534 - val_accuracy: 0.7916\n",
            "Epoch 17/100\n",
            "313/313 [==============================] - 4s 14ms/step - loss: 0.4498 - accuracy: 0.7980 - val_loss: 0.4520 - val_accuracy: 0.7892\n",
            "Epoch 18/100\n",
            "313/313 [==============================] - 4s 14ms/step - loss: 0.4484 - accuracy: 0.7958 - val_loss: 0.4520 - val_accuracy: 0.7924\n",
            "Epoch 19/100\n",
            "313/313 [==============================] - 4s 14ms/step - loss: 0.4446 - accuracy: 0.7998 - val_loss: 0.4464 - val_accuracy: 0.7952\n",
            "Epoch 20/100\n",
            "313/313 [==============================] - 4s 14ms/step - loss: 0.4411 - accuracy: 0.8005 - val_loss: 0.4446 - val_accuracy: 0.7964\n",
            "Epoch 21/100\n",
            "313/313 [==============================] - 4s 14ms/step - loss: 0.4387 - accuracy: 0.8005 - val_loss: 0.4426 - val_accuracy: 0.7956\n",
            "Epoch 22/100\n",
            "313/313 [==============================] - 4s 13ms/step - loss: 0.4368 - accuracy: 0.8015 - val_loss: 0.4446 - val_accuracy: 0.7908\n",
            "Epoch 23/100\n",
            "313/313 [==============================] - 4s 14ms/step - loss: 0.4357 - accuracy: 0.8037 - val_loss: 0.4414 - val_accuracy: 0.7944\n",
            "Epoch 24/100\n",
            "313/313 [==============================] - 4s 14ms/step - loss: 0.4347 - accuracy: 0.8023 - val_loss: 0.4397 - val_accuracy: 0.7980\n",
            "Epoch 25/100\n",
            "313/313 [==============================] - 4s 13ms/step - loss: 0.4346 - accuracy: 0.8040 - val_loss: 0.4398 - val_accuracy: 0.7948\n",
            "Epoch 26/100\n",
            "313/313 [==============================] - 5s 14ms/step - loss: 0.4336 - accuracy: 0.8026 - val_loss: 0.4401 - val_accuracy: 0.7914\n",
            "Epoch 27/100\n",
            "313/313 [==============================] - 4s 13ms/step - loss: 0.4297 - accuracy: 0.8056 - val_loss: 0.4389 - val_accuracy: 0.7934\n",
            "Epoch 28/100\n",
            "313/313 [==============================] - 4s 13ms/step - loss: 0.4300 - accuracy: 0.8054 - val_loss: 0.4379 - val_accuracy: 0.7944\n",
            "Epoch 29/100\n",
            "313/313 [==============================] - 4s 14ms/step - loss: 0.4291 - accuracy: 0.8040 - val_loss: 0.4371 - val_accuracy: 0.7938\n",
            "Epoch 30/100\n",
            "313/313 [==============================] - 4s 13ms/step - loss: 0.4287 - accuracy: 0.8054 - val_loss: 0.4358 - val_accuracy: 0.7978\n",
            "Epoch 31/100\n",
            "313/313 [==============================] - 4s 14ms/step - loss: 0.4270 - accuracy: 0.8058 - val_loss: 0.4355 - val_accuracy: 0.7982\n",
            "Epoch 32/100\n",
            "313/313 [==============================] - 4s 14ms/step - loss: 0.4256 - accuracy: 0.8071 - val_loss: 0.4353 - val_accuracy: 0.7980\n",
            "Epoch 33/100\n",
            "313/313 [==============================] - 4s 14ms/step - loss: 0.4254 - accuracy: 0.8059 - val_loss: 0.4346 - val_accuracy: 0.7970\n",
            "Epoch 34/100\n",
            "313/313 [==============================] - 4s 14ms/step - loss: 0.4254 - accuracy: 0.8055 - val_loss: 0.4386 - val_accuracy: 0.8004\n",
            "Epoch 35/100\n",
            "313/313 [==============================] - 4s 13ms/step - loss: 0.4247 - accuracy: 0.8064 - val_loss: 0.4349 - val_accuracy: 0.7998\n",
            "Epoch 36/100\n",
            "313/313 [==============================] - 4s 14ms/step - loss: 0.4238 - accuracy: 0.8072 - val_loss: 0.4344 - val_accuracy: 0.8012\n",
            "Epoch 37/100\n",
            "313/313 [==============================] - 4s 14ms/step - loss: 0.4233 - accuracy: 0.8069 - val_loss: 0.4351 - val_accuracy: 0.8008\n",
            "Epoch 38/100\n",
            "313/313 [==============================] - 4s 14ms/step - loss: 0.4243 - accuracy: 0.8066 - val_loss: 0.4374 - val_accuracy: 0.8000\n",
            "Epoch 39/100\n",
            "313/313 [==============================] - 5s 16ms/step - loss: 0.4222 - accuracy: 0.8072 - val_loss: 0.4333 - val_accuracy: 0.7984\n",
            "Epoch 40/100\n",
            "313/313 [==============================] - 4s 14ms/step - loss: 0.4194 - accuracy: 0.8081 - val_loss: 0.4348 - val_accuracy: 0.8008\n",
            "Epoch 41/100\n",
            "313/313 [==============================] - 4s 14ms/step - loss: 0.4208 - accuracy: 0.8094 - val_loss: 0.4331 - val_accuracy: 0.8006\n",
            "Epoch 42/100\n",
            "313/313 [==============================] - 4s 14ms/step - loss: 0.4214 - accuracy: 0.8063 - val_loss: 0.4339 - val_accuracy: 0.8008\n",
            "Epoch 43/100\n",
            "313/313 [==============================] - 4s 14ms/step - loss: 0.4222 - accuracy: 0.8069 - val_loss: 0.4333 - val_accuracy: 0.7992\n",
            "Epoch 44/100\n",
            "313/313 [==============================] - 4s 14ms/step - loss: 0.4200 - accuracy: 0.8080 - val_loss: 0.4322 - val_accuracy: 0.8002\n",
            "Epoch 45/100\n",
            "313/313 [==============================] - 4s 13ms/step - loss: 0.4187 - accuracy: 0.8087 - val_loss: 0.4371 - val_accuracy: 0.7962\n",
            "Epoch 46/100\n",
            "313/313 [==============================] - 5s 15ms/step - loss: 0.4191 - accuracy: 0.8098 - val_loss: 0.4334 - val_accuracy: 0.8022\n",
            "Epoch 47/100\n",
            "313/313 [==============================] - 4s 14ms/step - loss: 0.4173 - accuracy: 0.8094 - val_loss: 0.4349 - val_accuracy: 0.8020\n"
          ]
        },
        {
          "output_type": "display_data",
          "data": {
            "text/plain": [
              "<Figure size 432x288 with 1 Axes>"
            ],
            "image/png": "[encoded data removed]"
          },
          "metadata": {
            "needs_background": "light"
          }
        }
      ]
    },
    {
      "cell_type": "markdown",
      "source": [
        "일반적으로 순환층을 쌓으면 성능이 높아진다"
      ],
      "metadata": {
        "id": "WrYzNxf9h0km"
      }
    },
    {
      "cell_type": "markdown",
      "source": [
        "# GRU\n",
        "\n",
        "Gated Recurrent Unit\n",
        "\n",
        "LSTM을 간소화\n",
        "\n",
        "GRU 셀에는 작은 셀이 3개 있음"
      ],
      "metadata": {
        "id": "RLPwuh7Vh4yg"
      }
    },
    {
      "cell_type": "code",
      "source": [
        "from tensorflow.keras.layers import GRU\n",
        "model = keras.Sequential()\n",
        "model.add(Embedding(500, 16, input_length=100))\n",
        "model.add(GRU(8))\n",
        "model.add(Dense(1, activation='sigmoid'))\n",
        "\n",
        "model.summary()\n",
        "\n",
        "rmsprop = RMSprop(learning_rate=1e-4)\n",
        "\n",
        "model.compile(optimizer=rmsprop, loss='binary_crossentropy', metrics=['accuracy'])\n",
        "\n",
        "checkpoint_cb = ModelCheckpoint('best-gru-model.h5', save_best_only=True)\n",
        "early_stopping_cb = EarlyStopping(patience=3, restore_best_weights=True)\n",
        "\n",
        "history = model.fit(train_seq, train_target, epochs=100, batch_size=64,\n",
        "                    validation_data=(val_seq, val_target),\n",
        "                    callbacks=[checkpoint_cb, early_stopping_cb])\n",
        "\n",
        "plt.plot(history.history['loss'])\n",
        "plt.plot(history.history['val_loss'])\n",
        "plt.xlabel('epoch')\n",
        "plt.ylabel('loss')\n",
        "plt.legend(['train','val'])\n",
        "plt.show()"
      ],
      "metadata": {
        "colab": {
          "base_uri": "https://localhost:8080/",
          "height": 1000
        },
        "id": "nRGL9EAyiSXC",
        "outputId": "2765e6bb-324b-4e0e-f059-30677ef8c92e"
      },
      "execution_count": 37,
      "outputs": [
        {
          "output_type": "stream",
          "name": "stdout",
          "text": [
            "Model: \"sequential_6\"\n",
            "_________________________________________________________________\n",
            " Layer (type)                Output Shape              Param #   \n",
            "=================================================================\n",
            " embedding_6 (Embedding)     (None, 100, 16)           8000      \n",
            "                                                                 \n",
            " gru (GRU)                   (None, 8)                 624       \n",
            "                                                                 \n",
            " dense_6 (Dense)             (None, 1)                 9         \n",
            "                                                                 \n",
            "=================================================================\n",
            "Total params: 8,633\n",
            "Trainable params: 8,633\n",
            "Non-trainable params: 0\n",
            "_________________________________________________________________\n",
            "Epoch 1/100\n",
            "313/313 [==============================] - 5s 10ms/step - loss: 0.6923 - accuracy: 0.5321 - val_loss: 0.6918 - val_accuracy: 0.5282\n",
            "Epoch 2/100\n",
            "313/313 [==============================] - 3s 9ms/step - loss: 0.6904 - accuracy: 0.5563 - val_loss: 0.6897 - val_accuracy: 0.5506\n",
            "Epoch 3/100\n",
            "313/313 [==============================] - 3s 9ms/step - loss: 0.6876 - accuracy: 0.5792 - val_loss: 0.6865 - val_accuracy: 0.5720\n",
            "Epoch 4/100\n",
            "313/313 [==============================] - 3s 9ms/step - loss: 0.6830 - accuracy: 0.6016 - val_loss: 0.6812 - val_accuracy: 0.5928\n",
            "Epoch 5/100\n",
            "313/313 [==============================] - 3s 9ms/step - loss: 0.6753 - accuracy: 0.6187 - val_loss: 0.6722 - val_accuracy: 0.6096\n",
            "Epoch 6/100\n",
            "313/313 [==============================] - 3s 9ms/step - loss: 0.6628 - accuracy: 0.6368 - val_loss: 0.6581 - val_accuracy: 0.6300\n",
            "Epoch 7/100\n",
            "313/313 [==============================] - 3s 9ms/step - loss: 0.6420 - accuracy: 0.6617 - val_loss: 0.6330 - val_accuracy: 0.6572\n",
            "Epoch 8/100\n",
            "313/313 [==============================] - 3s 9ms/step - loss: 0.6035 - accuracy: 0.6863 - val_loss: 0.5844 - val_accuracy: 0.7064\n",
            "Epoch 9/100\n",
            "313/313 [==============================] - 3s 9ms/step - loss: 0.5451 - accuracy: 0.7273 - val_loss: 0.5345 - val_accuracy: 0.7364\n",
            "Epoch 10/100\n",
            "313/313 [==============================] - 3s 9ms/step - loss: 0.5114 - accuracy: 0.7509 - val_loss: 0.5139 - val_accuracy: 0.7540\n",
            "Epoch 11/100\n",
            "313/313 [==============================] - 3s 9ms/step - loss: 0.4944 - accuracy: 0.7648 - val_loss: 0.4994 - val_accuracy: 0.7646\n",
            "Epoch 12/100\n",
            "313/313 [==============================] - 3s 9ms/step - loss: 0.4820 - accuracy: 0.7727 - val_loss: 0.4893 - val_accuracy: 0.7674\n",
            "Epoch 13/100\n",
            "313/313 [==============================] - 3s 9ms/step - loss: 0.4711 - accuracy: 0.7806 - val_loss: 0.4798 - val_accuracy: 0.7756\n",
            "Epoch 14/100\n",
            "313/313 [==============================] - 3s 9ms/step - loss: 0.4623 - accuracy: 0.7862 - val_loss: 0.4737 - val_accuracy: 0.7760\n",
            "Epoch 15/100\n",
            "313/313 [==============================] - 3s 9ms/step - loss: 0.4555 - accuracy: 0.7911 - val_loss: 0.4677 - val_accuracy: 0.7828\n",
            "Epoch 16/100\n",
            "313/313 [==============================] - 3s 9ms/step - loss: 0.4493 - accuracy: 0.7944 - val_loss: 0.4652 - val_accuracy: 0.7820\n",
            "Epoch 17/100\n",
            "313/313 [==============================] - 3s 9ms/step - loss: 0.4443 - accuracy: 0.7977 - val_loss: 0.4609 - val_accuracy: 0.7856\n",
            "Epoch 18/100\n",
            "313/313 [==============================] - 3s 9ms/step - loss: 0.4398 - accuracy: 0.8016 - val_loss: 0.4565 - val_accuracy: 0.7858\n",
            "Epoch 19/100\n",
            "313/313 [==============================] - 3s 9ms/step - loss: 0.4358 - accuracy: 0.8032 - val_loss: 0.4537 - val_accuracy: 0.7874\n",
            "Epoch 20/100\n",
            "313/313 [==============================] - 3s 9ms/step - loss: 0.4328 - accuracy: 0.8042 - val_loss: 0.4571 - val_accuracy: 0.7832\n",
            "Epoch 21/100\n",
            "313/313 [==============================] - 3s 9ms/step - loss: 0.4301 - accuracy: 0.8072 - val_loss: 0.4526 - val_accuracy: 0.7932\n",
            "Epoch 22/100\n",
            "313/313 [==============================] - 3s 9ms/step - loss: 0.4278 - accuracy: 0.8091 - val_loss: 0.4506 - val_accuracy: 0.7944\n",
            "Epoch 23/100\n",
            "313/313 [==============================] - 3s 9ms/step - loss: 0.4255 - accuracy: 0.8105 - val_loss: 0.4477 - val_accuracy: 0.7922\n",
            "Epoch 24/100\n",
            "313/313 [==============================] - 3s 9ms/step - loss: 0.4240 - accuracy: 0.8109 - val_loss: 0.4465 - val_accuracy: 0.7924\n",
            "Epoch 25/100\n",
            "313/313 [==============================] - 3s 9ms/step - loss: 0.4223 - accuracy: 0.8117 - val_loss: 0.4470 - val_accuracy: 0.7948\n",
            "Epoch 26/100\n",
            "313/313 [==============================] - 3s 9ms/step - loss: 0.4209 - accuracy: 0.8132 - val_loss: 0.4456 - val_accuracy: 0.7946\n",
            "Epoch 27/100\n",
            "313/313 [==============================] - 3s 9ms/step - loss: 0.4197 - accuracy: 0.8122 - val_loss: 0.4452 - val_accuracy: 0.7930\n",
            "Epoch 28/100\n",
            "313/313 [==============================] - 3s 9ms/step - loss: 0.4181 - accuracy: 0.8151 - val_loss: 0.4457 - val_accuracy: 0.7934\n",
            "Epoch 29/100\n",
            "313/313 [==============================] - 3s 9ms/step - loss: 0.4175 - accuracy: 0.8137 - val_loss: 0.4476 - val_accuracy: 0.7912\n",
            "Epoch 30/100\n",
            "313/313 [==============================] - 3s 9ms/step - loss: 0.4161 - accuracy: 0.8156 - val_loss: 0.4443 - val_accuracy: 0.7928\n",
            "Epoch 31/100\n",
            "313/313 [==============================] - 3s 9ms/step - loss: 0.4160 - accuracy: 0.8170 - val_loss: 0.4434 - val_accuracy: 0.7954\n",
            "Epoch 32/100\n",
            "313/313 [==============================] - 3s 9ms/step - loss: 0.4148 - accuracy: 0.8166 - val_loss: 0.4497 - val_accuracy: 0.7870\n",
            "Epoch 33/100\n",
            "313/313 [==============================] - 3s 9ms/step - loss: 0.4143 - accuracy: 0.8173 - val_loss: 0.4412 - val_accuracy: 0.7956\n",
            "Epoch 34/100\n",
            "313/313 [==============================] - 3s 9ms/step - loss: 0.4140 - accuracy: 0.8157 - val_loss: 0.4409 - val_accuracy: 0.7954\n",
            "Epoch 35/100\n",
            "313/313 [==============================] - 3s 9ms/step - loss: 0.4124 - accuracy: 0.8172 - val_loss: 0.4455 - val_accuracy: 0.7938\n",
            "Epoch 36/100\n",
            "313/313 [==============================] - 3s 9ms/step - loss: 0.4125 - accuracy: 0.8172 - val_loss: 0.4412 - val_accuracy: 0.7958\n",
            "Epoch 37/100\n",
            "313/313 [==============================] - 3s 9ms/step - loss: 0.4119 - accuracy: 0.8175 - val_loss: 0.4400 - val_accuracy: 0.7956\n",
            "Epoch 38/100\n",
            "313/313 [==============================] - 3s 9ms/step - loss: 0.4116 - accuracy: 0.8163 - val_loss: 0.4406 - val_accuracy: 0.7944\n",
            "Epoch 39/100\n",
            "313/313 [==============================] - 3s 9ms/step - loss: 0.4111 - accuracy: 0.8159 - val_loss: 0.4403 - val_accuracy: 0.7970\n",
            "Epoch 40/100\n",
            "313/313 [==============================] - 3s 9ms/step - loss: 0.4105 - accuracy: 0.8178 - val_loss: 0.4386 - val_accuracy: 0.7990\n",
            "Epoch 41/100\n",
            "313/313 [==============================] - 3s 9ms/step - loss: 0.4097 - accuracy: 0.8191 - val_loss: 0.4382 - val_accuracy: 0.7956\n",
            "Epoch 42/100\n",
            "313/313 [==============================] - 3s 9ms/step - loss: 0.4093 - accuracy: 0.8179 - val_loss: 0.4372 - val_accuracy: 0.7962\n",
            "Epoch 43/100\n",
            "313/313 [==============================] - 3s 9ms/step - loss: 0.4090 - accuracy: 0.8173 - val_loss: 0.4372 - val_accuracy: 0.8000\n",
            "Epoch 44/100\n",
            "313/313 [==============================] - 3s 9ms/step - loss: 0.4085 - accuracy: 0.8184 - val_loss: 0.4373 - val_accuracy: 0.7976\n",
            "Epoch 45/100\n",
            "313/313 [==============================] - 3s 9ms/step - loss: 0.4076 - accuracy: 0.8185 - val_loss: 0.4380 - val_accuracy: 0.7946\n"
          ]
        },
        {
          "output_type": "display_data",
          "data": {
            "text/plain": [
              "<Figure size 432x288 with 1 Axes>"
            ],
            "image/png": "[encoded data removed]"
          },
          "metadata": {
            "needs_background": "light"
          }
        }
      ]
    },
    {
      "cell_type": "markdown",
      "source": [
        "드롭아웃을 사용하지 않았기 때문에 이전보다 훈련 손실과 검증 손실 사이에 차이가 있지만 훈련 과정이 잘 수렴되고 있다"
      ],
      "metadata": {
        "id": "_Ls-F_vAix_D"
      }
    }
  ]
}