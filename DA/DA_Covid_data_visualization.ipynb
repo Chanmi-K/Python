{
  "nbformat": 4,
  "nbformat_minor": 0,
  "metadata": {
    "colab": {
      "name": "DA_Covid_data_visualization",
      "provenance": [],
      "collapsed_sections": [],
      "toc_visible": true
    },
    "kernelspec": {
      "name": "python3",
      "display_name": "Python 3"
    },
    "language_info": {
      "name": "python"
    }
  },
  "cells": [
    {
      "cell_type": "markdown",
      "source": [
        "2020년 코로나 데이터 시각화"
      ],
      "metadata": {
        "id": "0RIGXGqAfs0i"
      }
    },
    {
      "cell_type": "markdown",
      "source": [
        "# 임포트"
      ],
      "metadata": {
        "id": "WEr_5mx3BQwX"
      }
    },
    {
      "cell_type": "code",
      "source": [
        "import pandas as pd\n",
        "import numpy as np\n",
        "import matplotlib.pyplot as plt\n",
        "import matplotlib.dates as mdates\n",
        "import seaborn as sns\n",
        "from datetime import date, timedelta"
      ],
      "metadata": {
        "id": "S8IWLvbHBT5K"
      },
      "execution_count": 23,
      "outputs": []
    },
    {
      "cell_type": "markdown",
      "source": [
        "# 데이터 가져오기"
      ],
      "metadata": {
        "id": "h272QNLCgJx4"
      }
    },
    {
      "cell_type": "code",
      "execution_count": 2,
      "metadata": {
        "colab": {
          "base_uri": "https://localhost:8080/"
        },
        "id": "3gbKlx6GfZ5W",
        "outputId": "645f0836-ebc0-42fe-e7ed-b1d012510339"
      },
      "outputs": [
        {
          "output_type": "stream",
          "name": "stdout",
          "text": [
            "--2022-07-02 06:03:24--  https://github.com/Chanmi-K/Python/raw/main/Data/covid_data.zip\n",
            "Resolving github.com (github.com)... 140.82.114.3\n",
            "Connecting to github.com (github.com)|140.82.114.3|:443... connected.\n",
            "HTTP request sent, awaiting response... 302 Found\n",
            "Location: https://raw.githubusercontent.com/Chanmi-K/Python/main/Data/covid_data.zip [following]\n",
            "--2022-07-02 06:03:24--  https://raw.githubusercontent.com/Chanmi-K/Python/main/Data/covid_data.zip\n",
            "Resolving raw.githubusercontent.com (raw.githubusercontent.com)... 185.199.109.133, 185.199.111.133, 185.199.110.133, ...\n",
            "Connecting to raw.githubusercontent.com (raw.githubusercontent.com)|185.199.109.133|:443... connected.\n",
            "HTTP request sent, awaiting response... 200 OK\n",
            "Length: 7495155 (7.1M) [application/zip]\n",
            "Saving to: ‘covid_data.zip’\n",
            "\n",
            "covid_data.zip      100%[===================>]   7.15M  --.-KB/s    in 0.09s   \n",
            "\n",
            "2022-07-02 06:03:25 (83.2 MB/s) - ‘covid_data.zip’ saved [7495155/7495155]\n",
            "\n"
          ]
        }
      ],
      "source": [
        "!wget https://github.com/Chanmi-K/Python/raw/main/Data/covid_data.zip"
      ]
    },
    {
      "cell_type": "code",
      "source": [
        "!unzip covid_data.zip"
      ],
      "metadata": {
        "colab": {
          "base_uri": "https://localhost:8080/"
        },
        "id": "ZPi8fVnGgQEB",
        "outputId": "d494f7e6-39b6-446e-dbb0-d2e84db86ec7"
      },
      "execution_count": 5,
      "outputs": [
        {
          "output_type": "stream",
          "name": "stdout",
          "text": [
            "Archive:  covid_data.zip\n",
            "  inflating: covid_data/Case.csv     \n",
            "  inflating: covid_data/PatientInfo.csv  \n",
            "  inflating: covid_data/Policy.csv   \n",
            "  inflating: covid_data/Region.csv   \n",
            "  inflating: covid_data/SearchTrend.csv  \n",
            "  inflating: covid_data/SeoulFloating.csv  \n",
            "  inflating: covid_data/Time.csv     \n",
            "  inflating: covid_data/TimeAge.csv  \n",
            "  inflating: covid_data/TimeGender.csv  \n",
            "  inflating: covid_data/TimeProvince.csv  \n",
            "  inflating: covid_data/Weather.csv  \n"
          ]
        }
      ]
    },
    {
      "cell_type": "code",
      "source": [
        "case = pd.read_csv('covid_data/Case.csv')\n",
        "p_info = pd.read_csv('covid_data/PatientInfo.csv')\n",
        "time = pd.read_csv('covid_data/Time.csv')\n",
        "t_age = pd.read_csv('covid_data/TimeAge.csv')\n",
        "t_gender = pd.read_csv('covid_data/TimeGender.csv')\n",
        "t_provin = pd.read_csv('covid_data/TimeProvince.csv')\n",
        "region = pd.read_csv('covid_data/Region.csv')\n",
        "weather = pd.read_csv('covid_data/Weather.csv') # 여기서는 미사용\n",
        "search = pd.read_csv('covid_data/SearchTrend.csv') # 여기서는 미사용\n",
        "floating = pd.read_csv('covid_data/SeoulFloating.csv') # 여기서는 미사용\n",
        "policy = pd.read_csv('covid_data/Policy.csv') # 여기서는 미사용"
      ],
      "metadata": {
        "id": "pG0xKkHNgcQd"
      },
      "execution_count": 6,
      "outputs": []
    },
    {
      "cell_type": "markdown",
      "source": [
        "# CodeBook\n",
        "\n",
        "각 데이터의 열 이름 보여주기"
      ],
      "metadata": {
        "id": "Y6H7MCGDhEOB"
      }
    },
    {
      "cell_type": "code",
      "source": [
        "print(f'case : {case.columns.tolist()}')\n",
        "print(f'p_info : {p_info.columns.tolist()}')\n",
        "print(f'time : {time.columns.tolist()}')\n",
        "print(f't_age : {t_age.columns.tolist()}')\n",
        "print(f't_gender : {t_gender.columns.tolist()}')\n",
        "print(f't_provin : {t_provin.columns.tolist()}')\n",
        "print(f'region : {region.columns.tolist()}')"
      ],
      "metadata": {
        "colab": {
          "base_uri": "https://localhost:8080/"
        },
        "id": "rVj0rSnohYix",
        "outputId": "8746817e-b82b-4032-b9fc-31255adbffcd"
      },
      "execution_count": 11,
      "outputs": [
        {
          "output_type": "stream",
          "name": "stdout",
          "text": [
            "case : [' case_id', 'province', 'city', 'group', 'infection_case', 'confirmed', 'latitude', 'longitude']\n",
            "p_info : ['patient_id', 'sex', 'age', 'country', 'province', 'city', 'infection_case', 'infected_by', 'contact_number', 'symptom_onset_date', 'confirmed_date', 'released_date', 'deceased_date', 'state']\n",
            "time : ['date', 'time', 'test', 'negative', 'confirmed', 'released', 'deceased']\n",
            "t_age : ['date', 'time', 'age', 'confirmed', 'deceased']\n",
            "t_gender : ['date', 'time', 'sex', 'confirmed', 'deceased']\n",
            "t_provin : ['date', 'time', 'province', 'confirmed', 'released', 'deceased']\n",
            "region : ['code', 'province', 'city', 'latitude', 'longitude', 'elementary_school_count', 'kindergarten_count', 'university_count', 'academy_ratio', 'elderly_population_ratio', 'elderly_alone_ratio', 'nursing_home_count']\n"
          ]
        }
      ]
    },
    {
      "cell_type": "markdown",
      "source": [
        "# 데이터 살펴보기"
      ],
      "metadata": {
        "id": "1wAyaqpehBwg"
      }
    },
    {
      "cell_type": "code",
      "source": [
        "case.head(3)"
      ],
      "metadata": {
        "colab": {
          "base_uri": "https://localhost:8080/",
          "height": 260
        },
        "id": "oQTxClsFhAEB",
        "outputId": "5053b8b8-d354-4604-963c-4618b157d790"
      },
      "execution_count": 16,
      "outputs": [
        {
          "output_type": "execute_result",
          "data": {
            "text/plain": [
              "    case_id province        city  group       infection_case  confirmed  \\\n",
              "0   1000001    Seoul  Yongsan-gu   True        Itaewon Clubs        139   \n",
              "1   1000002    Seoul   Gwanak-gu   True              Richway        119   \n",
              "2   1000003    Seoul     Guro-gu   True  Guro-gu Call Center         95   \n",
              "\n",
              "    latitude   longitude  \n",
              "0  37.538621  126.992652  \n",
              "1   37.48208  126.901384  \n",
              "2  37.508163  126.884387  "
            ],
            "text/html": [
              "\n",
              "  <div id=\"df-d096da0a-a043-43b8-9894-72fd72385278\">\n",
              "    <div class=\"colab-df-container\">\n",
              "      <div>\n",
              "<style scoped>\n",
              "    .dataframe tbody tr th:only-of-type {\n",
              "        vertical-align: middle;\n",
              "    }\n",
              "\n",
              "    .dataframe tbody tr th {\n",
              "        vertical-align: top;\n",
              "    }\n",
              "\n",
              "    .dataframe thead th {\n",
              "        text-align: right;\n",
              "    }\n",
              "</style>\n",
              "<table border=\"1\" class=\"dataframe\">\n",
              "  <thead>\n",
              "    <tr style=\"text-align: right;\">\n",
              "      <th></th>\n",
              "      <th>case_id</th>\n",
              "      <th>province</th>\n",
              "      <th>city</th>\n",
              "      <th>group</th>\n",
              "      <th>infection_case</th>\n",
              "      <th>confirmed</th>\n",
              "      <th>latitude</th>\n",
              "      <th>longitude</th>\n",
              "    </tr>\n",
              "  </thead>\n",
              "  <tbody>\n",
              "    <tr>\n",
              "      <th>0</th>\n",
              "      <td>1000001</td>\n",
              "      <td>Seoul</td>\n",
              "      <td>Yongsan-gu</td>\n",
              "      <td>True</td>\n",
              "      <td>Itaewon Clubs</td>\n",
              "      <td>139</td>\n",
              "      <td>37.538621</td>\n",
              "      <td>126.992652</td>\n",
              "    </tr>\n",
              "    <tr>\n",
              "      <th>1</th>\n",
              "      <td>1000002</td>\n",
              "      <td>Seoul</td>\n",
              "      <td>Gwanak-gu</td>\n",
              "      <td>True</td>\n",
              "      <td>Richway</td>\n",
              "      <td>119</td>\n",
              "      <td>37.48208</td>\n",
              "      <td>126.901384</td>\n",
              "    </tr>\n",
              "    <tr>\n",
              "      <th>2</th>\n",
              "      <td>1000003</td>\n",
              "      <td>Seoul</td>\n",
              "      <td>Guro-gu</td>\n",
              "      <td>True</td>\n",
              "      <td>Guro-gu Call Center</td>\n",
              "      <td>95</td>\n",
              "      <td>37.508163</td>\n",
              "      <td>126.884387</td>\n",
              "    </tr>\n",
              "  </tbody>\n",
              "</table>\n",
              "</div>\n",
              "      <button class=\"colab-df-convert\" onclick=\"convertToInteractive('df-d096da0a-a043-43b8-9894-72fd72385278')\"\n",
              "              title=\"Convert this dataframe to an interactive table.\"\n",
              "              style=\"display:none;\">\n",
              "        \n",
              "  <svg xmlns=\"http://www.w3.org/2000/svg\" height=\"24px\"viewBox=\"0 0 24 24\"\n",
              "       width=\"24px\">\n",
              "    <path d=\"M0 0h24v24H0V0z\" fill=\"none\"/>\n",
              "    <path d=\"M18.56 5.44l.94 2.06.94-2.06 2.06-.94-2.06-.94-.94-2.06-.94 2.06-2.06.94zm-11 1L8.5 8.5l.94-2.06 2.06-.94-2.06-.94L8.5 2.5l-.94 2.06-2.06.94zm10 10l.94 2.06.94-2.06 2.06-.94-2.06-.94-.94-2.06-.94 2.06-2.06.94z\"/><path d=\"M17.41 7.96l-1.37-1.37c-.4-.4-.92-.59-1.43-.59-.52 0-1.04.2-1.43.59L10.3 9.45l-7.72 7.72c-.78.78-.78 2.05 0 2.83L4 21.41c.39.39.9.59 1.41.59.51 0 1.02-.2 1.41-.59l7.78-7.78 2.81-2.81c.8-.78.8-2.07 0-2.86zM5.41 20L4 18.59l7.72-7.72 1.47 1.35L5.41 20z\"/>\n",
              "  </svg>\n",
              "      </button>\n",
              "      \n",
              "  <style>\n",
              "    .colab-df-container {\n",
              "      display:flex;\n",
              "      flex-wrap:wrap;\n",
              "      gap: 12px;\n",
              "    }\n",
              "\n",
              "    .colab-df-convert {\n",
              "      background-color: #E8F0FE;\n",
              "      border: none;\n",
              "      border-radius: 50%;\n",
              "      cursor: pointer;\n",
              "      display: none;\n",
              "      fill: #1967D2;\n",
              "      height: 32px;\n",
              "      padding: 0 0 0 0;\n",
              "      width: 32px;\n",
              "    }\n",
              "\n",
              "    .colab-df-convert:hover {\n",
              "      background-color: #E2EBFA;\n",
              "      box-shadow: 0px 1px 2px rgba(60, 64, 67, 0.3), 0px 1px 3px 1px rgba(60, 64, 67, 0.15);\n",
              "      fill: #174EA6;\n",
              "    }\n",
              "\n",
              "    [theme=dark] .colab-df-convert {\n",
              "      background-color: #3B4455;\n",
              "      fill: #D2E3FC;\n",
              "    }\n",
              "\n",
              "    [theme=dark] .colab-df-convert:hover {\n",
              "      background-color: #434B5C;\n",
              "      box-shadow: 0px 1px 3px 1px rgba(0, 0, 0, 0.15);\n",
              "      filter: drop-shadow(0px 1px 2px rgba(0, 0, 0, 0.3));\n",
              "      fill: #FFFFFF;\n",
              "    }\n",
              "  </style>\n",
              "\n",
              "      <script>\n",
              "        const buttonEl =\n",
              "          document.querySelector('#df-d096da0a-a043-43b8-9894-72fd72385278 button.colab-df-convert');\n",
              "        buttonEl.style.display =\n",
              "          google.colab.kernel.accessAllowed ? 'block' : 'none';\n",
              "\n",
              "        async function convertToInteractive(key) {\n",
              "          const element = document.querySelector('#df-d096da0a-a043-43b8-9894-72fd72385278');\n",
              "          const dataTable =\n",
              "            await google.colab.kernel.invokeFunction('convertToInteractive',\n",
              "                                                     [key], {});\n",
              "          if (!dataTable) return;\n",
              "\n",
              "          const docLinkHtml = 'Like what you see? Visit the ' +\n",
              "            '<a target=\"_blank\" href=https://colab.research.google.com/notebooks/data_table.ipynb>data table notebook</a>'\n",
              "            + ' to learn more about interactive tables.';\n",
              "          element.innerHTML = '';\n",
              "          dataTable['output_type'] = 'display_data';\n",
              "          await google.colab.output.renderOutput(dataTable, element);\n",
              "          const docLink = document.createElement('div');\n",
              "          docLink.innerHTML = docLinkHtml;\n",
              "          element.appendChild(docLink);\n",
              "        }\n",
              "      </script>\n",
              "    </div>\n",
              "  </div>\n",
              "  "
            ]
          },
          "metadata": {},
          "execution_count": 16
        }
      ]
    },
    {
      "cell_type": "code",
      "source": [
        "p_info.head(3)"
      ],
      "metadata": {
        "colab": {
          "base_uri": "https://localhost:8080/",
          "height": 260
        },
        "id": "YmJNV77oh-4k",
        "outputId": "9048098c-6b81-4e00-e796-40bb6f4ea0f4"
      },
      "execution_count": 17,
      "outputs": [
        {
          "output_type": "execute_result",
          "data": {
            "text/plain": [
              "   patient_id   sex  age country province         city        infection_case  \\\n",
              "0  1000000001  male  50s   Korea    Seoul   Gangseo-gu       overseas inflow   \n",
              "1  1000000002  male  30s   Korea    Seoul  Jungnang-gu       overseas inflow   \n",
              "2  1000000003  male  50s   Korea    Seoul    Jongno-gu  contact with patient   \n",
              "\n",
              "  infected_by contact_number symptom_onset_date confirmed_date released_date  \\\n",
              "0         NaN             75         2020-01-22     2020-01-23    2020-02-05   \n",
              "1         NaN             31                NaN     2020-01-30    2020-03-02   \n",
              "2  2002000001             17                NaN     2020-01-30    2020-02-19   \n",
              "\n",
              "  deceased_date     state  \n",
              "0           NaN  released  \n",
              "1           NaN  released  \n",
              "2           NaN  released  "
            ],
            "text/html": [
              "\n",
              "  <div id=\"df-31daf0e1-5efc-4b79-a2e3-77f5ad6bcf79\">\n",
              "    <div class=\"colab-df-container\">\n",
              "      <div>\n",
              "<style scoped>\n",
              "    .dataframe tbody tr th:only-of-type {\n",
              "        vertical-align: middle;\n",
              "    }\n",
              "\n",
              "    .dataframe tbody tr th {\n",
              "        vertical-align: top;\n",
              "    }\n",
              "\n",
              "    .dataframe thead th {\n",
              "        text-align: right;\n",
              "    }\n",
              "</style>\n",
              "<table border=\"1\" class=\"dataframe\">\n",
              "  <thead>\n",
              "    <tr style=\"text-align: right;\">\n",
              "      <th></th>\n",
              "      <th>patient_id</th>\n",
              "      <th>sex</th>\n",
              "      <th>age</th>\n",
              "      <th>country</th>\n",
              "      <th>province</th>\n",
              "      <th>city</th>\n",
              "      <th>infection_case</th>\n",
              "      <th>infected_by</th>\n",
              "      <th>contact_number</th>\n",
              "      <th>symptom_onset_date</th>\n",
              "      <th>confirmed_date</th>\n",
              "      <th>released_date</th>\n",
              "      <th>deceased_date</th>\n",
              "      <th>state</th>\n",
              "    </tr>\n",
              "  </thead>\n",
              "  <tbody>\n",
              "    <tr>\n",
              "      <th>0</th>\n",
              "      <td>1000000001</td>\n",
              "      <td>male</td>\n",
              "      <td>50s</td>\n",
              "      <td>Korea</td>\n",
              "      <td>Seoul</td>\n",
              "      <td>Gangseo-gu</td>\n",
              "      <td>overseas inflow</td>\n",
              "      <td>NaN</td>\n",
              "      <td>75</td>\n",
              "      <td>2020-01-22</td>\n",
              "      <td>2020-01-23</td>\n",
              "      <td>2020-02-05</td>\n",
              "      <td>NaN</td>\n",
              "      <td>released</td>\n",
              "    </tr>\n",
              "    <tr>\n",
              "      <th>1</th>\n",
              "      <td>1000000002</td>\n",
              "      <td>male</td>\n",
              "      <td>30s</td>\n",
              "      <td>Korea</td>\n",
              "      <td>Seoul</td>\n",
              "      <td>Jungnang-gu</td>\n",
              "      <td>overseas inflow</td>\n",
              "      <td>NaN</td>\n",
              "      <td>31</td>\n",
              "      <td>NaN</td>\n",
              "      <td>2020-01-30</td>\n",
              "      <td>2020-03-02</td>\n",
              "      <td>NaN</td>\n",
              "      <td>released</td>\n",
              "    </tr>\n",
              "    <tr>\n",
              "      <th>2</th>\n",
              "      <td>1000000003</td>\n",
              "      <td>male</td>\n",
              "      <td>50s</td>\n",
              "      <td>Korea</td>\n",
              "      <td>Seoul</td>\n",
              "      <td>Jongno-gu</td>\n",
              "      <td>contact with patient</td>\n",
              "      <td>2002000001</td>\n",
              "      <td>17</td>\n",
              "      <td>NaN</td>\n",
              "      <td>2020-01-30</td>\n",
              "      <td>2020-02-19</td>\n",
              "      <td>NaN</td>\n",
              "      <td>released</td>\n",
              "    </tr>\n",
              "  </tbody>\n",
              "</table>\n",
              "</div>\n",
              "      <button class=\"colab-df-convert\" onclick=\"convertToInteractive('df-31daf0e1-5efc-4b79-a2e3-77f5ad6bcf79')\"\n",
              "              title=\"Convert this dataframe to an interactive table.\"\n",
              "              style=\"display:none;\">\n",
              "        \n",
              "  <svg xmlns=\"http://www.w3.org/2000/svg\" height=\"24px\"viewBox=\"0 0 24 24\"\n",
              "       width=\"24px\">\n",
              "    <path d=\"M0 0h24v24H0V0z\" fill=\"none\"/>\n",
              "    <path d=\"M18.56 5.44l.94 2.06.94-2.06 2.06-.94-2.06-.94-.94-2.06-.94 2.06-2.06.94zm-11 1L8.5 8.5l.94-2.06 2.06-.94-2.06-.94L8.5 2.5l-.94 2.06-2.06.94zm10 10l.94 2.06.94-2.06 2.06-.94-2.06-.94-.94-2.06-.94 2.06-2.06.94z\"/><path d=\"M17.41 7.96l-1.37-1.37c-.4-.4-.92-.59-1.43-.59-.52 0-1.04.2-1.43.59L10.3 9.45l-7.72 7.72c-.78.78-.78 2.05 0 2.83L4 21.41c.39.39.9.59 1.41.59.51 0 1.02-.2 1.41-.59l7.78-7.78 2.81-2.81c.8-.78.8-2.07 0-2.86zM5.41 20L4 18.59l7.72-7.72 1.47 1.35L5.41 20z\"/>\n",
              "  </svg>\n",
              "      </button>\n",
              "      \n",
              "  <style>\n",
              "    .colab-df-container {\n",
              "      display:flex;\n",
              "      flex-wrap:wrap;\n",
              "      gap: 12px;\n",
              "    }\n",
              "\n",
              "    .colab-df-convert {\n",
              "      background-color: #E8F0FE;\n",
              "      border: none;\n",
              "      border-radius: 50%;\n",
              "      cursor: pointer;\n",
              "      display: none;\n",
              "      fill: #1967D2;\n",
              "      height: 32px;\n",
              "      padding: 0 0 0 0;\n",
              "      width: 32px;\n",
              "    }\n",
              "\n",
              "    .colab-df-convert:hover {\n",
              "      background-color: #E2EBFA;\n",
              "      box-shadow: 0px 1px 2px rgba(60, 64, 67, 0.3), 0px 1px 3px 1px rgba(60, 64, 67, 0.15);\n",
              "      fill: #174EA6;\n",
              "    }\n",
              "\n",
              "    [theme=dark] .colab-df-convert {\n",
              "      background-color: #3B4455;\n",
              "      fill: #D2E3FC;\n",
              "    }\n",
              "\n",
              "    [theme=dark] .colab-df-convert:hover {\n",
              "      background-color: #434B5C;\n",
              "      box-shadow: 0px 1px 3px 1px rgba(0, 0, 0, 0.15);\n",
              "      filter: drop-shadow(0px 1px 2px rgba(0, 0, 0, 0.3));\n",
              "      fill: #FFFFFF;\n",
              "    }\n",
              "  </style>\n",
              "\n",
              "      <script>\n",
              "        const buttonEl =\n",
              "          document.querySelector('#df-31daf0e1-5efc-4b79-a2e3-77f5ad6bcf79 button.colab-df-convert');\n",
              "        buttonEl.style.display =\n",
              "          google.colab.kernel.accessAllowed ? 'block' : 'none';\n",
              "\n",
              "        async function convertToInteractive(key) {\n",
              "          const element = document.querySelector('#df-31daf0e1-5efc-4b79-a2e3-77f5ad6bcf79');\n",
              "          const dataTable =\n",
              "            await google.colab.kernel.invokeFunction('convertToInteractive',\n",
              "                                                     [key], {});\n",
              "          if (!dataTable) return;\n",
              "\n",
              "          const docLinkHtml = 'Like what you see? Visit the ' +\n",
              "            '<a target=\"_blank\" href=https://colab.research.google.com/notebooks/data_table.ipynb>data table notebook</a>'\n",
              "            + ' to learn more about interactive tables.';\n",
              "          element.innerHTML = '';\n",
              "          dataTable['output_type'] = 'display_data';\n",
              "          await google.colab.output.renderOutput(dataTable, element);\n",
              "          const docLink = document.createElement('div');\n",
              "          docLink.innerHTML = docLinkHtml;\n",
              "          element.appendChild(docLink);\n",
              "        }\n",
              "      </script>\n",
              "    </div>\n",
              "  </div>\n",
              "  "
            ]
          },
          "metadata": {},
          "execution_count": 17
        }
      ]
    },
    {
      "cell_type": "code",
      "source": [
        "time.head(3)"
      ],
      "metadata": {
        "colab": {
          "base_uri": "https://localhost:8080/",
          "height": 143
        },
        "id": "mGxrLIbSiDnf",
        "outputId": "55ff2e69-d17f-4ff5-f473-67747eab59ac"
      },
      "execution_count": 18,
      "outputs": [
        {
          "output_type": "execute_result",
          "data": {
            "text/plain": [
              "         date  time  test  negative  confirmed  released  deceased\n",
              "0  2020-01-20    16     1         0          1         0         0\n",
              "1  2020-01-21    16     1         0          1         0         0\n",
              "2  2020-01-22    16     4         3          1         0         0"
            ],
            "text/html": [
              "\n",
              "  <div id=\"df-2e17b805-43c2-4673-8b60-d5118556b9af\">\n",
              "    <div class=\"colab-df-container\">\n",
              "      <div>\n",
              "<style scoped>\n",
              "    .dataframe tbody tr th:only-of-type {\n",
              "        vertical-align: middle;\n",
              "    }\n",
              "\n",
              "    .dataframe tbody tr th {\n",
              "        vertical-align: top;\n",
              "    }\n",
              "\n",
              "    .dataframe thead th {\n",
              "        text-align: right;\n",
              "    }\n",
              "</style>\n",
              "<table border=\"1\" class=\"dataframe\">\n",
              "  <thead>\n",
              "    <tr style=\"text-align: right;\">\n",
              "      <th></th>\n",
              "      <th>date</th>\n",
              "      <th>time</th>\n",
              "      <th>test</th>\n",
              "      <th>negative</th>\n",
              "      <th>confirmed</th>\n",
              "      <th>released</th>\n",
              "      <th>deceased</th>\n",
              "    </tr>\n",
              "  </thead>\n",
              "  <tbody>\n",
              "    <tr>\n",
              "      <th>0</th>\n",
              "      <td>2020-01-20</td>\n",
              "      <td>16</td>\n",
              "      <td>1</td>\n",
              "      <td>0</td>\n",
              "      <td>1</td>\n",
              "      <td>0</td>\n",
              "      <td>0</td>\n",
              "    </tr>\n",
              "    <tr>\n",
              "      <th>1</th>\n",
              "      <td>2020-01-21</td>\n",
              "      <td>16</td>\n",
              "      <td>1</td>\n",
              "      <td>0</td>\n",
              "      <td>1</td>\n",
              "      <td>0</td>\n",
              "      <td>0</td>\n",
              "    </tr>\n",
              "    <tr>\n",
              "      <th>2</th>\n",
              "      <td>2020-01-22</td>\n",
              "      <td>16</td>\n",
              "      <td>4</td>\n",
              "      <td>3</td>\n",
              "      <td>1</td>\n",
              "      <td>0</td>\n",
              "      <td>0</td>\n",
              "    </tr>\n",
              "  </tbody>\n",
              "</table>\n",
              "</div>\n",
              "      <button class=\"colab-df-convert\" onclick=\"convertToInteractive('df-2e17b805-43c2-4673-8b60-d5118556b9af')\"\n",
              "              title=\"Convert this dataframe to an interactive table.\"\n",
              "              style=\"display:none;\">\n",
              "        \n",
              "  <svg xmlns=\"http://www.w3.org/2000/svg\" height=\"24px\"viewBox=\"0 0 24 24\"\n",
              "       width=\"24px\">\n",
              "    <path d=\"M0 0h24v24H0V0z\" fill=\"none\"/>\n",
              "    <path d=\"M18.56 5.44l.94 2.06.94-2.06 2.06-.94-2.06-.94-.94-2.06-.94 2.06-2.06.94zm-11 1L8.5 8.5l.94-2.06 2.06-.94-2.06-.94L8.5 2.5l-.94 2.06-2.06.94zm10 10l.94 2.06.94-2.06 2.06-.94-2.06-.94-.94-2.06-.94 2.06-2.06.94z\"/><path d=\"M17.41 7.96l-1.37-1.37c-.4-.4-.92-.59-1.43-.59-.52 0-1.04.2-1.43.59L10.3 9.45l-7.72 7.72c-.78.78-.78 2.05 0 2.83L4 21.41c.39.39.9.59 1.41.59.51 0 1.02-.2 1.41-.59l7.78-7.78 2.81-2.81c.8-.78.8-2.07 0-2.86zM5.41 20L4 18.59l7.72-7.72 1.47 1.35L5.41 20z\"/>\n",
              "  </svg>\n",
              "      </button>\n",
              "      \n",
              "  <style>\n",
              "    .colab-df-container {\n",
              "      display:flex;\n",
              "      flex-wrap:wrap;\n",
              "      gap: 12px;\n",
              "    }\n",
              "\n",
              "    .colab-df-convert {\n",
              "      background-color: #E8F0FE;\n",
              "      border: none;\n",
              "      border-radius: 50%;\n",
              "      cursor: pointer;\n",
              "      display: none;\n",
              "      fill: #1967D2;\n",
              "      height: 32px;\n",
              "      padding: 0 0 0 0;\n",
              "      width: 32px;\n",
              "    }\n",
              "\n",
              "    .colab-df-convert:hover {\n",
              "      background-color: #E2EBFA;\n",
              "      box-shadow: 0px 1px 2px rgba(60, 64, 67, 0.3), 0px 1px 3px 1px rgba(60, 64, 67, 0.15);\n",
              "      fill: #174EA6;\n",
              "    }\n",
              "\n",
              "    [theme=dark] .colab-df-convert {\n",
              "      background-color: #3B4455;\n",
              "      fill: #D2E3FC;\n",
              "    }\n",
              "\n",
              "    [theme=dark] .colab-df-convert:hover {\n",
              "      background-color: #434B5C;\n",
              "      box-shadow: 0px 1px 3px 1px rgba(0, 0, 0, 0.15);\n",
              "      filter: drop-shadow(0px 1px 2px rgba(0, 0, 0, 0.3));\n",
              "      fill: #FFFFFF;\n",
              "    }\n",
              "  </style>\n",
              "\n",
              "      <script>\n",
              "        const buttonEl =\n",
              "          document.querySelector('#df-2e17b805-43c2-4673-8b60-d5118556b9af button.colab-df-convert');\n",
              "        buttonEl.style.display =\n",
              "          google.colab.kernel.accessAllowed ? 'block' : 'none';\n",
              "\n",
              "        async function convertToInteractive(key) {\n",
              "          const element = document.querySelector('#df-2e17b805-43c2-4673-8b60-d5118556b9af');\n",
              "          const dataTable =\n",
              "            await google.colab.kernel.invokeFunction('convertToInteractive',\n",
              "                                                     [key], {});\n",
              "          if (!dataTable) return;\n",
              "\n",
              "          const docLinkHtml = 'Like what you see? Visit the ' +\n",
              "            '<a target=\"_blank\" href=https://colab.research.google.com/notebooks/data_table.ipynb>data table notebook</a>'\n",
              "            + ' to learn more about interactive tables.';\n",
              "          element.innerHTML = '';\n",
              "          dataTable['output_type'] = 'display_data';\n",
              "          await google.colab.output.renderOutput(dataTable, element);\n",
              "          const docLink = document.createElement('div');\n",
              "          docLink.innerHTML = docLinkHtml;\n",
              "          element.appendChild(docLink);\n",
              "        }\n",
              "      </script>\n",
              "    </div>\n",
              "  </div>\n",
              "  "
            ]
          },
          "metadata": {},
          "execution_count": 18
        }
      ]
    },
    {
      "cell_type": "code",
      "source": [
        "t_age.head(3)"
      ],
      "metadata": {
        "colab": {
          "base_uri": "https://localhost:8080/",
          "height": 143
        },
        "id": "MgSWP--viFpk",
        "outputId": "03878b2d-c596-4215-cebf-84fdacd7c36b"
      },
      "execution_count": 19,
      "outputs": [
        {
          "output_type": "execute_result",
          "data": {
            "text/plain": [
              "         date  time  age  confirmed  deceased\n",
              "0  2020-03-02     0   0s         32         0\n",
              "1  2020-03-02     0  10s        169         0\n",
              "2  2020-03-02     0  20s       1235         0"
            ],
            "text/html": [
              "\n",
              "  <div id=\"df-2a242d00-246d-4259-a72e-65e4c5584432\">\n",
              "    <div class=\"colab-df-container\">\n",
              "      <div>\n",
              "<style scoped>\n",
              "    .dataframe tbody tr th:only-of-type {\n",
              "        vertical-align: middle;\n",
              "    }\n",
              "\n",
              "    .dataframe tbody tr th {\n",
              "        vertical-align: top;\n",
              "    }\n",
              "\n",
              "    .dataframe thead th {\n",
              "        text-align: right;\n",
              "    }\n",
              "</style>\n",
              "<table border=\"1\" class=\"dataframe\">\n",
              "  <thead>\n",
              "    <tr style=\"text-align: right;\">\n",
              "      <th></th>\n",
              "      <th>date</th>\n",
              "      <th>time</th>\n",
              "      <th>age</th>\n",
              "      <th>confirmed</th>\n",
              "      <th>deceased</th>\n",
              "    </tr>\n",
              "  </thead>\n",
              "  <tbody>\n",
              "    <tr>\n",
              "      <th>0</th>\n",
              "      <td>2020-03-02</td>\n",
              "      <td>0</td>\n",
              "      <td>0s</td>\n",
              "      <td>32</td>\n",
              "      <td>0</td>\n",
              "    </tr>\n",
              "    <tr>\n",
              "      <th>1</th>\n",
              "      <td>2020-03-02</td>\n",
              "      <td>0</td>\n",
              "      <td>10s</td>\n",
              "      <td>169</td>\n",
              "      <td>0</td>\n",
              "    </tr>\n",
              "    <tr>\n",
              "      <th>2</th>\n",
              "      <td>2020-03-02</td>\n",
              "      <td>0</td>\n",
              "      <td>20s</td>\n",
              "      <td>1235</td>\n",
              "      <td>0</td>\n",
              "    </tr>\n",
              "  </tbody>\n",
              "</table>\n",
              "</div>\n",
              "      <button class=\"colab-df-convert\" onclick=\"convertToInteractive('df-2a242d00-246d-4259-a72e-65e4c5584432')\"\n",
              "              title=\"Convert this dataframe to an interactive table.\"\n",
              "              style=\"display:none;\">\n",
              "        \n",
              "  <svg xmlns=\"http://www.w3.org/2000/svg\" height=\"24px\"viewBox=\"0 0 24 24\"\n",
              "       width=\"24px\">\n",
              "    <path d=\"M0 0h24v24H0V0z\" fill=\"none\"/>\n",
              "    <path d=\"M18.56 5.44l.94 2.06.94-2.06 2.06-.94-2.06-.94-.94-2.06-.94 2.06-2.06.94zm-11 1L8.5 8.5l.94-2.06 2.06-.94-2.06-.94L8.5 2.5l-.94 2.06-2.06.94zm10 10l.94 2.06.94-2.06 2.06-.94-2.06-.94-.94-2.06-.94 2.06-2.06.94z\"/><path d=\"M17.41 7.96l-1.37-1.37c-.4-.4-.92-.59-1.43-.59-.52 0-1.04.2-1.43.59L10.3 9.45l-7.72 7.72c-.78.78-.78 2.05 0 2.83L4 21.41c.39.39.9.59 1.41.59.51 0 1.02-.2 1.41-.59l7.78-7.78 2.81-2.81c.8-.78.8-2.07 0-2.86zM5.41 20L4 18.59l7.72-7.72 1.47 1.35L5.41 20z\"/>\n",
              "  </svg>\n",
              "      </button>\n",
              "      \n",
              "  <style>\n",
              "    .colab-df-container {\n",
              "      display:flex;\n",
              "      flex-wrap:wrap;\n",
              "      gap: 12px;\n",
              "    }\n",
              "\n",
              "    .colab-df-convert {\n",
              "      background-color: #E8F0FE;\n",
              "      border: none;\n",
              "      border-radius: 50%;\n",
              "      cursor: pointer;\n",
              "      display: none;\n",
              "      fill: #1967D2;\n",
              "      height: 32px;\n",
              "      padding: 0 0 0 0;\n",
              "      width: 32px;\n",
              "    }\n",
              "\n",
              "    .colab-df-convert:hover {\n",
              "      background-color: #E2EBFA;\n",
              "      box-shadow: 0px 1px 2px rgba(60, 64, 67, 0.3), 0px 1px 3px 1px rgba(60, 64, 67, 0.15);\n",
              "      fill: #174EA6;\n",
              "    }\n",
              "\n",
              "    [theme=dark] .colab-df-convert {\n",
              "      background-color: #3B4455;\n",
              "      fill: #D2E3FC;\n",
              "    }\n",
              "\n",
              "    [theme=dark] .colab-df-convert:hover {\n",
              "      background-color: #434B5C;\n",
              "      box-shadow: 0px 1px 3px 1px rgba(0, 0, 0, 0.15);\n",
              "      filter: drop-shadow(0px 1px 2px rgba(0, 0, 0, 0.3));\n",
              "      fill: #FFFFFF;\n",
              "    }\n",
              "  </style>\n",
              "\n",
              "      <script>\n",
              "        const buttonEl =\n",
              "          document.querySelector('#df-2a242d00-246d-4259-a72e-65e4c5584432 button.colab-df-convert');\n",
              "        buttonEl.style.display =\n",
              "          google.colab.kernel.accessAllowed ? 'block' : 'none';\n",
              "\n",
              "        async function convertToInteractive(key) {\n",
              "          const element = document.querySelector('#df-2a242d00-246d-4259-a72e-65e4c5584432');\n",
              "          const dataTable =\n",
              "            await google.colab.kernel.invokeFunction('convertToInteractive',\n",
              "                                                     [key], {});\n",
              "          if (!dataTable) return;\n",
              "\n",
              "          const docLinkHtml = 'Like what you see? Visit the ' +\n",
              "            '<a target=\"_blank\" href=https://colab.research.google.com/notebooks/data_table.ipynb>data table notebook</a>'\n",
              "            + ' to learn more about interactive tables.';\n",
              "          element.innerHTML = '';\n",
              "          dataTable['output_type'] = 'display_data';\n",
              "          await google.colab.output.renderOutput(dataTable, element);\n",
              "          const docLink = document.createElement('div');\n",
              "          docLink.innerHTML = docLinkHtml;\n",
              "          element.appendChild(docLink);\n",
              "        }\n",
              "      </script>\n",
              "    </div>\n",
              "  </div>\n",
              "  "
            ]
          },
          "metadata": {},
          "execution_count": 19
        }
      ]
    },
    {
      "cell_type": "code",
      "source": [
        "t_gender.head(3)"
      ],
      "metadata": {
        "colab": {
          "base_uri": "https://localhost:8080/",
          "height": 143
        },
        "id": "UoyjekCBiGZn",
        "outputId": "d7e23980-3bdb-408f-d765-8657c4ae827d"
      },
      "execution_count": 20,
      "outputs": [
        {
          "output_type": "execute_result",
          "data": {
            "text/plain": [
              "         date  time     sex  confirmed  deceased\n",
              "0  2020-03-02     0    male       1591        13\n",
              "1  2020-03-02     0  female       2621         9\n",
              "2  2020-03-03     0    male       1810        16"
            ],
            "text/html": [
              "\n",
              "  <div id=\"df-b7c3906e-cba7-4a99-a676-a3ea1c3aa62a\">\n",
              "    <div class=\"colab-df-container\">\n",
              "      <div>\n",
              "<style scoped>\n",
              "    .dataframe tbody tr th:only-of-type {\n",
              "        vertical-align: middle;\n",
              "    }\n",
              "\n",
              "    .dataframe tbody tr th {\n",
              "        vertical-align: top;\n",
              "    }\n",
              "\n",
              "    .dataframe thead th {\n",
              "        text-align: right;\n",
              "    }\n",
              "</style>\n",
              "<table border=\"1\" class=\"dataframe\">\n",
              "  <thead>\n",
              "    <tr style=\"text-align: right;\">\n",
              "      <th></th>\n",
              "      <th>date</th>\n",
              "      <th>time</th>\n",
              "      <th>sex</th>\n",
              "      <th>confirmed</th>\n",
              "      <th>deceased</th>\n",
              "    </tr>\n",
              "  </thead>\n",
              "  <tbody>\n",
              "    <tr>\n",
              "      <th>0</th>\n",
              "      <td>2020-03-02</td>\n",
              "      <td>0</td>\n",
              "      <td>male</td>\n",
              "      <td>1591</td>\n",
              "      <td>13</td>\n",
              "    </tr>\n",
              "    <tr>\n",
              "      <th>1</th>\n",
              "      <td>2020-03-02</td>\n",
              "      <td>0</td>\n",
              "      <td>female</td>\n",
              "      <td>2621</td>\n",
              "      <td>9</td>\n",
              "    </tr>\n",
              "    <tr>\n",
              "      <th>2</th>\n",
              "      <td>2020-03-03</td>\n",
              "      <td>0</td>\n",
              "      <td>male</td>\n",
              "      <td>1810</td>\n",
              "      <td>16</td>\n",
              "    </tr>\n",
              "  </tbody>\n",
              "</table>\n",
              "</div>\n",
              "      <button class=\"colab-df-convert\" onclick=\"convertToInteractive('df-b7c3906e-cba7-4a99-a676-a3ea1c3aa62a')\"\n",
              "              title=\"Convert this dataframe to an interactive table.\"\n",
              "              style=\"display:none;\">\n",
              "        \n",
              "  <svg xmlns=\"http://www.w3.org/2000/svg\" height=\"24px\"viewBox=\"0 0 24 24\"\n",
              "       width=\"24px\">\n",
              "    <path d=\"M0 0h24v24H0V0z\" fill=\"none\"/>\n",
              "    <path d=\"M18.56 5.44l.94 2.06.94-2.06 2.06-.94-2.06-.94-.94-2.06-.94 2.06-2.06.94zm-11 1L8.5 8.5l.94-2.06 2.06-.94-2.06-.94L8.5 2.5l-.94 2.06-2.06.94zm10 10l.94 2.06.94-2.06 2.06-.94-2.06-.94-.94-2.06-.94 2.06-2.06.94z\"/><path d=\"M17.41 7.96l-1.37-1.37c-.4-.4-.92-.59-1.43-.59-.52 0-1.04.2-1.43.59L10.3 9.45l-7.72 7.72c-.78.78-.78 2.05 0 2.83L4 21.41c.39.39.9.59 1.41.59.51 0 1.02-.2 1.41-.59l7.78-7.78 2.81-2.81c.8-.78.8-2.07 0-2.86zM5.41 20L4 18.59l7.72-7.72 1.47 1.35L5.41 20z\"/>\n",
              "  </svg>\n",
              "      </button>\n",
              "      \n",
              "  <style>\n",
              "    .colab-df-container {\n",
              "      display:flex;\n",
              "      flex-wrap:wrap;\n",
              "      gap: 12px;\n",
              "    }\n",
              "\n",
              "    .colab-df-convert {\n",
              "      background-color: #E8F0FE;\n",
              "      border: none;\n",
              "      border-radius: 50%;\n",
              "      cursor: pointer;\n",
              "      display: none;\n",
              "      fill: #1967D2;\n",
              "      height: 32px;\n",
              "      padding: 0 0 0 0;\n",
              "      width: 32px;\n",
              "    }\n",
              "\n",
              "    .colab-df-convert:hover {\n",
              "      background-color: #E2EBFA;\n",
              "      box-shadow: 0px 1px 2px rgba(60, 64, 67, 0.3), 0px 1px 3px 1px rgba(60, 64, 67, 0.15);\n",
              "      fill: #174EA6;\n",
              "    }\n",
              "\n",
              "    [theme=dark] .colab-df-convert {\n",
              "      background-color: #3B4455;\n",
              "      fill: #D2E3FC;\n",
              "    }\n",
              "\n",
              "    [theme=dark] .colab-df-convert:hover {\n",
              "      background-color: #434B5C;\n",
              "      box-shadow: 0px 1px 3px 1px rgba(0, 0, 0, 0.15);\n",
              "      filter: drop-shadow(0px 1px 2px rgba(0, 0, 0, 0.3));\n",
              "      fill: #FFFFFF;\n",
              "    }\n",
              "  </style>\n",
              "\n",
              "      <script>\n",
              "        const buttonEl =\n",
              "          document.querySelector('#df-b7c3906e-cba7-4a99-a676-a3ea1c3aa62a button.colab-df-convert');\n",
              "        buttonEl.style.display =\n",
              "          google.colab.kernel.accessAllowed ? 'block' : 'none';\n",
              "\n",
              "        async function convertToInteractive(key) {\n",
              "          const element = document.querySelector('#df-b7c3906e-cba7-4a99-a676-a3ea1c3aa62a');\n",
              "          const dataTable =\n",
              "            await google.colab.kernel.invokeFunction('convertToInteractive',\n",
              "                                                     [key], {});\n",
              "          if (!dataTable) return;\n",
              "\n",
              "          const docLinkHtml = 'Like what you see? Visit the ' +\n",
              "            '<a target=\"_blank\" href=https://colab.research.google.com/notebooks/data_table.ipynb>data table notebook</a>'\n",
              "            + ' to learn more about interactive tables.';\n",
              "          element.innerHTML = '';\n",
              "          dataTable['output_type'] = 'display_data';\n",
              "          await google.colab.output.renderOutput(dataTable, element);\n",
              "          const docLink = document.createElement('div');\n",
              "          docLink.innerHTML = docLinkHtml;\n",
              "          element.appendChild(docLink);\n",
              "        }\n",
              "      </script>\n",
              "    </div>\n",
              "  </div>\n",
              "  "
            ]
          },
          "metadata": {},
          "execution_count": 20
        }
      ]
    },
    {
      "cell_type": "code",
      "source": [
        "t_provin.head(3)"
      ],
      "metadata": {
        "colab": {
          "base_uri": "https://localhost:8080/",
          "height": 143
        },
        "id": "9oL1i4mliMX2",
        "outputId": "1e0def7f-fb0e-48ec-e12c-63bcf2ba6a4e"
      },
      "execution_count": 21,
      "outputs": [
        {
          "output_type": "execute_result",
          "data": {
            "text/plain": [
              "         date  time province  confirmed  released  deceased\n",
              "0  2020-01-20    16    Seoul          0         0         0\n",
              "1  2020-01-20    16    Busan          0         0         0\n",
              "2  2020-01-20    16    Daegu          0         0         0"
            ],
            "text/html": [
              "\n",
              "  <div id=\"df-942f8d32-74ae-4bf1-b6de-ea7f6a45121a\">\n",
              "    <div class=\"colab-df-container\">\n",
              "      <div>\n",
              "<style scoped>\n",
              "    .dataframe tbody tr th:only-of-type {\n",
              "        vertical-align: middle;\n",
              "    }\n",
              "\n",
              "    .dataframe tbody tr th {\n",
              "        vertical-align: top;\n",
              "    }\n",
              "\n",
              "    .dataframe thead th {\n",
              "        text-align: right;\n",
              "    }\n",
              "</style>\n",
              "<table border=\"1\" class=\"dataframe\">\n",
              "  <thead>\n",
              "    <tr style=\"text-align: right;\">\n",
              "      <th></th>\n",
              "      <th>date</th>\n",
              "      <th>time</th>\n",
              "      <th>province</th>\n",
              "      <th>confirmed</th>\n",
              "      <th>released</th>\n",
              "      <th>deceased</th>\n",
              "    </tr>\n",
              "  </thead>\n",
              "  <tbody>\n",
              "    <tr>\n",
              "      <th>0</th>\n",
              "      <td>2020-01-20</td>\n",
              "      <td>16</td>\n",
              "      <td>Seoul</td>\n",
              "      <td>0</td>\n",
              "      <td>0</td>\n",
              "      <td>0</td>\n",
              "    </tr>\n",
              "    <tr>\n",
              "      <th>1</th>\n",
              "      <td>2020-01-20</td>\n",
              "      <td>16</td>\n",
              "      <td>Busan</td>\n",
              "      <td>0</td>\n",
              "      <td>0</td>\n",
              "      <td>0</td>\n",
              "    </tr>\n",
              "    <tr>\n",
              "      <th>2</th>\n",
              "      <td>2020-01-20</td>\n",
              "      <td>16</td>\n",
              "      <td>Daegu</td>\n",
              "      <td>0</td>\n",
              "      <td>0</td>\n",
              "      <td>0</td>\n",
              "    </tr>\n",
              "  </tbody>\n",
              "</table>\n",
              "</div>\n",
              "      <button class=\"colab-df-convert\" onclick=\"convertToInteractive('df-942f8d32-74ae-4bf1-b6de-ea7f6a45121a')\"\n",
              "              title=\"Convert this dataframe to an interactive table.\"\n",
              "              style=\"display:none;\">\n",
              "        \n",
              "  <svg xmlns=\"http://www.w3.org/2000/svg\" height=\"24px\"viewBox=\"0 0 24 24\"\n",
              "       width=\"24px\">\n",
              "    <path d=\"M0 0h24v24H0V0z\" fill=\"none\"/>\n",
              "    <path d=\"M18.56 5.44l.94 2.06.94-2.06 2.06-.94-2.06-.94-.94-2.06-.94 2.06-2.06.94zm-11 1L8.5 8.5l.94-2.06 2.06-.94-2.06-.94L8.5 2.5l-.94 2.06-2.06.94zm10 10l.94 2.06.94-2.06 2.06-.94-2.06-.94-.94-2.06-.94 2.06-2.06.94z\"/><path d=\"M17.41 7.96l-1.37-1.37c-.4-.4-.92-.59-1.43-.59-.52 0-1.04.2-1.43.59L10.3 9.45l-7.72 7.72c-.78.78-.78 2.05 0 2.83L4 21.41c.39.39.9.59 1.41.59.51 0 1.02-.2 1.41-.59l7.78-7.78 2.81-2.81c.8-.78.8-2.07 0-2.86zM5.41 20L4 18.59l7.72-7.72 1.47 1.35L5.41 20z\"/>\n",
              "  </svg>\n",
              "      </button>\n",
              "      \n",
              "  <style>\n",
              "    .colab-df-container {\n",
              "      display:flex;\n",
              "      flex-wrap:wrap;\n",
              "      gap: 12px;\n",
              "    }\n",
              "\n",
              "    .colab-df-convert {\n",
              "      background-color: #E8F0FE;\n",
              "      border: none;\n",
              "      border-radius: 50%;\n",
              "      cursor: pointer;\n",
              "      display: none;\n",
              "      fill: #1967D2;\n",
              "      height: 32px;\n",
              "      padding: 0 0 0 0;\n",
              "      width: 32px;\n",
              "    }\n",
              "\n",
              "    .colab-df-convert:hover {\n",
              "      background-color: #E2EBFA;\n",
              "      box-shadow: 0px 1px 2px rgba(60, 64, 67, 0.3), 0px 1px 3px 1px rgba(60, 64, 67, 0.15);\n",
              "      fill: #174EA6;\n",
              "    }\n",
              "\n",
              "    [theme=dark] .colab-df-convert {\n",
              "      background-color: #3B4455;\n",
              "      fill: #D2E3FC;\n",
              "    }\n",
              "\n",
              "    [theme=dark] .colab-df-convert:hover {\n",
              "      background-color: #434B5C;\n",
              "      box-shadow: 0px 1px 3px 1px rgba(0, 0, 0, 0.15);\n",
              "      filter: drop-shadow(0px 1px 2px rgba(0, 0, 0, 0.3));\n",
              "      fill: #FFFFFF;\n",
              "    }\n",
              "  </style>\n",
              "\n",
              "      <script>\n",
              "        const buttonEl =\n",
              "          document.querySelector('#df-942f8d32-74ae-4bf1-b6de-ea7f6a45121a button.colab-df-convert');\n",
              "        buttonEl.style.display =\n",
              "          google.colab.kernel.accessAllowed ? 'block' : 'none';\n",
              "\n",
              "        async function convertToInteractive(key) {\n",
              "          const element = document.querySelector('#df-942f8d32-74ae-4bf1-b6de-ea7f6a45121a');\n",
              "          const dataTable =\n",
              "            await google.colab.kernel.invokeFunction('convertToInteractive',\n",
              "                                                     [key], {});\n",
              "          if (!dataTable) return;\n",
              "\n",
              "          const docLinkHtml = 'Like what you see? Visit the ' +\n",
              "            '<a target=\"_blank\" href=https://colab.research.google.com/notebooks/data_table.ipynb>data table notebook</a>'\n",
              "            + ' to learn more about interactive tables.';\n",
              "          element.innerHTML = '';\n",
              "          dataTable['output_type'] = 'display_data';\n",
              "          await google.colab.output.renderOutput(dataTable, element);\n",
              "          const docLink = document.createElement('div');\n",
              "          docLink.innerHTML = docLinkHtml;\n",
              "          element.appendChild(docLink);\n",
              "        }\n",
              "      </script>\n",
              "    </div>\n",
              "  </div>\n",
              "  "
            ]
          },
          "metadata": {},
          "execution_count": 21
        }
      ]
    },
    {
      "cell_type": "code",
      "source": [
        "region.head(3)"
      ],
      "metadata": {
        "colab": {
          "base_uri": "https://localhost:8080/",
          "height": 242
        },
        "id": "8KuuriKFiNwi",
        "outputId": "f8fd5d0a-69d1-43fb-dd01-bb107b21c163"
      },
      "execution_count": 22,
      "outputs": [
        {
          "output_type": "execute_result",
          "data": {
            "text/plain": [
              "    code province         city   latitude   longitude  \\\n",
              "0  10000    Seoul        Seoul  37.566953  126.977977   \n",
              "1  10010    Seoul   Gangnam-gu  37.518421  127.047222   \n",
              "2  10020    Seoul  Gangdong-gu  37.530492  127.123837   \n",
              "\n",
              "   elementary_school_count  kindergarten_count  university_count  \\\n",
              "0                      607                 830                48   \n",
              "1                       33                  38                 0   \n",
              "2                       27                  32                 0   \n",
              "\n",
              "   academy_ratio  elderly_population_ratio  elderly_alone_ratio  \\\n",
              "0           1.44                     15.38                  5.8   \n",
              "1           4.18                     13.17                  4.3   \n",
              "2           1.54                     14.55                  5.4   \n",
              "\n",
              "   nursing_home_count  \n",
              "0               22739  \n",
              "1                3088  \n",
              "2                1023  "
            ],
            "text/html": [
              "\n",
              "  <div id=\"df-dd4b289f-4c9d-488b-a571-e0e893d5fed0\">\n",
              "    <div class=\"colab-df-container\">\n",
              "      <div>\n",
              "<style scoped>\n",
              "    .dataframe tbody tr th:only-of-type {\n",
              "        vertical-align: middle;\n",
              "    }\n",
              "\n",
              "    .dataframe tbody tr th {\n",
              "        vertical-align: top;\n",
              "    }\n",
              "\n",
              "    .dataframe thead th {\n",
              "        text-align: right;\n",
              "    }\n",
              "</style>\n",
              "<table border=\"1\" class=\"dataframe\">\n",
              "  <thead>\n",
              "    <tr style=\"text-align: right;\">\n",
              "      <th></th>\n",
              "      <th>code</th>\n",
              "      <th>province</th>\n",
              "      <th>city</th>\n",
              "      <th>latitude</th>\n",
              "      <th>longitude</th>\n",
              "      <th>elementary_school_count</th>\n",
              "      <th>kindergarten_count</th>\n",
              "      <th>university_count</th>\n",
              "      <th>academy_ratio</th>\n",
              "      <th>elderly_population_ratio</th>\n",
              "      <th>elderly_alone_ratio</th>\n",
              "      <th>nursing_home_count</th>\n",
              "    </tr>\n",
              "  </thead>\n",
              "  <tbody>\n",
              "    <tr>\n",
              "      <th>0</th>\n",
              "      <td>10000</td>\n",
              "      <td>Seoul</td>\n",
              "      <td>Seoul</td>\n",
              "      <td>37.566953</td>\n",
              "      <td>126.977977</td>\n",
              "      <td>607</td>\n",
              "      <td>830</td>\n",
              "      <td>48</td>\n",
              "      <td>1.44</td>\n",
              "      <td>15.38</td>\n",
              "      <td>5.8</td>\n",
              "      <td>22739</td>\n",
              "    </tr>\n",
              "    <tr>\n",
              "      <th>1</th>\n",
              "      <td>10010</td>\n",
              "      <td>Seoul</td>\n",
              "      <td>Gangnam-gu</td>\n",
              "      <td>37.518421</td>\n",
              "      <td>127.047222</td>\n",
              "      <td>33</td>\n",
              "      <td>38</td>\n",
              "      <td>0</td>\n",
              "      <td>4.18</td>\n",
              "      <td>13.17</td>\n",
              "      <td>4.3</td>\n",
              "      <td>3088</td>\n",
              "    </tr>\n",
              "    <tr>\n",
              "      <th>2</th>\n",
              "      <td>10020</td>\n",
              "      <td>Seoul</td>\n",
              "      <td>Gangdong-gu</td>\n",
              "      <td>37.530492</td>\n",
              "      <td>127.123837</td>\n",
              "      <td>27</td>\n",
              "      <td>32</td>\n",
              "      <td>0</td>\n",
              "      <td>1.54</td>\n",
              "      <td>14.55</td>\n",
              "      <td>5.4</td>\n",
              "      <td>1023</td>\n",
              "    </tr>\n",
              "  </tbody>\n",
              "</table>\n",
              "</div>\n",
              "      <button class=\"colab-df-convert\" onclick=\"convertToInteractive('df-dd4b289f-4c9d-488b-a571-e0e893d5fed0')\"\n",
              "              title=\"Convert this dataframe to an interactive table.\"\n",
              "              style=\"display:none;\">\n",
              "        \n",
              "  <svg xmlns=\"http://www.w3.org/2000/svg\" height=\"24px\"viewBox=\"0 0 24 24\"\n",
              "       width=\"24px\">\n",
              "    <path d=\"M0 0h24v24H0V0z\" fill=\"none\"/>\n",
              "    <path d=\"M18.56 5.44l.94 2.06.94-2.06 2.06-.94-2.06-.94-.94-2.06-.94 2.06-2.06.94zm-11 1L8.5 8.5l.94-2.06 2.06-.94-2.06-.94L8.5 2.5l-.94 2.06-2.06.94zm10 10l.94 2.06.94-2.06 2.06-.94-2.06-.94-.94-2.06-.94 2.06-2.06.94z\"/><path d=\"M17.41 7.96l-1.37-1.37c-.4-.4-.92-.59-1.43-.59-.52 0-1.04.2-1.43.59L10.3 9.45l-7.72 7.72c-.78.78-.78 2.05 0 2.83L4 21.41c.39.39.9.59 1.41.59.51 0 1.02-.2 1.41-.59l7.78-7.78 2.81-2.81c.8-.78.8-2.07 0-2.86zM5.41 20L4 18.59l7.72-7.72 1.47 1.35L5.41 20z\"/>\n",
              "  </svg>\n",
              "      </button>\n",
              "      \n",
              "  <style>\n",
              "    .colab-df-container {\n",
              "      display:flex;\n",
              "      flex-wrap:wrap;\n",
              "      gap: 12px;\n",
              "    }\n",
              "\n",
              "    .colab-df-convert {\n",
              "      background-color: #E8F0FE;\n",
              "      border: none;\n",
              "      border-radius: 50%;\n",
              "      cursor: pointer;\n",
              "      display: none;\n",
              "      fill: #1967D2;\n",
              "      height: 32px;\n",
              "      padding: 0 0 0 0;\n",
              "      width: 32px;\n",
              "    }\n",
              "\n",
              "    .colab-df-convert:hover {\n",
              "      background-color: #E2EBFA;\n",
              "      box-shadow: 0px 1px 2px rgba(60, 64, 67, 0.3), 0px 1px 3px 1px rgba(60, 64, 67, 0.15);\n",
              "      fill: #174EA6;\n",
              "    }\n",
              "\n",
              "    [theme=dark] .colab-df-convert {\n",
              "      background-color: #3B4455;\n",
              "      fill: #D2E3FC;\n",
              "    }\n",
              "\n",
              "    [theme=dark] .colab-df-convert:hover {\n",
              "      background-color: #434B5C;\n",
              "      box-shadow: 0px 1px 3px 1px rgba(0, 0, 0, 0.15);\n",
              "      filter: drop-shadow(0px 1px 2px rgba(0, 0, 0, 0.3));\n",
              "      fill: #FFFFFF;\n",
              "    }\n",
              "  </style>\n",
              "\n",
              "      <script>\n",
              "        const buttonEl =\n",
              "          document.querySelector('#df-dd4b289f-4c9d-488b-a571-e0e893d5fed0 button.colab-df-convert');\n",
              "        buttonEl.style.display =\n",
              "          google.colab.kernel.accessAllowed ? 'block' : 'none';\n",
              "\n",
              "        async function convertToInteractive(key) {\n",
              "          const element = document.querySelector('#df-dd4b289f-4c9d-488b-a571-e0e893d5fed0');\n",
              "          const dataTable =\n",
              "            await google.colab.kernel.invokeFunction('convertToInteractive',\n",
              "                                                     [key], {});\n",
              "          if (!dataTable) return;\n",
              "\n",
              "          const docLinkHtml = 'Like what you see? Visit the ' +\n",
              "            '<a target=\"_blank\" href=https://colab.research.google.com/notebooks/data_table.ipynb>data table notebook</a>'\n",
              "            + ' to learn more about interactive tables.';\n",
              "          element.innerHTML = '';\n",
              "          dataTable['output_type'] = 'display_data';\n",
              "          await google.colab.output.renderOutput(dataTable, element);\n",
              "          const docLink = document.createElement('div');\n",
              "          docLink.innerHTML = docLinkHtml;\n",
              "          element.appendChild(docLink);\n",
              "        }\n",
              "      </script>\n",
              "    </div>\n",
              "  </div>\n",
              "  "
            ]
          },
          "metadata": {},
          "execution_count": 22
        }
      ]
    },
    {
      "cell_type": "markdown",
      "source": [
        "# 일별 확진자와 누적 확진자 시각화"
      ],
      "metadata": {
        "id": "MbPEAl_YiPOe"
      }
    },
    {
      "cell_type": "markdown",
      "source": [
        "첫 확진자가 발생한 날부터 현재 데이터상 존재하는 가장 최근 날짜까지 코로나 확진자 발생 추이를 그래프로 나타내보자\n",
        "\n",
        "확진자 데이터 : p_info"
      ],
      "metadata": {
        "id": "LnS17kQ0iZoB"
      }
    },
    {
      "cell_type": "code",
      "source": [
        "#데이터프레임 크기 확인\n",
        "p_info.shape"
      ],
      "metadata": {
        "colab": {
          "base_uri": "https://localhost:8080/"
        },
        "id": "82wgQsa5ikiM",
        "outputId": "727b752c-877d-42cc-8401-00bb6f8a74b4"
      },
      "execution_count": 24,
      "outputs": [
        {
          "output_type": "execute_result",
          "data": {
            "text/plain": [
              "(5165, 14)"
            ]
          },
          "metadata": {},
          "execution_count": 24
        }
      ]
    },
    {
      "cell_type": "code",
      "source": [
        "p_info.head()"
      ],
      "metadata": {
        "colab": {
          "base_uri": "https://localhost:8080/",
          "height": 340
        },
        "id": "604O6Lp9ix7c",
        "outputId": "8f51395b-719d-4d24-87f6-c910e57d94f3"
      },
      "execution_count": 25,
      "outputs": [
        {
          "output_type": "execute_result",
          "data": {
            "text/plain": [
              "   patient_id     sex  age country province         city  \\\n",
              "0  1000000001    male  50s   Korea    Seoul   Gangseo-gu   \n",
              "1  1000000002    male  30s   Korea    Seoul  Jungnang-gu   \n",
              "2  1000000003    male  50s   Korea    Seoul    Jongno-gu   \n",
              "3  1000000004    male  20s   Korea    Seoul      Mapo-gu   \n",
              "4  1000000005  female  20s   Korea    Seoul  Seongbuk-gu   \n",
              "\n",
              "         infection_case infected_by contact_number symptom_onset_date  \\\n",
              "0       overseas inflow         NaN             75         2020-01-22   \n",
              "1       overseas inflow         NaN             31                NaN   \n",
              "2  contact with patient  2002000001             17                NaN   \n",
              "3       overseas inflow         NaN              9         2020-01-26   \n",
              "4  contact with patient  1000000002              2                NaN   \n",
              "\n",
              "  confirmed_date released_date deceased_date     state  \n",
              "0     2020-01-23    2020-02-05           NaN  released  \n",
              "1     2020-01-30    2020-03-02           NaN  released  \n",
              "2     2020-01-30    2020-02-19           NaN  released  \n",
              "3     2020-01-30    2020-02-15           NaN  released  \n",
              "4     2020-01-31    2020-02-24           NaN  released  "
            ],
            "text/html": [
              "\n",
              "  <div id=\"df-9edcfcda-8eaf-4fa9-9fa1-410d839ff79e\">\n",
              "    <div class=\"colab-df-container\">\n",
              "      <div>\n",
              "<style scoped>\n",
              "    .dataframe tbody tr th:only-of-type {\n",
              "        vertical-align: middle;\n",
              "    }\n",
              "\n",
              "    .dataframe tbody tr th {\n",
              "        vertical-align: top;\n",
              "    }\n",
              "\n",
              "    .dataframe thead th {\n",
              "        text-align: right;\n",
              "    }\n",
              "</style>\n",
              "<table border=\"1\" class=\"dataframe\">\n",
              "  <thead>\n",
              "    <tr style=\"text-align: right;\">\n",
              "      <th></th>\n",
              "      <th>patient_id</th>\n",
              "      <th>sex</th>\n",
              "      <th>age</th>\n",
              "      <th>country</th>\n",
              "      <th>province</th>\n",
              "      <th>city</th>\n",
              "      <th>infection_case</th>\n",
              "      <th>infected_by</th>\n",
              "      <th>contact_number</th>\n",
              "      <th>symptom_onset_date</th>\n",
              "      <th>confirmed_date</th>\n",
              "      <th>released_date</th>\n",
              "      <th>deceased_date</th>\n",
              "      <th>state</th>\n",
              "    </tr>\n",
              "  </thead>\n",
              "  <tbody>\n",
              "    <tr>\n",
              "      <th>0</th>\n",
              "      <td>1000000001</td>\n",
              "      <td>male</td>\n",
              "      <td>50s</td>\n",
              "      <td>Korea</td>\n",
              "      <td>Seoul</td>\n",
              "      <td>Gangseo-gu</td>\n",
              "      <td>overseas inflow</td>\n",
              "      <td>NaN</td>\n",
              "      <td>75</td>\n",
              "      <td>2020-01-22</td>\n",
              "      <td>2020-01-23</td>\n",
              "      <td>2020-02-05</td>\n",
              "      <td>NaN</td>\n",
              "      <td>released</td>\n",
              "    </tr>\n",
              "    <tr>\n",
              "      <th>1</th>\n",
              "      <td>1000000002</td>\n",
              "      <td>male</td>\n",
              "      <td>30s</td>\n",
              "      <td>Korea</td>\n",
              "      <td>Seoul</td>\n",
              "      <td>Jungnang-gu</td>\n",
              "      <td>overseas inflow</td>\n",
              "      <td>NaN</td>\n",
              "      <td>31</td>\n",
              "      <td>NaN</td>\n",
              "      <td>2020-01-30</td>\n",
              "      <td>2020-03-02</td>\n",
              "      <td>NaN</td>\n",
              "      <td>released</td>\n",
              "    </tr>\n",
              "    <tr>\n",
              "      <th>2</th>\n",
              "      <td>1000000003</td>\n",
              "      <td>male</td>\n",
              "      <td>50s</td>\n",
              "      <td>Korea</td>\n",
              "      <td>Seoul</td>\n",
              "      <td>Jongno-gu</td>\n",
              "      <td>contact with patient</td>\n",
              "      <td>2002000001</td>\n",
              "      <td>17</td>\n",
              "      <td>NaN</td>\n",
              "      <td>2020-01-30</td>\n",
              "      <td>2020-02-19</td>\n",
              "      <td>NaN</td>\n",
              "      <td>released</td>\n",
              "    </tr>\n",
              "    <tr>\n",
              "      <th>3</th>\n",
              "      <td>1000000004</td>\n",
              "      <td>male</td>\n",
              "      <td>20s</td>\n",
              "      <td>Korea</td>\n",
              "      <td>Seoul</td>\n",
              "      <td>Mapo-gu</td>\n",
              "      <td>overseas inflow</td>\n",
              "      <td>NaN</td>\n",
              "      <td>9</td>\n",
              "      <td>2020-01-26</td>\n",
              "      <td>2020-01-30</td>\n",
              "      <td>2020-02-15</td>\n",
              "      <td>NaN</td>\n",
              "      <td>released</td>\n",
              "    </tr>\n",
              "    <tr>\n",
              "      <th>4</th>\n",
              "      <td>1000000005</td>\n",
              "      <td>female</td>\n",
              "      <td>20s</td>\n",
              "      <td>Korea</td>\n",
              "      <td>Seoul</td>\n",
              "      <td>Seongbuk-gu</td>\n",
              "      <td>contact with patient</td>\n",
              "      <td>1000000002</td>\n",
              "      <td>2</td>\n",
              "      <td>NaN</td>\n",
              "      <td>2020-01-31</td>\n",
              "      <td>2020-02-24</td>\n",
              "      <td>NaN</td>\n",
              "      <td>released</td>\n",
              "    </tr>\n",
              "  </tbody>\n",
              "</table>\n",
              "</div>\n",
              "      <button class=\"colab-df-convert\" onclick=\"convertToInteractive('df-9edcfcda-8eaf-4fa9-9fa1-410d839ff79e')\"\n",
              "              title=\"Convert this dataframe to an interactive table.\"\n",
              "              style=\"display:none;\">\n",
              "        \n",
              "  <svg xmlns=\"http://www.w3.org/2000/svg\" height=\"24px\"viewBox=\"0 0 24 24\"\n",
              "       width=\"24px\">\n",
              "    <path d=\"M0 0h24v24H0V0z\" fill=\"none\"/>\n",
              "    <path d=\"M18.56 5.44l.94 2.06.94-2.06 2.06-.94-2.06-.94-.94-2.06-.94 2.06-2.06.94zm-11 1L8.5 8.5l.94-2.06 2.06-.94-2.06-.94L8.5 2.5l-.94 2.06-2.06.94zm10 10l.94 2.06.94-2.06 2.06-.94-2.06-.94-.94-2.06-.94 2.06-2.06.94z\"/><path d=\"M17.41 7.96l-1.37-1.37c-.4-.4-.92-.59-1.43-.59-.52 0-1.04.2-1.43.59L10.3 9.45l-7.72 7.72c-.78.78-.78 2.05 0 2.83L4 21.41c.39.39.9.59 1.41.59.51 0 1.02-.2 1.41-.59l7.78-7.78 2.81-2.81c.8-.78.8-2.07 0-2.86zM5.41 20L4 18.59l7.72-7.72 1.47 1.35L5.41 20z\"/>\n",
              "  </svg>\n",
              "      </button>\n",
              "      \n",
              "  <style>\n",
              "    .colab-df-container {\n",
              "      display:flex;\n",
              "      flex-wrap:wrap;\n",
              "      gap: 12px;\n",
              "    }\n",
              "\n",
              "    .colab-df-convert {\n",
              "      background-color: #E8F0FE;\n",
              "      border: none;\n",
              "      border-radius: 50%;\n",
              "      cursor: pointer;\n",
              "      display: none;\n",
              "      fill: #1967D2;\n",
              "      height: 32px;\n",
              "      padding: 0 0 0 0;\n",
              "      width: 32px;\n",
              "    }\n",
              "\n",
              "    .colab-df-convert:hover {\n",
              "      background-color: #E2EBFA;\n",
              "      box-shadow: 0px 1px 2px rgba(60, 64, 67, 0.3), 0px 1px 3px 1px rgba(60, 64, 67, 0.15);\n",
              "      fill: #174EA6;\n",
              "    }\n",
              "\n",
              "    [theme=dark] .colab-df-convert {\n",
              "      background-color: #3B4455;\n",
              "      fill: #D2E3FC;\n",
              "    }\n",
              "\n",
              "    [theme=dark] .colab-df-convert:hover {\n",
              "      background-color: #434B5C;\n",
              "      box-shadow: 0px 1px 3px 1px rgba(0, 0, 0, 0.15);\n",
              "      filter: drop-shadow(0px 1px 2px rgba(0, 0, 0, 0.3));\n",
              "      fill: #FFFFFF;\n",
              "    }\n",
              "  </style>\n",
              "\n",
              "      <script>\n",
              "        const buttonEl =\n",
              "          document.querySelector('#df-9edcfcda-8eaf-4fa9-9fa1-410d839ff79e button.colab-df-convert');\n",
              "        buttonEl.style.display =\n",
              "          google.colab.kernel.accessAllowed ? 'block' : 'none';\n",
              "\n",
              "        async function convertToInteractive(key) {\n",
              "          const element = document.querySelector('#df-9edcfcda-8eaf-4fa9-9fa1-410d839ff79e');\n",
              "          const dataTable =\n",
              "            await google.colab.kernel.invokeFunction('convertToInteractive',\n",
              "                                                     [key], {});\n",
              "          if (!dataTable) return;\n",
              "\n",
              "          const docLinkHtml = 'Like what you see? Visit the ' +\n",
              "            '<a target=\"_blank\" href=https://colab.research.google.com/notebooks/data_table.ipynb>data table notebook</a>'\n",
              "            + ' to learn more about interactive tables.';\n",
              "          element.innerHTML = '';\n",
              "          dataTable['output_type'] = 'display_data';\n",
              "          await google.colab.output.renderOutput(dataTable, element);\n",
              "          const docLink = document.createElement('div');\n",
              "          docLink.innerHTML = docLinkHtml;\n",
              "          element.appendChild(docLink);\n",
              "        }\n",
              "      </script>\n",
              "    </div>\n",
              "  </div>\n",
              "  "
            ]
          },
          "metadata": {},
          "execution_count": 25
        }
      ]
    },
    {
      "cell_type": "code",
      "source": [
        "#데이터 프레임 정보 확인\n",
        "p_info.info()"
      ],
      "metadata": {
        "colab": {
          "base_uri": "https://localhost:8080/"
        },
        "id": "0HuSfjDhi0ZD",
        "outputId": "bcd92991-294b-4a4a-a365-2512cebb857f"
      },
      "execution_count": 26,
      "outputs": [
        {
          "output_type": "stream",
          "name": "stdout",
          "text": [
            "<class 'pandas.core.frame.DataFrame'>\n",
            "RangeIndex: 5165 entries, 0 to 5164\n",
            "Data columns (total 14 columns):\n",
            " #   Column              Non-Null Count  Dtype \n",
            "---  ------              --------------  ----- \n",
            " 0   patient_id          5165 non-null   int64 \n",
            " 1   sex                 4043 non-null   object\n",
            " 2   age                 3785 non-null   object\n",
            " 3   country             5165 non-null   object\n",
            " 4   province            5165 non-null   object\n",
            " 5   city                5071 non-null   object\n",
            " 6   infection_case      4246 non-null   object\n",
            " 7   infected_by         1346 non-null   object\n",
            " 8   contact_number      791 non-null    object\n",
            " 9   symptom_onset_date  690 non-null    object\n",
            " 10  confirmed_date      5162 non-null   object\n",
            " 11  released_date       1587 non-null   object\n",
            " 12  deceased_date       66 non-null     object\n",
            " 13  state               5165 non-null   object\n",
            "dtypes: int64(1), object(13)\n",
            "memory usage: 565.0+ KB\n"
          ]
        }
      ]
    },
    {
      "cell_type": "markdown",
      "source": [
        "non-null 데이터 수를 보아 일부 열에 NULL 값이 있는 것을 알 수 있다."
      ],
      "metadata": {
        "id": "N36O5uSIi9S_"
      }
    },
    {
      "cell_type": "code",
      "source": [
        "#확진 날짜 별 환자 카운트\n",
        "daily_count = p_info.groupby('confirmed_date').patient_id.count()\n",
        "daily_count"
      ],
      "metadata": {
        "colab": {
          "base_uri": "https://localhost:8080/"
        },
        "id": "aAo_Ce_HjJDo",
        "outputId": "af2afb6a-83ac-42c3-9085-fefebb52ccb9"
      },
      "execution_count": 27,
      "outputs": [
        {
          "output_type": "execute_result",
          "data": {
            "text/plain": [
              "confirmed_date\n",
              "2020-01-20     1\n",
              "2020-01-23     1\n",
              "2020-01-26     1\n",
              "2020-01-27     1\n",
              "2020-01-30     4\n",
              "              ..\n",
              "2020-06-26    40\n",
              "2020-06-27    48\n",
              "2020-06-28    38\n",
              "2020-06-29    25\n",
              "2020-06-30     7\n",
              "Name: patient_id, Length: 148, dtype: int64"
            ]
          },
          "metadata": {},
          "execution_count": 27
        }
      ]
    },
    {
      "cell_type": "markdown",
      "source": [
        "2020년 1월 20일부터 2020년 6월 30일까지의 데이터가 존재"
      ],
      "metadata": {
        "id": "GmP1AFL9jUgm"
      }
    },
    {
      "cell_type": "code",
      "source": [
        "type(daily_count)"
      ],
      "metadata": {
        "colab": {
          "base_uri": "https://localhost:8080/"
        },
        "id": "R-MLOylYjeDA",
        "outputId": "eec9a3e5-3ed8-474f-8458-b34374224568"
      },
      "execution_count": 28,
      "outputs": [
        {
          "output_type": "execute_result",
          "data": {
            "text/plain": [
              "pandas.core.series.Series"
            ]
          },
          "metadata": {},
          "execution_count": 28
        }
      ]
    },
    {
      "cell_type": "code",
      "source": [
        "daily_count.index"
      ],
      "metadata": {
        "colab": {
          "base_uri": "https://localhost:8080/"
        },
        "id": "Twigow1_jglF",
        "outputId": "25a5cd6c-405b-4b27-980a-2ace582e1adf"
      },
      "execution_count": 29,
      "outputs": [
        {
          "output_type": "execute_result",
          "data": {
            "text/plain": [
              "Index(['2020-01-20', '2020-01-23', '2020-01-26', '2020-01-27', '2020-01-30',\n",
              "       '2020-01-31', '2020-02-01', '2020-02-02', '2020-02-03', '2020-02-05',\n",
              "       ...\n",
              "       '2020-06-21', '2020-06-22', '2020-06-23', '2020-06-24', '2020-06-25',\n",
              "       '2020-06-26', '2020-06-27', '2020-06-28', '2020-06-29', '2020-06-30'],\n",
              "      dtype='object', name='confirmed_date', length=148)"
            ]
          },
          "metadata": {},
          "execution_count": 29
        }
      ]
    },
    {
      "cell_type": "code",
      "source": [
        "daily_count.values"
      ],
      "metadata": {
        "colab": {
          "base_uri": "https://localhost:8080/"
        },
        "id": "ppVje_4Sjjk4",
        "outputId": "99a8c94a-e4ac-4e9c-9760-3d9f46c32e94"
      },
      "execution_count": 30,
      "outputs": [
        {
          "output_type": "execute_result",
          "data": {
            "text/plain": [
              "array([  1,   1,   1,   1,   4,   3,   1,   3,   1,   5,   2,   1,   3,\n",
              "         1,   2,   9,  28,  42,  37,  72,  75,  57,  93, 122, 112, 137,\n",
              "       103, 133,  68, 113, 116, 145,  99,  57,  54,  69,  95,  51,  35,\n",
              "        35,  34,  37,  53,  44,  57,  50,  73,  38,  31,  23,  57,  47,\n",
              "        49,  49,  67,  55,  46,  78,  48,  59,  48,  43,  27,  22,  34,\n",
              "        24,  23,  16,  12,  18,  17,  20,  14,  11,  13,   5,   7,   6,\n",
              "        10,   7,   5,   8,   9,   5,  10,   6,   1,   4,   4,   9,   3,\n",
              "         2,   3,   8,  22,  30,  27,  28,  21,  29,  24,  10,  10,   7,\n",
              "        14,  27,  15,  11,  22,  20,  17,  14,  37,  77,  57,  37,  23,\n",
              "        32,  46,  44,  33,  39,  53,  52,  28,  38,  50,  38,  44,  49,\n",
              "        38,  25,  24,  40,  50,  42,  52,  41,  20,  15,  38,  25,  33,\n",
              "        40,  48,  38,  25,   7])"
            ]
          },
          "metadata": {},
          "execution_count": 30
        }
      ]
    },
    {
      "cell_type": "code",
      "source": [
        "#누적 확진자 계산\n",
        "accumulated_count = daily_count.cumsum()\n",
        "accumulated_count"
      ],
      "metadata": {
        "colab": {
          "base_uri": "https://localhost:8080/"
        },
        "id": "TR32qUhKjm2p",
        "outputId": "c9ef3007-382e-46f6-99e2-9224674d9245"
      },
      "execution_count": 31,
      "outputs": [
        {
          "output_type": "execute_result",
          "data": {
            "text/plain": [
              "confirmed_date\n",
              "2020-01-20       1\n",
              "2020-01-23       2\n",
              "2020-01-26       3\n",
              "2020-01-27       4\n",
              "2020-01-30       8\n",
              "              ... \n",
              "2020-06-26    5044\n",
              "2020-06-27    5092\n",
              "2020-06-28    5130\n",
              "2020-06-29    5155\n",
              "2020-06-30    5162\n",
              "Name: patient_id, Length: 148, dtype: int64"
            ]
          },
          "metadata": {},
          "execution_count": 31
        }
      ]
    },
    {
      "cell_type": "markdown",
      "source": [
        "## Series.plot"
      ],
      "metadata": {
        "id": "___PvO-mkS5P"
      }
    },
    {
      "cell_type": "code",
      "source": [
        "#시리즈 시각화\n",
        "plt.figure(figsize=(15,5))\n",
        "daily_count.plot()\n",
        "plt.title('Number of Daily Confirmed Patients')"
      ],
      "metadata": {
        "colab": {
          "base_uri": "https://localhost:8080/",
          "height": 279
        },
        "id": "qr0ZfsuBjwJL",
        "outputId": "1df7957d-2b42-476b-8381-a07a11fc1c69"
      },
      "execution_count": 32,
      "outputs": [
        {
          "output_type": "execute_result",
          "data": {
            "text/plain": [
              "Text(0.5, 1.0, 'Number of Daily Confirmed Patients')"
            ]
          },
          "metadata": {},
          "execution_count": 32
        },
        {
          "output_type": "display_data",
          "data": {
            "text/plain": [
              "<Figure size 1080x360 with 1 Axes>"
            ],
            "image/png": "[encoded data removed]"
          },
          "metadata": {
            "needs_background": "light"
          }
        }
      ]
    },
    {
      "cell_type": "code",
      "source": [
        "#누적 확진자 수 그래프\n",
        "plt.figure(figsize=(15,5))\n",
        "accumulated_count.plot()\n",
        "plt.title('Accumulated Number of Daily Confirmed Patients')"
      ],
      "metadata": {
        "colab": {
          "base_uri": "https://localhost:8080/",
          "height": 278
        },
        "id": "ZMqMkWEDj_t5",
        "outputId": "cfc1b5a5-95e3-4696-90e0-639931abf6bf"
      },
      "execution_count": 33,
      "outputs": [
        {
          "output_type": "execute_result",
          "data": {
            "text/plain": [
              "Text(0.5, 1.0, 'Accumulated Number of Daily Confirmed Patients')"
            ]
          },
          "metadata": {},
          "execution_count": 33
        },
        {
          "output_type": "display_data",
          "data": {
            "text/plain": [
              "<Figure size 1080x360 with 1 Axes>"
            ],
            "image/png": "[encoded data removed]"
          },
          "metadata": {
            "needs_background": "light"
          }
        }
      ]
    },
    {
      "cell_type": "markdown",
      "source": [
        "# 성별에 따른 확진자 통계 나타내기\n",
        "\n",
        "성별에 따른 확진자 통계를 바 차트로 나타내기"
      ],
      "metadata": {
        "id": "QLgghY_YkL3E"
      }
    },
    {
      "cell_type": "code",
      "source": [
        "p_info['sex']"
      ],
      "metadata": {
        "colab": {
          "base_uri": "https://localhost:8080/"
        },
        "id": "dxE29_A8kbo1",
        "outputId": "46ecb0f8-990a-4993-cb82-b4df3e166dc9"
      },
      "execution_count": 34,
      "outputs": [
        {
          "output_type": "execute_result",
          "data": {
            "text/plain": [
              "0         male\n",
              "1         male\n",
              "2         male\n",
              "3         male\n",
              "4       female\n",
              "         ...  \n",
              "5160    female\n",
              "5161       NaN\n",
              "5162       NaN\n",
              "5163       NaN\n",
              "5164       NaN\n",
              "Name: sex, Length: 5165, dtype: object"
            ]
          },
          "metadata": {},
          "execution_count": 34
        }
      ]
    },
    {
      "cell_type": "code",
      "source": [
        "#결측값 제외 카운트\n",
        "p_info['sex'].value_counts()"
      ],
      "metadata": {
        "colab": {
          "base_uri": "https://localhost:8080/"
        },
        "id": "454Rag1DkbmW",
        "outputId": "87f919a2-49a5-48d5-f250-3614582043bc"
      },
      "execution_count": 35,
      "outputs": [
        {
          "output_type": "execute_result",
          "data": {
            "text/plain": [
              "female    2218\n",
              "male      1825\n",
              "Name: sex, dtype: int64"
            ]
          },
          "metadata": {},
          "execution_count": 35
        }
      ]
    },
    {
      "cell_type": "markdown",
      "source": [
        "## sns.countplot"
      ],
      "metadata": {
        "id": "MVGArGiukxko"
      }
    },
    {
      "cell_type": "code",
      "source": [
        "sns.countplot(p_info['sex'])\n",
        "plt.title('Distribution of Male and Female')\n",
        "plt.xlabel('Sex')\n",
        "plt.ylabel('Number of Positives')\n",
        "plt.show()"
      ],
      "metadata": {
        "colab": {
          "base_uri": "https://localhost:8080/",
          "height": 351
        },
        "id": "SSZx2GkFkneF",
        "outputId": "3ca7f96a-2419-4b62-d2c0-8d4752e2eb87"
      },
      "execution_count": 36,
      "outputs": [
        {
          "output_type": "stream",
          "name": "stderr",
          "text": [
            "/usr/local/lib/python3.7/dist-packages/seaborn/_decorators.py:43: FutureWarning: Pass the following variable as a keyword arg: x. From version 0.12, the only valid positional argument will be `data`, and passing other arguments without an explicit keyword will result in an error or misinterpretation.\n",
            "  FutureWarning\n"
          ]
        },
        {
          "output_type": "display_data",
          "data": {
            "text/plain": [
              "<Figure size 432x288 with 1 Axes>"
            ],
            "image/png": "[encoded data removed]"
          },
          "metadata": {
            "needs_background": "light"
          }
        }
      ]
    },
    {
      "cell_type": "markdown",
      "source": [
        "# 감염 원인 통계 시각화"
      ],
      "metadata": {
        "id": "0figlFDXk_ww"
      }
    },
    {
      "cell_type": "markdown",
      "source": [
        "감염 원인 : p_info['infection_case']\n",
        "\n",
        "바 차트로 시각화"
      ],
      "metadata": {
        "id": "EJKN41Y-lD2a"
      }
    },
    {
      "cell_type": "code",
      "source": [
        "#감염 원인\n",
        "p_info.infection_case.unique()"
      ],
      "metadata": {
        "colab": {
          "base_uri": "https://localhost:8080/"
        },
        "id": "Jzefyy4mlf-7",
        "outputId": "7e529955-5c08-4f28-fd86-1caeda1c068b"
      },
      "execution_count": 38,
      "outputs": [
        {
          "output_type": "execute_result",
          "data": {
            "text/plain": [
              "array(['overseas inflow', 'contact with patient', 'Seongdong-gu APT',\n",
              "       'etc', \"Eunpyeong St. Mary's Hospital\", 'Shincheonji Church',\n",
              "       'Dongan Church', 'Guro-gu Call Center', nan, 'Itaewon Clubs',\n",
              "       'Samsung Medical Center', 'Biblical Language study meeting',\n",
              "       'Coupang Logistics Center', 'Guri Collective Infection',\n",
              "       'KB Life Insurance', 'Gangnam Dongin Church',\n",
              "       'Korea Campus Crusade of Christ',\n",
              "       'Yeongdeungpo Learning Institute', 'Yeonana News Class',\n",
              "       'SMR Newly Planted Churches Group', 'Seocho Family',\n",
              "       'Anyang Gunpo Pastors Group', 'Richway',\n",
              "       'Samsung Fire & Marine Insurance', 'Yangcheon Table Tennis Club',\n",
              "       'Yongin Brothers', 'Day Care Center',\n",
              "       'Geumcheon-gu rice milling machine manufacture', 'Daezayeon Korea',\n",
              "       'Orange Life', 'Daejeon door-to-door sales',\n",
              "       'Seoul City Hall Station safety worker', 'Uiwang Logistics Center',\n",
              "       'Wangsung Church', 'Gangnam Yeoksam-dong gathering',\n",
              "       'Onchun Church', 'Cheongdo Daenam Hospital',\n",
              "       'Suyeong-gu Kindergarten', 'Ministry of Oceans and Fisheries',\n",
              "       'Orange Town', 'Dunsan Electronics Town',\n",
              "       'gym facility in Cheonan', 'gym facility in Sejong',\n",
              "       'River of Grace Community Church', 'Gyeongsan Seorin Nursing Home',\n",
              "       'Gyeongsan Cham Joeun Community Center',\n",
              "       'Gyeongsan Jeil Silver Town', 'Bonghwa Pureun Nursing Home',\n",
              "       'Pilgrimage to Israel', 'Milal Shelter', 'Geochang Church',\n",
              "       'Changnyeong Coin Karaoke'], dtype=object)"
            ]
          },
          "metadata": {},
          "execution_count": 38
        }
      ]
    },
    {
      "cell_type": "code",
      "source": [
        "p_info.groupby('infection_case')['patient_id'].count().sort_values(ascending=False)"
      ],
      "metadata": {
        "colab": {
          "base_uri": "https://localhost:8080/"
        },
        "id": "Xgk8ASV_mvct",
        "outputId": "043dccca-0675-4246-a88f-84122dc98800"
      },
      "execution_count": 55,
      "outputs": [
        {
          "output_type": "execute_result",
          "data": {
            "text/plain": [
              "infection_case\n",
              "contact with patient                             1610\n",
              "overseas inflow                                   840\n",
              "etc                                               703\n",
              "Itaewon Clubs                                     162\n",
              "Richway                                           128\n",
              "Guro-gu Call Center                               112\n",
              "Shincheonji Church                                107\n",
              "Coupang Logistics Center                           80\n",
              "Yangcheon Table Tennis Club                        44\n",
              "Day Care Center                                    43\n",
              "SMR Newly Planted Churches Group                   36\n",
              "Onchun Church                                      33\n",
              "Bonghwa Pureun Nursing Home                        31\n",
              "gym facility in Cheonan                            30\n",
              "Ministry of Oceans and Fisheries                   28\n",
              "Wangsung Church                                    24\n",
              "Cheongdo Daenam Hospital                           21\n",
              "Dongan Church                                      17\n",
              "Eunpyeong St. Mary's Hospital                      16\n",
              "Gyeongsan Seorin Nursing Home                      15\n",
              "Seongdong-gu APT                                   13\n",
              "KB Life Insurance                                  13\n",
              "Dunsan Electronics Town                            13\n",
              "Gyeongsan Jeil Silver Town                         12\n",
              "Milal Shelter                                      11\n",
              "Gyeongsan Cham Joeun Community Center              10\n",
              "Samsung Medical Center                              7\n",
              "Korea Campus Crusade of Christ                      7\n",
              "Orange Town                                         7\n",
              "Geumcheon-gu rice milling machine manufacture       6\n",
              "Gangnam Yeoksam-dong gathering                      6\n",
              "Geochang Church                                     6\n",
              "Yeonana News Class                                  5\n",
              "Guri Collective Infection                           5\n",
              "Seocho Family                                       5\n",
              "Yongin Brothers                                     4\n",
              "gym facility in Sejong                              4\n",
              "Changnyeong Coin Karaoke                            4\n",
              "Samsung Fire & Marine Insurance                     4\n",
              "Suyeong-gu Kindergarten                             3\n",
              "Seoul City Hall Station safety worker               3\n",
              "Daezayeon Korea                                     3\n",
              "Yeongdeungpo Learning Institute                     3\n",
              "Biblical Language study meeting                     3\n",
              "Uiwang Logistics Center                             2\n",
              "Pilgrimage to Israel                                2\n",
              "River of Grace Community Church                     1\n",
              "Daejeon door-to-door sales                          1\n",
              "Orange Life                                         1\n",
              "Gangnam Dongin Church                               1\n",
              "Anyang Gunpo Pastors Group                          1\n",
              "Name: patient_id, dtype: int64"
            ]
          },
          "metadata": {},
          "execution_count": 55
        }
      ]
    },
    {
      "cell_type": "markdown",
      "source": [
        "## sns.countplot"
      ],
      "metadata": {
        "id": "EcjjSblplcod"
      }
    },
    {
      "cell_type": "code",
      "source": [
        "plt.figure(figsize=(15,5))\n",
        "ax = sns.countplot(p_info['infection_case'])\n",
        "ax.set_xticklabels(ax.get_xticklabels(), rotation=45, horizontalalignment='right')\n",
        "plt.title('Categories of Infection')\n",
        "plt.xlabel('Infection Types')\n",
        "plt.ylabel('Number of Positives')\n",
        "plt.show()"
      ],
      "metadata": {
        "colab": {
          "base_uri": "https://localhost:8080/",
          "height": 432
        },
        "id": "WHPoCi7hlMnj",
        "outputId": "8a14d2bb-5874-4268-ef07-4a720ee08799"
      },
      "execution_count": 56,
      "outputs": [
        {
          "output_type": "stream",
          "name": "stderr",
          "text": [
            "/usr/local/lib/python3.7/dist-packages/seaborn/_decorators.py:43: FutureWarning: Pass the following variable as a keyword arg: x. From version 0.12, the only valid positional argument will be `data`, and passing other arguments without an explicit keyword will result in an error or misinterpretation.\n",
            "  FutureWarning\n"
          ]
        },
        {
          "output_type": "display_data",
          "data": {
            "text/plain": [
              "<Figure size 1080x360 with 1 Axes>"
            ],
            "image/png": "[encoded data removed]"
          },
          "metadata": {
            "needs_background": "light"
          }
        }
      ]
    },
    {
      "cell_type": "markdown",
      "source": [
        "# 시도별 확진자 통계 시각화"
      ],
      "metadata": {
        "id": "-28Erk-PmdMG"
      }
    },
    {
      "cell_type": "markdown",
      "source": [
        "시도별 : p_info['province']\n",
        "\n",
        "바 차트로 시각화"
      ],
      "metadata": {
        "id": "u1EgS70Gnw6f"
      }
    },
    {
      "cell_type": "code",
      "source": [
        "p_info['province'].unique().tolist()"
      ],
      "metadata": {
        "colab": {
          "base_uri": "https://localhost:8080/"
        },
        "id": "olzk7JL6oEKC",
        "outputId": "d60d32ef-3703-402e-c6ba-21792e2d3ac1"
      },
      "execution_count": 61,
      "outputs": [
        {
          "output_type": "execute_result",
          "data": {
            "text/plain": [
              "['Seoul',\n",
              " 'Busan',\n",
              " 'Daegu',\n",
              " 'Gwangju',\n",
              " 'Incheon',\n",
              " 'Daejeon',\n",
              " 'Gyeonggi-do',\n",
              " 'Sejong',\n",
              " 'Ulsan',\n",
              " 'Gangwon-do',\n",
              " 'Chungcheongbuk-do',\n",
              " 'Chungcheongnam-do',\n",
              " 'Jeollabuk-do',\n",
              " 'Jeollanam-do',\n",
              " 'Gyeongsangbuk-do',\n",
              " 'Gyeongsangnam-do',\n",
              " 'Jeju-do']"
            ]
          },
          "metadata": {},
          "execution_count": 61
        }
      ]
    },
    {
      "cell_type": "markdown",
      "source": [
        "## sns.countplot"
      ],
      "metadata": {
        "id": "eSnyMpQqn61J"
      }
    },
    {
      "cell_type": "code",
      "source": [
        "plt.figure(figsize=(10,5))\n",
        "ax = sns.countplot(p_info['province'])\n",
        "ax.set_xticklabels(ax.get_xticklabels(), rotation=45, horizontalalignment='right')\n",
        "plt.title('Positives by Province')\n",
        "plt.xlabel('Province')\n",
        "plt.ylabel('Number of Positives')\n",
        "plt.show()"
      ],
      "metadata": {
        "colab": {
          "base_uri": "https://localhost:8080/",
          "height": 479
        },
        "id": "rP6d9oqpnq3p",
        "outputId": "c83292c8-ddca-4764-aaa0-8b434f919711"
      },
      "execution_count": 63,
      "outputs": [
        {
          "output_type": "stream",
          "name": "stderr",
          "text": [
            "/usr/local/lib/python3.7/dist-packages/seaborn/_decorators.py:43: FutureWarning: Pass the following variable as a keyword arg: x. From version 0.12, the only valid positional argument will be `data`, and passing other arguments without an explicit keyword will result in an error or misinterpretation.\n",
            "  FutureWarning\n"
          ]
        },
        {
          "output_type": "display_data",
          "data": {
            "text/plain": [
              "<Figure size 720x360 with 1 Axes>"
            ],
            "image/png": "[encoded data removed]"
          },
          "metadata": {
            "needs_background": "light"
          }
        }
      ]
    },
    {
      "cell_type": "markdown",
      "source": [
        "# 주요 도시별 확진자 비율\n",
        "\n",
        "각 도시별 확진자수 정보 : case"
      ],
      "metadata": {
        "id": "DOEwRx1FoSPk"
      }
    },
    {
      "cell_type": "code",
      "source": [
        "case.head(3)"
      ],
      "metadata": {
        "colab": {
          "base_uri": "https://localhost:8080/",
          "height": 260
        },
        "id": "wrCSYcBooZ8Y",
        "outputId": "38ab9ef0-3275-48be-8250-6f363ac9cb57"
      },
      "execution_count": 64,
      "outputs": [
        {
          "output_type": "execute_result",
          "data": {
            "text/plain": [
              "    case_id province        city  group       infection_case  confirmed  \\\n",
              "0   1000001    Seoul  Yongsan-gu   True        Itaewon Clubs        139   \n",
              "1   1000002    Seoul   Gwanak-gu   True              Richway        119   \n",
              "2   1000003    Seoul     Guro-gu   True  Guro-gu Call Center         95   \n",
              "\n",
              "    latitude   longitude  \n",
              "0  37.538621  126.992652  \n",
              "1   37.48208  126.901384  \n",
              "2  37.508163  126.884387  "
            ],
            "text/html": [
              "\n",
              "  <div id=\"df-f4aae005-d71a-4303-8222-5005440db70e\">\n",
              "    <div class=\"colab-df-container\">\n",
              "      <div>\n",
              "<style scoped>\n",
              "    .dataframe tbody tr th:only-of-type {\n",
              "        vertical-align: middle;\n",
              "    }\n",
              "\n",
              "    .dataframe tbody tr th {\n",
              "        vertical-align: top;\n",
              "    }\n",
              "\n",
              "    .dataframe thead th {\n",
              "        text-align: right;\n",
              "    }\n",
              "</style>\n",
              "<table border=\"1\" class=\"dataframe\">\n",
              "  <thead>\n",
              "    <tr style=\"text-align: right;\">\n",
              "      <th></th>\n",
              "      <th>case_id</th>\n",
              "      <th>province</th>\n",
              "      <th>city</th>\n",
              "      <th>group</th>\n",
              "      <th>infection_case</th>\n",
              "      <th>confirmed</th>\n",
              "      <th>latitude</th>\n",
              "      <th>longitude</th>\n",
              "    </tr>\n",
              "  </thead>\n",
              "  <tbody>\n",
              "    <tr>\n",
              "      <th>0</th>\n",
              "      <td>1000001</td>\n",
              "      <td>Seoul</td>\n",
              "      <td>Yongsan-gu</td>\n",
              "      <td>True</td>\n",
              "      <td>Itaewon Clubs</td>\n",
              "      <td>139</td>\n",
              "      <td>37.538621</td>\n",
              "      <td>126.992652</td>\n",
              "    </tr>\n",
              "    <tr>\n",
              "      <th>1</th>\n",
              "      <td>1000002</td>\n",
              "      <td>Seoul</td>\n",
              "      <td>Gwanak-gu</td>\n",
              "      <td>True</td>\n",
              "      <td>Richway</td>\n",
              "      <td>119</td>\n",
              "      <td>37.48208</td>\n",
              "      <td>126.901384</td>\n",
              "    </tr>\n",
              "    <tr>\n",
              "      <th>2</th>\n",
              "      <td>1000003</td>\n",
              "      <td>Seoul</td>\n",
              "      <td>Guro-gu</td>\n",
              "      <td>True</td>\n",
              "      <td>Guro-gu Call Center</td>\n",
              "      <td>95</td>\n",
              "      <td>37.508163</td>\n",
              "      <td>126.884387</td>\n",
              "    </tr>\n",
              "  </tbody>\n",
              "</table>\n",
              "</div>\n",
              "      <button class=\"colab-df-convert\" onclick=\"convertToInteractive('df-f4aae005-d71a-4303-8222-5005440db70e')\"\n",
              "              title=\"Convert this dataframe to an interactive table.\"\n",
              "              style=\"display:none;\">\n",
              "        \n",
              "  <svg xmlns=\"http://www.w3.org/2000/svg\" height=\"24px\"viewBox=\"0 0 24 24\"\n",
              "       width=\"24px\">\n",
              "    <path d=\"M0 0h24v24H0V0z\" fill=\"none\"/>\n",
              "    <path d=\"M18.56 5.44l.94 2.06.94-2.06 2.06-.94-2.06-.94-.94-2.06-.94 2.06-2.06.94zm-11 1L8.5 8.5l.94-2.06 2.06-.94-2.06-.94L8.5 2.5l-.94 2.06-2.06.94zm10 10l.94 2.06.94-2.06 2.06-.94-2.06-.94-.94-2.06-.94 2.06-2.06.94z\"/><path d=\"M17.41 7.96l-1.37-1.37c-.4-.4-.92-.59-1.43-.59-.52 0-1.04.2-1.43.59L10.3 9.45l-7.72 7.72c-.78.78-.78 2.05 0 2.83L4 21.41c.39.39.9.59 1.41.59.51 0 1.02-.2 1.41-.59l7.78-7.78 2.81-2.81c.8-.78.8-2.07 0-2.86zM5.41 20L4 18.59l7.72-7.72 1.47 1.35L5.41 20z\"/>\n",
              "  </svg>\n",
              "      </button>\n",
              "      \n",
              "  <style>\n",
              "    .colab-df-container {\n",
              "      display:flex;\n",
              "      flex-wrap:wrap;\n",
              "      gap: 12px;\n",
              "    }\n",
              "\n",
              "    .colab-df-convert {\n",
              "      background-color: #E8F0FE;\n",
              "      border: none;\n",
              "      border-radius: 50%;\n",
              "      cursor: pointer;\n",
              "      display: none;\n",
              "      fill: #1967D2;\n",
              "      height: 32px;\n",
              "      padding: 0 0 0 0;\n",
              "      width: 32px;\n",
              "    }\n",
              "\n",
              "    .colab-df-convert:hover {\n",
              "      background-color: #E2EBFA;\n",
              "      box-shadow: 0px 1px 2px rgba(60, 64, 67, 0.3), 0px 1px 3px 1px rgba(60, 64, 67, 0.15);\n",
              "      fill: #174EA6;\n",
              "    }\n",
              "\n",
              "    [theme=dark] .colab-df-convert {\n",
              "      background-color: #3B4455;\n",
              "      fill: #D2E3FC;\n",
              "    }\n",
              "\n",
              "    [theme=dark] .colab-df-convert:hover {\n",
              "      background-color: #434B5C;\n",
              "      box-shadow: 0px 1px 3px 1px rgba(0, 0, 0, 0.15);\n",
              "      filter: drop-shadow(0px 1px 2px rgba(0, 0, 0, 0.3));\n",
              "      fill: #FFFFFF;\n",
              "    }\n",
              "  </style>\n",
              "\n",
              "      <script>\n",
              "        const buttonEl =\n",
              "          document.querySelector('#df-f4aae005-d71a-4303-8222-5005440db70e button.colab-df-convert');\n",
              "        buttonEl.style.display =\n",
              "          google.colab.kernel.accessAllowed ? 'block' : 'none';\n",
              "\n",
              "        async function convertToInteractive(key) {\n",
              "          const element = document.querySelector('#df-f4aae005-d71a-4303-8222-5005440db70e');\n",
              "          const dataTable =\n",
              "            await google.colab.kernel.invokeFunction('convertToInteractive',\n",
              "                                                     [key], {});\n",
              "          if (!dataTable) return;\n",
              "\n",
              "          const docLinkHtml = 'Like what you see? Visit the ' +\n",
              "            '<a target=\"_blank\" href=https://colab.research.google.com/notebooks/data_table.ipynb>data table notebook</a>'\n",
              "            + ' to learn more about interactive tables.';\n",
              "          element.innerHTML = '';\n",
              "          dataTable['output_type'] = 'display_data';\n",
              "          await google.colab.output.renderOutput(dataTable, element);\n",
              "          const docLink = document.createElement('div');\n",
              "          docLink.innerHTML = docLinkHtml;\n",
              "          element.appendChild(docLink);\n",
              "        }\n",
              "      </script>\n",
              "    </div>\n",
              "  </div>\n",
              "  "
            ]
          },
          "metadata": {},
          "execution_count": 64
        }
      ]
    },
    {
      "cell_type": "code",
      "source": [
        "#대구시로 필터링\n",
        "case[case['province']=='Daegu']"
      ],
      "metadata": {
        "colab": {
          "base_uri": "https://localhost:8080/",
          "height": 583
        },
        "id": "RASqwvHbod60",
        "outputId": "12df1dd1-1195-4109-cb8a-e7c7cb32a305"
      },
      "execution_count": 65,
      "outputs": [
        {
          "output_type": "execute_result",
          "data": {
            "text/plain": [
              "     case_id province             city  group  \\\n",
              "48   1200001    Daegu           Nam-gu   True   \n",
              "49   1200002    Daegu     Dalseong-gun   True   \n",
              "50   1200003    Daegu           Seo-gu   True   \n",
              "51   1200004    Daegu     Dalseong-gun   True   \n",
              "52   1200005    Daegu          Dong-gu   True   \n",
              "53   1200006    Daegu  from other city   True   \n",
              "54   1200007    Daegu  from other city   True   \n",
              "55   1200008    Daegu                -  False   \n",
              "56   1200009    Daegu                -  False   \n",
              "57   1200010    Daegu                -  False   \n",
              "\n",
              "                     infection_case  confirmed   latitude   longitude  \n",
              "48               Shincheonji Church       4511   35.84008    128.5667  \n",
              "49            Second Mi-Ju Hospital        196  35.857375  128.466651  \n",
              "50  Hansarang Convalescent Hospital        124  35.885592  128.556649  \n",
              "51     Daesil Convalescent Hospital        101  35.857393  128.466653  \n",
              "52                  Fatima Hospital         39   35.88395  128.624059  \n",
              "53                    Itaewon Clubs          2          -           -  \n",
              "54         Cheongdo Daenam Hospital          2          -           -  \n",
              "55                  overseas inflow         41          -           -  \n",
              "56             contact with patient        917          -           -  \n",
              "57                              etc        747          -           -  "
            ],
            "text/html": [
              "\n",
              "  <div id=\"df-fc3c9b86-dfa6-4384-ae9e-1632b3854496\">\n",
              "    <div class=\"colab-df-container\">\n",
              "      <div>\n",
              "<style scoped>\n",
              "    .dataframe tbody tr th:only-of-type {\n",
              "        vertical-align: middle;\n",
              "    }\n",
              "\n",
              "    .dataframe tbody tr th {\n",
              "        vertical-align: top;\n",
              "    }\n",
              "\n",
              "    .dataframe thead th {\n",
              "        text-align: right;\n",
              "    }\n",
              "</style>\n",
              "<table border=\"1\" class=\"dataframe\">\n",
              "  <thead>\n",
              "    <tr style=\"text-align: right;\">\n",
              "      <th></th>\n",
              "      <th>case_id</th>\n",
              "      <th>province</th>\n",
              "      <th>city</th>\n",
              "      <th>group</th>\n",
              "      <th>infection_case</th>\n",
              "      <th>confirmed</th>\n",
              "      <th>latitude</th>\n",
              "      <th>longitude</th>\n",
              "    </tr>\n",
              "  </thead>\n",
              "  <tbody>\n",
              "    <tr>\n",
              "      <th>48</th>\n",
              "      <td>1200001</td>\n",
              "      <td>Daegu</td>\n",
              "      <td>Nam-gu</td>\n",
              "      <td>True</td>\n",
              "      <td>Shincheonji Church</td>\n",
              "      <td>4511</td>\n",
              "      <td>35.84008</td>\n",
              "      <td>128.5667</td>\n",
              "    </tr>\n",
              "    <tr>\n",
              "      <th>49</th>\n",
              "      <td>1200002</td>\n",
              "      <td>Daegu</td>\n",
              "      <td>Dalseong-gun</td>\n",
              "      <td>True</td>\n",
              "      <td>Second Mi-Ju Hospital</td>\n",
              "      <td>196</td>\n",
              "      <td>35.857375</td>\n",
              "      <td>128.466651</td>\n",
              "    </tr>\n",
              "    <tr>\n",
              "      <th>50</th>\n",
              "      <td>1200003</td>\n",
              "      <td>Daegu</td>\n",
              "      <td>Seo-gu</td>\n",
              "      <td>True</td>\n",
              "      <td>Hansarang Convalescent Hospital</td>\n",
              "      <td>124</td>\n",
              "      <td>35.885592</td>\n",
              "      <td>128.556649</td>\n",
              "    </tr>\n",
              "    <tr>\n",
              "      <th>51</th>\n",
              "      <td>1200004</td>\n",
              "      <td>Daegu</td>\n",
              "      <td>Dalseong-gun</td>\n",
              "      <td>True</td>\n",
              "      <td>Daesil Convalescent Hospital</td>\n",
              "      <td>101</td>\n",
              "      <td>35.857393</td>\n",
              "      <td>128.466653</td>\n",
              "    </tr>\n",
              "    <tr>\n",
              "      <th>52</th>\n",
              "      <td>1200005</td>\n",
              "      <td>Daegu</td>\n",
              "      <td>Dong-gu</td>\n",
              "      <td>True</td>\n",
              "      <td>Fatima Hospital</td>\n",
              "      <td>39</td>\n",
              "      <td>35.88395</td>\n",
              "      <td>128.624059</td>\n",
              "    </tr>\n",
              "    <tr>\n",
              "      <th>53</th>\n",
              "      <td>1200006</td>\n",
              "      <td>Daegu</td>\n",
              "      <td>from other city</td>\n",
              "      <td>True</td>\n",
              "      <td>Itaewon Clubs</td>\n",
              "      <td>2</td>\n",
              "      <td>-</td>\n",
              "      <td>-</td>\n",
              "    </tr>\n",
              "    <tr>\n",
              "      <th>54</th>\n",
              "      <td>1200007</td>\n",
              "      <td>Daegu</td>\n",
              "      <td>from other city</td>\n",
              "      <td>True</td>\n",
              "      <td>Cheongdo Daenam Hospital</td>\n",
              "      <td>2</td>\n",
              "      <td>-</td>\n",
              "      <td>-</td>\n",
              "    </tr>\n",
              "    <tr>\n",
              "      <th>55</th>\n",
              "      <td>1200008</td>\n",
              "      <td>Daegu</td>\n",
              "      <td>-</td>\n",
              "      <td>False</td>\n",
              "      <td>overseas inflow</td>\n",
              "      <td>41</td>\n",
              "      <td>-</td>\n",
              "      <td>-</td>\n",
              "    </tr>\n",
              "    <tr>\n",
              "      <th>56</th>\n",
              "      <td>1200009</td>\n",
              "      <td>Daegu</td>\n",
              "      <td>-</td>\n",
              "      <td>False</td>\n",
              "      <td>contact with patient</td>\n",
              "      <td>917</td>\n",
              "      <td>-</td>\n",
              "      <td>-</td>\n",
              "    </tr>\n",
              "    <tr>\n",
              "      <th>57</th>\n",
              "      <td>1200010</td>\n",
              "      <td>Daegu</td>\n",
              "      <td>-</td>\n",
              "      <td>False</td>\n",
              "      <td>etc</td>\n",
              "      <td>747</td>\n",
              "      <td>-</td>\n",
              "      <td>-</td>\n",
              "    </tr>\n",
              "  </tbody>\n",
              "</table>\n",
              "</div>\n",
              "      <button class=\"colab-df-convert\" onclick=\"convertToInteractive('df-fc3c9b86-dfa6-4384-ae9e-1632b3854496')\"\n",
              "              title=\"Convert this dataframe to an interactive table.\"\n",
              "              style=\"display:none;\">\n",
              "        \n",
              "  <svg xmlns=\"http://www.w3.org/2000/svg\" height=\"24px\"viewBox=\"0 0 24 24\"\n",
              "       width=\"24px\">\n",
              "    <path d=\"M0 0h24v24H0V0z\" fill=\"none\"/>\n",
              "    <path d=\"M18.56 5.44l.94 2.06.94-2.06 2.06-.94-2.06-.94-.94-2.06-.94 2.06-2.06.94zm-11 1L8.5 8.5l.94-2.06 2.06-.94-2.06-.94L8.5 2.5l-.94 2.06-2.06.94zm10 10l.94 2.06.94-2.06 2.06-.94-2.06-.94-.94-2.06-.94 2.06-2.06.94z\"/><path d=\"M17.41 7.96l-1.37-1.37c-.4-.4-.92-.59-1.43-.59-.52 0-1.04.2-1.43.59L10.3 9.45l-7.72 7.72c-.78.78-.78 2.05 0 2.83L4 21.41c.39.39.9.59 1.41.59.51 0 1.02-.2 1.41-.59l7.78-7.78 2.81-2.81c.8-.78.8-2.07 0-2.86zM5.41 20L4 18.59l7.72-7.72 1.47 1.35L5.41 20z\"/>\n",
              "  </svg>\n",
              "      </button>\n",
              "      \n",
              "  <style>\n",
              "    .colab-df-container {\n",
              "      display:flex;\n",
              "      flex-wrap:wrap;\n",
              "      gap: 12px;\n",
              "    }\n",
              "\n",
              "    .colab-df-convert {\n",
              "      background-color: #E8F0FE;\n",
              "      border: none;\n",
              "      border-radius: 50%;\n",
              "      cursor: pointer;\n",
              "      display: none;\n",
              "      fill: #1967D2;\n",
              "      height: 32px;\n",
              "      padding: 0 0 0 0;\n",
              "      width: 32px;\n",
              "    }\n",
              "\n",
              "    .colab-df-convert:hover {\n",
              "      background-color: #E2EBFA;\n",
              "      box-shadow: 0px 1px 2px rgba(60, 64, 67, 0.3), 0px 1px 3px 1px rgba(60, 64, 67, 0.15);\n",
              "      fill: #174EA6;\n",
              "    }\n",
              "\n",
              "    [theme=dark] .colab-df-convert {\n",
              "      background-color: #3B4455;\n",
              "      fill: #D2E3FC;\n",
              "    }\n",
              "\n",
              "    [theme=dark] .colab-df-convert:hover {\n",
              "      background-color: #434B5C;\n",
              "      box-shadow: 0px 1px 3px 1px rgba(0, 0, 0, 0.15);\n",
              "      filter: drop-shadow(0px 1px 2px rgba(0, 0, 0, 0.3));\n",
              "      fill: #FFFFFF;\n",
              "    }\n",
              "  </style>\n",
              "\n",
              "      <script>\n",
              "        const buttonEl =\n",
              "          document.querySelector('#df-fc3c9b86-dfa6-4384-ae9e-1632b3854496 button.colab-df-convert');\n",
              "        buttonEl.style.display =\n",
              "          google.colab.kernel.accessAllowed ? 'block' : 'none';\n",
              "\n",
              "        async function convertToInteractive(key) {\n",
              "          const element = document.querySelector('#df-fc3c9b86-dfa6-4384-ae9e-1632b3854496');\n",
              "          const dataTable =\n",
              "            await google.colab.kernel.invokeFunction('convertToInteractive',\n",
              "                                                     [key], {});\n",
              "          if (!dataTable) return;\n",
              "\n",
              "          const docLinkHtml = 'Like what you see? Visit the ' +\n",
              "            '<a target=\"_blank\" href=https://colab.research.google.com/notebooks/data_table.ipynb>data table notebook</a>'\n",
              "            + ' to learn more about interactive tables.';\n",
              "          element.innerHTML = '';\n",
              "          dataTable['output_type'] = 'display_data';\n",
              "          await google.colab.output.renderOutput(dataTable, element);\n",
              "          const docLink = document.createElement('div');\n",
              "          docLink.innerHTML = docLinkHtml;\n",
              "          element.appendChild(docLink);\n",
              "        }\n",
              "      </script>\n",
              "    </div>\n",
              "  </div>\n",
              "  "
            ]
          },
          "metadata": {},
          "execution_count": 65
        }
      ]
    },
    {
      "cell_type": "markdown",
      "source": [
        "## sns.barplot1\n",
        "\n",
        "provine가 대구인 바차트"
      ],
      "metadata": {
        "id": "8QgEbVSkoydt"
      }
    },
    {
      "cell_type": "code",
      "source": [
        "sns.barplot(x='confirmed', y='city', data=case[case['province']=='Daegu'], ci=None).set(xlabel='Confirmed', ylabel='Districts', title='Case in Daegu')"
      ],
      "metadata": {
        "colab": {
          "base_uri": "https://localhost:8080/",
          "height": 349
        },
        "id": "BjqjNDcZo24J",
        "outputId": "eb77f403-0989-442a-a2cc-43efc54a679d"
      },
      "execution_count": 66,
      "outputs": [
        {
          "output_type": "execute_result",
          "data": {
            "text/plain": [
              "[Text(0, 0.5, 'Districts'),\n",
              " Text(0.5, 0, 'Confirmed'),\n",
              " Text(0.5, 1.0, 'Case in Daegu')]"
            ]
          },
          "metadata": {},
          "execution_count": 66
        },
        {
          "output_type": "display_data",
          "data": {
            "text/plain": [
              "<Figure size 432x288 with 1 Axes>"
            ],
            "image/png": "[encoded data removed]"
          },
          "metadata": {
            "needs_background": "light"
          }
        }
      ]
    },
    {
      "cell_type": "markdown",
      "source": [
        "## sns.barplot2\n",
        "\n",
        "감염 원인이 신천지 교회인 경우 바차트"
      ],
      "metadata": {
        "id": "g5xvr-dMpVBT"
      }
    },
    {
      "cell_type": "code",
      "source": [
        "#감염 원인이 신천지 교회인 데이터만 시각화\n",
        "sns.barplot(x='confirmed', y='city', data=case[case['infection_case']=='Shincheonji Church'], ci=None).set(xlabel='Confirmed', ylabel='Districts', title='Shincheonji Church')"
      ],
      "metadata": {
        "colab": {
          "base_uri": "https://localhost:8080/",
          "height": 349
        },
        "id": "kSwpxk-mpk4X",
        "outputId": "b8323066-5c0e-42b1-f528-0f237d48f29f"
      },
      "execution_count": 68,
      "outputs": [
        {
          "output_type": "execute_result",
          "data": {
            "text/plain": [
              "[Text(0, 0.5, 'Districts'),\n",
              " Text(0.5, 0, 'Confirmed'),\n",
              " Text(0.5, 1.0, 'Shincheonji Church')]"
            ]
          },
          "metadata": {},
          "execution_count": 68
        },
        {
          "output_type": "display_data",
          "data": {
            "text/plain": [
              "<Figure size 432x288 with 1 Axes>"
            ],
            "image/png": "[encoded data removed]"
          },
          "metadata": {
            "needs_background": "light"
          }
        }
      ]
    },
    {
      "cell_type": "markdown",
      "source": [
        "## sns.barplot sum\n",
        "\n",
        "감염원인이 신천지 교회인 경우의 합계 바 차트"
      ],
      "metadata": {
        "id": "jumpgmzYqJiC"
      }
    },
    {
      "cell_type": "code",
      "source": [
        "#합계에 대한 바 차트\n",
        "sns.barplot(x='confirmed', y='city', data=case[case['infection_case']=='Shincheonji Church'], ci=None, estimator=sum).set(xlabel='Confirmed', ylabel='Districts', title='Shincheonji Church')"
      ],
      "metadata": {
        "colab": {
          "base_uri": "https://localhost:8080/",
          "height": 349
        },
        "id": "l5zfQkFoqL7I",
        "outputId": "fdf28ea6-846c-44f8-cdfb-1856a60714d8"
      },
      "execution_count": 70,
      "outputs": [
        {
          "output_type": "execute_result",
          "data": {
            "text/plain": [
              "[Text(0, 0.5, 'Districts'),\n",
              " Text(0.5, 0, 'Confirmed'),\n",
              " Text(0.5, 1.0, 'Shincheonji Church')]"
            ]
          },
          "metadata": {},
          "execution_count": 70
        },
        {
          "output_type": "display_data",
          "data": {
            "text/plain": [
              "<Figure size 432x288 with 1 Axes>"
            ],
            "image/png": "[encoded data removed]"
          },
          "metadata": {
            "needs_background": "light"
          }
        }
      ]
    },
    {
      "cell_type": "markdown",
      "source": [
        "## sns.barplot3\n",
        "\n",
        "서울시의 확진자 바차트"
      ],
      "metadata": {
        "id": "40ujj2EsqQsx"
      }
    },
    {
      "cell_type": "code",
      "source": [
        "sns.barplot(x='confirmed', y='city', data=case[case['province']=='Seoul'], ci=None).set(xlabel='Confirmed', ylabel='Districts', title='Case in Seoul')"
      ],
      "metadata": {
        "colab": {
          "base_uri": "https://localhost:8080/",
          "height": 349
        },
        "id": "I0TmlYRHqhKt",
        "outputId": "17e353ed-715c-454f-b01c-01f62e385dc7"
      },
      "execution_count": 71,
      "outputs": [
        {
          "output_type": "execute_result",
          "data": {
            "text/plain": [
              "[Text(0, 0.5, 'Districts'),\n",
              " Text(0.5, 0, 'Confirmed'),\n",
              " Text(0.5, 1.0, 'Case in Seoul')]"
            ]
          },
          "metadata": {},
          "execution_count": 71
        },
        {
          "output_type": "display_data",
          "data": {
            "text/plain": [
              "<Figure size 432x288 with 1 Axes>"
            ],
            "image/png": "[encoded data removed]"
          },
          "metadata": {
            "needs_background": "light"
          }
        }
      ]
    },
    {
      "cell_type": "markdown",
      "source": [
        "# 성별과 연령대별 확진자 통계"
      ],
      "metadata": {
        "id": "UFKVL6yoq2Dz"
      }
    },
    {
      "cell_type": "markdown",
      "source": [
        "성별과 연령대 별 확진자 통계를 파이 차트를 통해 시각화\n",
        "\n",
        "t_gender 데이터 프레임에 날짜별 여성과 남성 누적 확진자 수가 기록되어 있다.\n",
        "\n",
        "t_age 데이터 프레임에 연령대별 누적 확진자 수가 기록되어 있다."
      ],
      "metadata": {
        "id": "mSU3KOwgq9xZ"
      }
    },
    {
      "cell_type": "markdown",
      "source": [
        "먼저, 성별 파이 차트"
      ],
      "metadata": {
        "id": "ThQrddR7sGqN"
      }
    },
    {
      "cell_type": "code",
      "source": [
        "#마지막 날짜 확인\n",
        "t_gender.tail(3)"
      ],
      "metadata": {
        "colab": {
          "base_uri": "https://localhost:8080/",
          "height": 143
        },
        "id": "-gxZMsLlrH72",
        "outputId": "6c8e6e1a-a9ba-48eb-a8e2-a5ad54a2c01f"
      },
      "execution_count": 72,
      "outputs": [
        {
          "output_type": "execute_result",
          "data": {
            "text/plain": [
              "           date  time     sex  confirmed  deceased\n",
              "239  2020-06-29     0  female       7287       131\n",
              "240  2020-06-30     0    male       5495       151\n",
              "241  2020-06-30     0  female       7305       131"
            ],
            "text/html": [
              "\n",
              "  <div id=\"df-fa0ddc84-32eb-4e6d-ab94-b0ac3c0e6476\">\n",
              "    <div class=\"colab-df-container\">\n",
              "      <div>\n",
              "<style scoped>\n",
              "    .dataframe tbody tr th:only-of-type {\n",
              "        vertical-align: middle;\n",
              "    }\n",
              "\n",
              "    .dataframe tbody tr th {\n",
              "        vertical-align: top;\n",
              "    }\n",
              "\n",
              "    .dataframe thead th {\n",
              "        text-align: right;\n",
              "    }\n",
              "</style>\n",
              "<table border=\"1\" class=\"dataframe\">\n",
              "  <thead>\n",
              "    <tr style=\"text-align: right;\">\n",
              "      <th></th>\n",
              "      <th>date</th>\n",
              "      <th>time</th>\n",
              "      <th>sex</th>\n",
              "      <th>confirmed</th>\n",
              "      <th>deceased</th>\n",
              "    </tr>\n",
              "  </thead>\n",
              "  <tbody>\n",
              "    <tr>\n",
              "      <th>239</th>\n",
              "      <td>2020-06-29</td>\n",
              "      <td>0</td>\n",
              "      <td>female</td>\n",
              "      <td>7287</td>\n",
              "      <td>131</td>\n",
              "    </tr>\n",
              "    <tr>\n",
              "      <th>240</th>\n",
              "      <td>2020-06-30</td>\n",
              "      <td>0</td>\n",
              "      <td>male</td>\n",
              "      <td>5495</td>\n",
              "      <td>151</td>\n",
              "    </tr>\n",
              "    <tr>\n",
              "      <th>241</th>\n",
              "      <td>2020-06-30</td>\n",
              "      <td>0</td>\n",
              "      <td>female</td>\n",
              "      <td>7305</td>\n",
              "      <td>131</td>\n",
              "    </tr>\n",
              "  </tbody>\n",
              "</table>\n",
              "</div>\n",
              "      <button class=\"colab-df-convert\" onclick=\"convertToInteractive('df-fa0ddc84-32eb-4e6d-ab94-b0ac3c0e6476')\"\n",
              "              title=\"Convert this dataframe to an interactive table.\"\n",
              "              style=\"display:none;\">\n",
              "        \n",
              "  <svg xmlns=\"http://www.w3.org/2000/svg\" height=\"24px\"viewBox=\"0 0 24 24\"\n",
              "       width=\"24px\">\n",
              "    <path d=\"M0 0h24v24H0V0z\" fill=\"none\"/>\n",
              "    <path d=\"M18.56 5.44l.94 2.06.94-2.06 2.06-.94-2.06-.94-.94-2.06-.94 2.06-2.06.94zm-11 1L8.5 8.5l.94-2.06 2.06-.94-2.06-.94L8.5 2.5l-.94 2.06-2.06.94zm10 10l.94 2.06.94-2.06 2.06-.94-2.06-.94-.94-2.06-.94 2.06-2.06.94z\"/><path d=\"M17.41 7.96l-1.37-1.37c-.4-.4-.92-.59-1.43-.59-.52 0-1.04.2-1.43.59L10.3 9.45l-7.72 7.72c-.78.78-.78 2.05 0 2.83L4 21.41c.39.39.9.59 1.41.59.51 0 1.02-.2 1.41-.59l7.78-7.78 2.81-2.81c.8-.78.8-2.07 0-2.86zM5.41 20L4 18.59l7.72-7.72 1.47 1.35L5.41 20z\"/>\n",
              "  </svg>\n",
              "      </button>\n",
              "      \n",
              "  <style>\n",
              "    .colab-df-container {\n",
              "      display:flex;\n",
              "      flex-wrap:wrap;\n",
              "      gap: 12px;\n",
              "    }\n",
              "\n",
              "    .colab-df-convert {\n",
              "      background-color: #E8F0FE;\n",
              "      border: none;\n",
              "      border-radius: 50%;\n",
              "      cursor: pointer;\n",
              "      display: none;\n",
              "      fill: #1967D2;\n",
              "      height: 32px;\n",
              "      padding: 0 0 0 0;\n",
              "      width: 32px;\n",
              "    }\n",
              "\n",
              "    .colab-df-convert:hover {\n",
              "      background-color: #E2EBFA;\n",
              "      box-shadow: 0px 1px 2px rgba(60, 64, 67, 0.3), 0px 1px 3px 1px rgba(60, 64, 67, 0.15);\n",
              "      fill: #174EA6;\n",
              "    }\n",
              "\n",
              "    [theme=dark] .colab-df-convert {\n",
              "      background-color: #3B4455;\n",
              "      fill: #D2E3FC;\n",
              "    }\n",
              "\n",
              "    [theme=dark] .colab-df-convert:hover {\n",
              "      background-color: #434B5C;\n",
              "      box-shadow: 0px 1px 3px 1px rgba(0, 0, 0, 0.15);\n",
              "      filter: drop-shadow(0px 1px 2px rgba(0, 0, 0, 0.3));\n",
              "      fill: #FFFFFF;\n",
              "    }\n",
              "  </style>\n",
              "\n",
              "      <script>\n",
              "        const buttonEl =\n",
              "          document.querySelector('#df-fa0ddc84-32eb-4e6d-ab94-b0ac3c0e6476 button.colab-df-convert');\n",
              "        buttonEl.style.display =\n",
              "          google.colab.kernel.accessAllowed ? 'block' : 'none';\n",
              "\n",
              "        async function convertToInteractive(key) {\n",
              "          const element = document.querySelector('#df-fa0ddc84-32eb-4e6d-ab94-b0ac3c0e6476');\n",
              "          const dataTable =\n",
              "            await google.colab.kernel.invokeFunction('convertToInteractive',\n",
              "                                                     [key], {});\n",
              "          if (!dataTable) return;\n",
              "\n",
              "          const docLinkHtml = 'Like what you see? Visit the ' +\n",
              "            '<a target=\"_blank\" href=https://colab.research.google.com/notebooks/data_table.ipynb>data table notebook</a>'\n",
              "            + ' to learn more about interactive tables.';\n",
              "          element.innerHTML = '';\n",
              "          dataTable['output_type'] = 'display_data';\n",
              "          await google.colab.output.renderOutput(dataTable, element);\n",
              "          const docLink = document.createElement('div');\n",
              "          docLink.innerHTML = docLinkHtml;\n",
              "          element.appendChild(docLink);\n",
              "        }\n",
              "      </script>\n",
              "    </div>\n",
              "  </div>\n",
              "  "
            ]
          },
          "metadata": {},
          "execution_count": 72
        }
      ]
    },
    {
      "cell_type": "code",
      "source": [
        "#필요한 데이터 마지막 두 데이터\n",
        "pie_values = t_gender[t_gender.date=='2020-06-30'].confirmed.values.tolist()\n",
        "pie_labels = ['male','female']\n",
        "print(pie_values)\n",
        "print(pie_labels)"
      ],
      "metadata": {
        "colab": {
          "base_uri": "https://localhost:8080/"
        },
        "id": "8BajFt63rKR2",
        "outputId": "2959e8ab-22d1-4c91-ee45-ca3351e23918"
      },
      "execution_count": 74,
      "outputs": [
        {
          "output_type": "stream",
          "name": "stdout",
          "text": [
            "[5495, 7305]\n",
            "['male', 'female']\n"
          ]
        }
      ]
    },
    {
      "cell_type": "markdown",
      "source": [
        "## plt.pie 성별"
      ],
      "metadata": {
        "id": "XwnFdW4ZrexC"
      }
    },
    {
      "cell_type": "code",
      "source": [
        "plt.pie(pie_values, labels=pie_labels, autopct='%.02f%%')\n",
        "plt.title('Confirmed Case (2020-06-30)')\n",
        "plt.show()"
      ],
      "metadata": {
        "colab": {
          "base_uri": "https://localhost:8080/",
          "height": 264
        },
        "id": "dhqz-SaHrqju",
        "outputId": "1a1d59ff-e8cd-4797-8648-b4760b37c3a7"
      },
      "execution_count": 75,
      "outputs": [
        {
          "output_type": "display_data",
          "data": {
            "text/plain": [
              "<Figure size 432x288 with 1 Axes>"
            ],
            "image/png": "[encoded data removed]"
          },
          "metadata": {}
        }
      ]
    },
    {
      "cell_type": "markdown",
      "source": [
        "다음, 연령대별 파이 차트"
      ],
      "metadata": {
        "id": "l3ypE1sjsKo4"
      }
    },
    {
      "cell_type": "code",
      "source": [
        "age_data = t_age[t_age['date']=='2020-06-30']\n",
        "pie_values = age_data.confirmed.values.tolist()\n",
        "pie_labels = age_data.age.values.tolist()\n",
        "print(pie_values)\n",
        "print(pie_labels)"
      ],
      "metadata": {
        "colab": {
          "base_uri": "https://localhost:8080/"
        },
        "id": "Y9zhhLmUsKUQ",
        "outputId": "2a541cbe-2791-45cb-cec5-d37d17ab810b"
      },
      "execution_count": 77,
      "outputs": [
        {
          "output_type": "stream",
          "name": "stdout",
          "text": [
            "[193, 708, 3362, 1496, 1681, 2286, 1668, 850, 556]\n",
            "['0s', '10s', '20s', '30s', '40s', '50s', '60s', '70s', '80s']\n"
          ]
        }
      ]
    },
    {
      "cell_type": "markdown",
      "source": [
        "## plt.pie 연령대별"
      ],
      "metadata": {
        "id": "Na38ysNNswI4"
      }
    },
    {
      "cell_type": "code",
      "source": [
        "plt.pie(pie_values, labels=pie_labels, autopct='%.02f%%')\n",
        "plt.title('Confirmed Case (2020-06-30)')\n",
        "plt.show()"
      ],
      "metadata": {
        "colab": {
          "base_uri": "https://localhost:8080/",
          "height": 264
        },
        "id": "A2JFDog8sxq0",
        "outputId": "8d4422a9-bdb1-4667-d786-bc48e1289eeb"
      },
      "execution_count": 78,
      "outputs": [
        {
          "output_type": "display_data",
          "data": {
            "text/plain": [
              "<Figure size 432x288 with 1 Axes>"
            ],
            "image/png": "[encoded data removed]"
          },
          "metadata": {}
        }
      ]
    }
  ]
}